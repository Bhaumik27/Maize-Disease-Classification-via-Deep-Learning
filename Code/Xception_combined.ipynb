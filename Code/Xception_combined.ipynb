{
 "cells": [
  {
   "cell_type": "code",
   "execution_count": 1,
   "id": "80cd3e22",
   "metadata": {},
   "outputs": [
    {
     "name": "stderr",
     "output_type": "stream",
     "text": [
      "2024-05-14 08:54:55.487588: I tensorflow/core/platform/cpu_feature_guard.cc:182] This TensorFlow binary is optimized to use available CPU instructions in performance-critical operations.\n",
      "To enable the following instructions: AVX2 FMA, in other operations, rebuild TensorFlow with the appropriate compiler flags.\n",
      "/Library/Frameworks/Python.framework/Versions/3.9/lib/python3.9/site-packages/scipy/__init__.py:155: UserWarning: A NumPy version >=1.18.5 and <1.25.0 is required for this version of SciPy (detected version 1.26.3\n",
      "  warnings.warn(f\"A NumPy version >={np_minversion} and <{np_maxversion}\"\n"
     ]
    }
   ],
   "source": [
    "import numpy as np\n",
    "import pickle\n",
    "import cv2\n",
    "import tensorflow as tf\n",
    "from os import listdir\n",
    "from sklearn.preprocessing import LabelBinarizer\n",
    "from keras.models import Sequential\n",
    "from tensorflow.keras.layers import BatchNormalization, Conv2D, MaxPooling2D, Activation, Flatten, Dropout, Dense\n",
    "from keras import backend as K\n",
    "from keras.preprocessing.image import ImageDataGenerator\n",
    "from keras.optimizers import Adam\n",
    "from keras.preprocessing import image\n",
    "from keras.preprocessing.image import img_to_array\n",
    "from sklearn.preprocessing import MultiLabelBinarizer\n",
    "from sklearn.model_selection import train_test_split\n",
    "import matplotlib.pyplot as plt\n",
    "from keras.applications import Xception\n",
    "from keras.layers import GlobalAveragePooling2D, Dense\n",
    "\n",
    "import os\n",
    "os.environ['TF_CPP_MIN_LOG_LEVEL'] = '2'"
   ]
  },
  {
   "cell_type": "code",
   "execution_count": 2,
   "id": "ad800731",
   "metadata": {},
   "outputs": [],
   "source": [
    "EPOCHS = 50\n",
    "INIT_LR = 1e-3\n",
    "BS = 16\n",
    "default_image_size = tuple((71, 71))\n",
    "image_size = 0\n",
    "width=71\n",
    "height=71\n",
    "depth=3\n",
    "image_size = 0\n",
    "directory_root = 'Combined Data'"
   ]
  },
  {
   "cell_type": "code",
   "execution_count": 3,
   "id": "eaf23bc1",
   "metadata": {},
   "outputs": [],
   "source": [
    "def convert_image_to_array(image_dir):\n",
    "    try:\n",
    "        image = cv2.imread(image_dir)\n",
    "        if image is not None :\n",
    "            image = cv2.resize(image, default_image_size)   \n",
    "            return img_to_array(image)\n",
    "        else :\n",
    "            return np.array([])\n",
    "    except Exception as e:\n",
    "        print(\"Error :\", e)\n",
    "        return None"
   ]
  },
  {
   "cell_type": "code",
   "execution_count": 4,
   "id": "3e2d1e65",
   "metadata": {},
   "outputs": [
    {
     "name": "stdout",
     "output_type": "stream",
     "text": [
      "[INFO] Loading images ...\n",
      "[INFO] Processing Maize_Common_Rust ...\n",
      "[INFO] Processing MLN ...\n",
      "[INFO] Processing HEATHLY ...\n",
      "[INFO] Processing MSV ...\n",
      "[INFO] Processing Maize_Blight ...\n",
      "[INFO] Processing Maize_Gray_Leaf_Spot ...\n",
      "[INFO] Image loading completed\n"
     ]
    }
   ],
   "source": [
    "image_list, label_list = [], []\n",
    "try:\n",
    "    print(\"[INFO] Loading images ...\")\n",
    "    root_dir = listdir(directory_root)\n",
    "    for directory in root_dir :\n",
    "        # remove .DS_Store from list\n",
    "        if directory == \".DS_Store\" :\n",
    "            root_dir.remove(directory)\n",
    "\n",
    "    for plant_folder in root_dir :\n",
    "       \n",
    "        plant_disease_folder_list = listdir(f\"{directory_root}/{plant_folder}\")\n",
    "        \n",
    "        for disease_folder in plant_disease_folder_list :\n",
    "            # remove .DS_Store from list\n",
    "            if disease_folder == \".DS_Store\" :\n",
    "                plant_disease_folder_list.remove(disease_folder)\n",
    "\n",
    "        for plant_disease_folder in plant_disease_folder_list:\n",
    "            print(f\"[INFO] Processing {plant_disease_folder} ...\")\n",
    "            plant_disease_image_list = listdir(f\"{directory_root}/{plant_folder}/{plant_disease_folder}/\")\n",
    "                \n",
    "            for single_plant_disease_image in plant_disease_image_list :\n",
    "                if single_plant_disease_image == \".DS_Store\" :\n",
    "                    plant_disease_image_list.remove(single_plant_disease_image)\n",
    "\n",
    "            for image in plant_disease_image_list:\n",
    "                image_directory = f\"{directory_root}/{plant_folder}/{plant_disease_folder}/{image}\"\n",
    "                if image_directory.endswith(\".jpg\") == True or image_directory.endswith(\".JPG\") == True:\n",
    "                    image_list.append(convert_image_to_array(image_directory))\n",
    "                    label_list.append(plant_disease_folder)\n",
    "    print(\"[INFO] Image loading completed\")  \n",
    "except Exception as e:\n",
    "    print(f\"Error : {e}\")"
   ]
  },
  {
   "cell_type": "code",
   "execution_count": 5,
   "id": "80611b93",
   "metadata": {},
   "outputs": [
    {
     "name": "stdout",
     "output_type": "stream",
     "text": [
      "6000\n"
     ]
    }
   ],
   "source": [
    "image_size = len(image_list)\n",
    "print(image_size)"
   ]
  },
  {
   "cell_type": "code",
   "execution_count": 6,
   "id": "0976a68b",
   "metadata": {},
   "outputs": [
    {
     "name": "stdout",
     "output_type": "stream",
     "text": [
      "['HEATHLY' 'MLN' 'MSV' 'Maize_Blight' 'Maize_Common_Rust'\n",
      " 'Maize_Gray_Leaf_Spot']\n"
     ]
    }
   ],
   "source": [
    "label_binarizer = LabelBinarizer()\n",
    "image_labels = label_binarizer.fit_transform(label_list)\n",
    "pickle.dump(label_binarizer,open('label_transform.pkl', 'wb'))\n",
    "n_classes = len(label_binarizer.classes_)\n",
    "print(label_binarizer.classes_)"
   ]
  },
  {
   "cell_type": "code",
   "execution_count": 7,
   "id": "befc8e60",
   "metadata": {},
   "outputs": [],
   "source": [
    "np_image_list = np.array(image_list, dtype=np.float16) / 225.0"
   ]
  },
  {
   "cell_type": "code",
   "execution_count": 8,
   "id": "4719f0d6",
   "metadata": {},
   "outputs": [
    {
     "name": "stdout",
     "output_type": "stream",
     "text": [
      "[INFO] Spliting data to train, test\n"
     ]
    }
   ],
   "source": [
    "print(\"[INFO] Spliting data to train, test\")\n",
    "x_train, x_test, y_train, y_test = train_test_split(np_image_list, image_labels, test_size=0.20, random_state = 42)"
   ]
  },
  {
   "cell_type": "code",
   "execution_count": 9,
   "id": "61d0c9a4",
   "metadata": {},
   "outputs": [],
   "source": [
    "aug = ImageDataGenerator(\n",
    "    rotation_range=25, width_shift_range=0.1,\n",
    "    height_shift_range=0.1, shear_range=0.2, \n",
    "    zoom_range=0.2,horizontal_flip=True, \n",
    "    fill_mode=\"nearest\")"
   ]
  },
  {
   "cell_type": "code",
   "execution_count": 10,
   "id": "dae7f32c",
   "metadata": {},
   "outputs": [],
   "source": [
    "base_model = Xception(\n",
    "    weights='/Users/bhaumikpanchal/Downloads/xception_weights_tf_dim_ordering_tf_kernels_notop.h5', \n",
    "    include_top=False, \n",
    "    input_shape=(71, 71, 3))\n",
    "\n",
    "# Build model on top of the base model\n",
    "model = Sequential([\n",
    "    base_model,\n",
    "    Flatten(),\n",
    "    Dense(512, activation='relu'),\n",
    "    Dropout(0.5),\n",
    "    Dense(n_classes, activation='softmax')\n",
    "])"
   ]
  },
  {
   "cell_type": "code",
   "execution_count": 11,
   "id": "933b908b",
   "metadata": {},
   "outputs": [],
   "source": [
    "from keras.layers import Conv2D, MaxPooling2D, Flatten, Dense, Dropout, InputLayer\n",
    "from keras.models import Sequential\n",
    "from keras import optimizers\n",
    "from tensorflow.keras.metrics import Precision, Recall, AUC, TruePositives, TrueNegatives, FalsePositives, FalseNegatives\n",
    "\n",
    "for layer in base_model.layers:\n",
    "    layer.trainable = False\n",
    "    \n",
    "model.compile(loss='categorical_crossentropy',\n",
    "                      optimizer=optimizers.RMSprop(learning_rate=2e-5),\n",
    "                      metrics=['acc', Precision(), Recall(), AUC(), TruePositives(), TrueNegatives(), FalsePositives(), FalseNegatives()])\n"
   ]
  },
  {
   "cell_type": "code",
   "execution_count": 12,
   "id": "d577f758",
   "metadata": {},
   "outputs": [
    {
     "name": "stdout",
     "output_type": "stream",
     "text": [
      "Model: \"sequential\"\n",
      "_________________________________________________________________\n",
      " Layer (type)                Output Shape              Param #   \n",
      "=================================================================\n",
      " xception (Functional)       (None, 3, 3, 2048)        20861480  \n",
      "                                                                 \n",
      " flatten (Flatten)           (None, 18432)             0         \n",
      "                                                                 \n",
      " dense (Dense)               (None, 512)               9437696   \n",
      "                                                                 \n",
      " dropout (Dropout)           (None, 512)               0         \n",
      "                                                                 \n",
      " dense_1 (Dense)             (None, 6)                 3078      \n",
      "                                                                 \n",
      "=================================================================\n",
      "Total params: 30302254 (115.59 MB)\n",
      "Trainable params: 9440774 (36.01 MB)\n",
      "Non-trainable params: 20861480 (79.58 MB)\n",
      "_________________________________________________________________\n"
     ]
    }
   ],
   "source": [
    "model.summary()"
   ]
  },
  {
   "cell_type": "code",
   "execution_count": 13,
   "id": "bd1e5536",
   "metadata": {},
   "outputs": [
    {
     "name": "stdout",
     "output_type": "stream",
     "text": [
      "Epoch 1/50\n",
      "300/300 [==============================] - 230s 722ms/step - loss: 0.9305 - acc: 0.6833 - precision: 0.7915 - recall: 0.4975 - auc: 0.9164 - true_positives: 2388.0000 - true_negatives: 23371.0000 - false_positives: 629.0000 - false_negatives: 2412.0000 - val_loss: 0.8107 - val_acc: 0.7767 - val_precision: 0.8507 - val_recall: 0.5317 - val_auc: 0.9459 - val_true_positives: 638.0000 - val_true_negatives: 5888.0000 - val_false_positives: 112.0000 - val_false_negatives: 562.0000\n",
      "Epoch 2/50\n",
      "300/300 [==============================] - 209s 698ms/step - loss: 0.6658 - acc: 0.7856 - precision: 0.8286 - recall: 0.6719 - auc: 0.9555 - true_positives: 3225.0000 - true_negatives: 23333.0000 - false_positives: 667.0000 - false_negatives: 1575.0000 - val_loss: 0.7457 - val_acc: 0.7775 - val_precision: 0.8396 - val_recall: 0.5933 - val_auc: 0.9483 - val_true_positives: 712.0000 - val_true_negatives: 5864.0000 - val_false_positives: 136.0000 - val_false_negatives: 488.0000\n",
      "Epoch 3/50\n",
      "300/300 [==============================] - 217s 722ms/step - loss: 0.6069 - acc: 0.8056 - precision: 0.8472 - recall: 0.7244 - auc: 0.9616 - true_positives: 3477.0000 - true_negatives: 23373.0000 - false_positives: 627.0000 - false_negatives: 1323.0000 - val_loss: 0.6669 - val_acc: 0.7875 - val_precision: 0.8461 - val_recall: 0.6458 - val_auc: 0.9578 - val_true_positives: 775.0000 - val_true_negatives: 5859.0000 - val_false_positives: 141.0000 - val_false_negatives: 425.0000\n",
      "Epoch 4/50\n",
      "300/300 [==============================] - 229s 763ms/step - loss: 0.5560 - acc: 0.8242 - precision: 0.8582 - recall: 0.7550 - auc: 0.9672 - true_positives: 3624.0000 - true_negatives: 23401.0000 - false_positives: 599.0000 - false_negatives: 1176.0000 - val_loss: 0.6632 - val_acc: 0.7983 - val_precision: 0.8409 - val_recall: 0.6650 - val_auc: 0.9565 - val_true_positives: 798.0000 - val_true_negatives: 5849.0000 - val_false_positives: 151.0000 - val_false_negatives: 402.0000\n",
      "Epoch 5/50\n",
      "300/300 [==============================] - 230s 767ms/step - loss: 0.5287 - acc: 0.8244 - precision: 0.8582 - recall: 0.7652 - auc: 0.9705 - true_positives: 3673.0000 - true_negatives: 23393.0000 - false_positives: 607.0000 - false_negatives: 1127.0000 - val_loss: 0.6220 - val_acc: 0.8000 - val_precision: 0.8541 - val_recall: 0.6925 - val_auc: 0.9612 - val_true_positives: 831.0000 - val_true_negatives: 5858.0000 - val_false_positives: 142.0000 - val_false_negatives: 369.0000\n",
      "Epoch 6/50\n",
      "300/300 [==============================] - 232s 774ms/step - loss: 0.5253 - acc: 0.8304 - precision: 0.8564 - recall: 0.7779 - auc: 0.9706 - true_positives: 3734.0000 - true_negatives: 23374.0000 - false_positives: 626.0000 - false_negatives: 1066.0000 - val_loss: 0.5749 - val_acc: 0.8050 - val_precision: 0.8615 - val_recall: 0.7050 - val_auc: 0.9668 - val_true_positives: 846.0000 - val_true_negatives: 5864.0000 - val_false_positives: 136.0000 - val_false_negatives: 354.0000\n",
      "Epoch 7/50\n",
      "300/300 [==============================] - 242s 806ms/step - loss: 0.4756 - acc: 0.8446 - precision: 0.8761 - recall: 0.8025 - auc: 0.9750 - true_positives: 3852.0000 - true_negatives: 23455.0000 - false_positives: 545.0000 - false_negatives: 948.0000 - val_loss: 0.5508 - val_acc: 0.8125 - val_precision: 0.8664 - val_recall: 0.7242 - val_auc: 0.9694 - val_true_positives: 869.0000 - val_true_negatives: 5866.0000 - val_false_positives: 134.0000 - val_false_negatives: 331.0000\n",
      "Epoch 8/50\n",
      "300/300 [==============================] - 251s 836ms/step - loss: 0.4562 - acc: 0.8535 - precision: 0.8787 - recall: 0.8092 - auc: 0.9766 - true_positives: 3884.0000 - true_negatives: 23464.0000 - false_positives: 536.0000 - false_negatives: 916.0000 - val_loss: 0.5597 - val_acc: 0.8117 - val_precision: 0.8565 - val_recall: 0.7458 - val_auc: 0.9676 - val_true_positives: 895.0000 - val_true_negatives: 5850.0000 - val_false_positives: 150.0000 - val_false_negatives: 305.0000\n",
      "Epoch 9/50\n",
      "300/300 [==============================] - 255s 850ms/step - loss: 0.4647 - acc: 0.8438 - precision: 0.8707 - recall: 0.8027 - auc: 0.9758 - true_positives: 3853.0000 - true_negatives: 23428.0000 - false_positives: 572.0000 - false_negatives: 947.0000 - val_loss: 0.5317 - val_acc: 0.8183 - val_precision: 0.8653 - val_recall: 0.7492 - val_auc: 0.9706 - val_true_positives: 899.0000 - val_true_negatives: 5860.0000 - val_false_positives: 140.0000 - val_false_negatives: 301.0000\n",
      "Epoch 10/50\n",
      "300/300 [==============================] - 260s 868ms/step - loss: 0.4503 - acc: 0.8519 - precision: 0.8803 - recall: 0.8121 - auc: 0.9775 - true_positives: 3898.0000 - true_negatives: 23470.0000 - false_positives: 530.0000 - false_negatives: 902.0000 - val_loss: 0.5236 - val_acc: 0.8225 - val_precision: 0.8660 - val_recall: 0.7650 - val_auc: 0.9713 - val_true_positives: 918.0000 - val_true_negatives: 5858.0000 - val_false_positives: 142.0000 - val_false_negatives: 282.0000\n",
      "Epoch 11/50\n",
      "300/300 [==============================] - 273s 909ms/step - loss: 0.4177 - acc: 0.8617 - precision: 0.8840 - recall: 0.8269 - auc: 0.9800 - true_positives: 3969.0000 - true_negatives: 23479.0000 - false_positives: 521.0000 - false_negatives: 831.0000 - val_loss: 0.5398 - val_acc: 0.8158 - val_precision: 0.8538 - val_recall: 0.7642 - val_auc: 0.9689 - val_true_positives: 917.0000 - val_true_negatives: 5843.0000 - val_false_positives: 157.0000 - val_false_negatives: 283.0000\n",
      "Epoch 12/50\n",
      "300/300 [==============================] - 268s 893ms/step - loss: 0.4245 - acc: 0.8583 - precision: 0.8813 - recall: 0.8248 - auc: 0.9795 - true_positives: 3959.0000 - true_negatives: 23467.0000 - false_positives: 533.0000 - false_negatives: 841.0000 - val_loss: 0.4941 - val_acc: 0.8292 - val_precision: 0.8695 - val_recall: 0.7775 - val_auc: 0.9737 - val_true_positives: 933.0000 - val_true_negatives: 5860.0000 - val_false_positives: 140.0000 - val_false_negatives: 267.0000\n",
      "Epoch 13/50\n",
      "300/300 [==============================] - 270s 901ms/step - loss: 0.4173 - acc: 0.8610 - precision: 0.8840 - recall: 0.8273 - auc: 0.9801 - true_positives: 3971.0000 - true_negatives: 23479.0000 - false_positives: 521.0000 - false_negatives: 829.0000 - val_loss: 0.4856 - val_acc: 0.8350 - val_precision: 0.8738 - val_recall: 0.7850 - val_auc: 0.9748 - val_true_positives: 942.0000 - val_true_negatives: 5864.0000 - val_false_positives: 136.0000 - val_false_negatives: 258.0000\n",
      "Epoch 14/50\n",
      "300/300 [==============================] - 257s 857ms/step - loss: 0.4073 - acc: 0.8621 - precision: 0.8833 - recall: 0.8275 - auc: 0.9811 - true_positives: 3972.0000 - true_negatives: 23475.0000 - false_positives: 525.0000 - false_negatives: 828.0000 - val_loss: 0.4648 - val_acc: 0.8367 - val_precision: 0.8777 - val_recall: 0.7892 - val_auc: 0.9773 - val_true_positives: 947.0000 - val_true_negatives: 5868.0000 - val_false_positives: 132.0000 - val_false_negatives: 253.0000\n",
      "Epoch 15/50\n",
      "300/300 [==============================] - 261s 869ms/step - loss: 0.4034 - acc: 0.8681 - precision: 0.8885 - recall: 0.8371 - auc: 0.9809 - true_positives: 4018.0000 - true_negatives: 23496.0000 - false_positives: 504.0000 - false_negatives: 782.0000 - val_loss: 0.4684 - val_acc: 0.8383 - val_precision: 0.8719 - val_recall: 0.7883 - val_auc: 0.9767 - val_true_positives: 946.0000 - val_true_negatives: 5861.0000 - val_false_positives: 139.0000 - val_false_negatives: 254.0000\n",
      "Epoch 16/50\n",
      "300/300 [==============================] - 258s 862ms/step - loss: 0.3957 - acc: 0.8677 - precision: 0.8868 - recall: 0.8369 - auc: 0.9815 - true_positives: 4017.0000 - true_negatives: 23487.0000 - false_positives: 513.0000 - false_negatives: 783.0000 - val_loss: 0.4968 - val_acc: 0.8233 - val_precision: 0.8590 - val_recall: 0.7817 - val_auc: 0.9738 - val_true_positives: 938.0000 - val_true_negatives: 5846.0000 - val_false_positives: 154.0000 - val_false_negatives: 262.0000\n",
      "Epoch 17/50\n",
      "300/300 [==============================] - 265s 885ms/step - loss: 0.3830 - acc: 0.8723 - precision: 0.8874 - recall: 0.8438 - auc: 0.9827 - true_positives: 4050.0000 - true_negatives: 23486.0000 - false_positives: 514.0000 - false_negatives: 750.0000 - val_loss: 0.4870 - val_acc: 0.8258 - val_precision: 0.8628 - val_recall: 0.7808 - val_auc: 0.9742 - val_true_positives: 937.0000 - val_true_negatives: 5851.0000 - val_false_positives: 149.0000 - val_false_negatives: 263.0000\n"
     ]
    },
    {
     "name": "stdout",
     "output_type": "stream",
     "text": [
      "Epoch 18/50\n",
      "300/300 [==============================] - 256s 853ms/step - loss: 0.3729 - acc: 0.8806 - precision: 0.8976 - recall: 0.8508 - auc: 0.9828 - true_positives: 4084.0000 - true_negatives: 23534.0000 - false_positives: 466.0000 - false_negatives: 716.0000 - val_loss: 0.4891 - val_acc: 0.8292 - val_precision: 0.8649 - val_recall: 0.7842 - val_auc: 0.9739 - val_true_positives: 941.0000 - val_true_negatives: 5853.0000 - val_false_positives: 147.0000 - val_false_negatives: 259.0000\n",
      "Epoch 19/50\n",
      "300/300 [==============================] - 256s 854ms/step - loss: 0.3649 - acc: 0.8760 - precision: 0.8951 - recall: 0.8535 - auc: 0.9840 - true_positives: 4097.0000 - true_negatives: 23520.0000 - false_positives: 480.0000 - false_negatives: 703.0000 - val_loss: 0.4654 - val_acc: 0.8392 - val_precision: 0.8757 - val_recall: 0.7925 - val_auc: 0.9764 - val_true_positives: 951.0000 - val_true_negatives: 5865.0000 - val_false_positives: 135.0000 - val_false_negatives: 249.0000\n",
      "Epoch 20/50\n",
      "300/300 [==============================] - 250s 834ms/step - loss: 0.3900 - acc: 0.8698 - precision: 0.8868 - recall: 0.8421 - auc: 0.9825 - true_positives: 4042.0000 - true_negatives: 23484.0000 - false_positives: 516.0000 - false_negatives: 758.0000 - val_loss: 0.4461 - val_acc: 0.8475 - val_precision: 0.8854 - val_recall: 0.8050 - val_auc: 0.9783 - val_true_positives: 966.0000 - val_true_negatives: 5875.0000 - val_false_positives: 125.0000 - val_false_negatives: 234.0000\n",
      "Epoch 21/50\n",
      "300/300 [==============================] - 252s 841ms/step - loss: 0.3707 - acc: 0.8712 - precision: 0.8900 - recall: 0.8508 - auc: 0.9844 - true_positives: 4084.0000 - true_negatives: 23495.0000 - false_positives: 505.0000 - false_negatives: 716.0000 - val_loss: 0.4412 - val_acc: 0.8483 - val_precision: 0.8809 - val_recall: 0.8075 - val_auc: 0.9787 - val_true_positives: 969.0000 - val_true_negatives: 5869.0000 - val_false_positives: 131.0000 - val_false_negatives: 231.0000\n",
      "Epoch 22/50\n",
      "300/300 [==============================] - 246s 822ms/step - loss: 0.3699 - acc: 0.8746 - precision: 0.8939 - recall: 0.8512 - auc: 0.9836 - true_positives: 4086.0000 - true_negatives: 23515.0000 - false_positives: 485.0000 - false_negatives: 714.0000 - val_loss: 0.4597 - val_acc: 0.8458 - val_precision: 0.8783 - val_recall: 0.8117 - val_auc: 0.9768 - val_true_positives: 974.0000 - val_true_negatives: 5865.0000 - val_false_positives: 135.0000 - val_false_negatives: 226.0000\n",
      "Epoch 23/50\n",
      "300/300 [==============================] - 242s 808ms/step - loss: 0.3633 - acc: 0.8777 - precision: 0.8958 - recall: 0.8540 - auc: 0.9847 - true_positives: 4099.0000 - true_negatives: 23523.0000 - false_positives: 477.0000 - false_negatives: 701.0000 - val_loss: 0.4510 - val_acc: 0.8433 - val_precision: 0.8786 - val_recall: 0.8142 - val_auc: 0.9770 - val_true_positives: 977.0000 - val_true_negatives: 5865.0000 - val_false_positives: 135.0000 - val_false_negatives: 223.0000\n",
      "Epoch 24/50\n",
      "300/300 [==============================] - 243s 810ms/step - loss: 0.3784 - acc: 0.8756 - precision: 0.8922 - recall: 0.8500 - auc: 0.9827 - true_positives: 4080.0000 - true_negatives: 23507.0000 - false_positives: 493.0000 - false_negatives: 720.0000 - val_loss: 0.4471 - val_acc: 0.8517 - val_precision: 0.8810 - val_recall: 0.8208 - val_auc: 0.9775 - val_true_positives: 985.0000 - val_true_negatives: 5867.0000 - val_false_positives: 133.0000 - val_false_negatives: 215.0000\n",
      "Epoch 25/50\n",
      "300/300 [==============================] - 238s 794ms/step - loss: 0.3489 - acc: 0.8804 - precision: 0.8981 - recall: 0.8579 - auc: 0.9853 - true_positives: 4118.0000 - true_negatives: 23533.0000 - false_positives: 467.0000 - false_negatives: 682.0000 - val_loss: 0.4322 - val_acc: 0.8567 - val_precision: 0.8886 - val_recall: 0.8242 - val_auc: 0.9791 - val_true_positives: 989.0000 - val_true_negatives: 5876.0000 - val_false_positives: 124.0000 - val_false_negatives: 211.0000\n",
      "Epoch 26/50\n",
      "300/300 [==============================] - 237s 790ms/step - loss: 0.3665 - acc: 0.8777 - precision: 0.8953 - recall: 0.8571 - auc: 0.9831 - true_positives: 4114.0000 - true_negatives: 23519.0000 - false_positives: 481.0000 - false_negatives: 686.0000 - val_loss: 0.4226 - val_acc: 0.8575 - val_precision: 0.8917 - val_recall: 0.8233 - val_auc: 0.9789 - val_true_positives: 988.0000 - val_true_negatives: 5880.0000 - val_false_positives: 120.0000 - val_false_negatives: 212.0000\n",
      "Epoch 27/50\n",
      "300/300 [==============================] - 233s 777ms/step - loss: 0.3387 - acc: 0.8831 - precision: 0.8992 - recall: 0.8642 - auc: 0.9861 - true_positives: 4148.0000 - true_negatives: 23535.0000 - false_positives: 465.0000 - false_negatives: 652.0000 - val_loss: 0.4560 - val_acc: 0.8533 - val_precision: 0.8851 - val_recall: 0.8283 - val_auc: 0.9763 - val_true_positives: 994.0000 - val_true_negatives: 5871.0000 - val_false_positives: 129.0000 - val_false_negatives: 206.0000\n",
      "Epoch 28/50\n",
      "300/300 [==============================] - 232s 775ms/step - loss: 0.3536 - acc: 0.8767 - precision: 0.8927 - recall: 0.8562 - auc: 0.9850 - true_positives: 4110.0000 - true_negatives: 23506.0000 - false_positives: 494.0000 - false_negatives: 690.0000 - val_loss: 0.4097 - val_acc: 0.8608 - val_precision: 0.8919 - val_recall: 0.8317 - val_auc: 0.9807 - val_true_positives: 998.0000 - val_true_negatives: 5879.0000 - val_false_positives: 121.0000 - val_false_negatives: 202.0000\n",
      "Epoch 29/50\n",
      "300/300 [==============================] - 231s 771ms/step - loss: 0.3315 - acc: 0.8842 - precision: 0.9007 - recall: 0.8612 - auc: 0.9869 - true_positives: 4134.0000 - true_negatives: 23544.0000 - false_positives: 456.0000 - false_negatives: 666.0000 - val_loss: 0.4282 - val_acc: 0.8517 - val_precision: 0.8814 - val_recall: 0.8233 - val_auc: 0.9785 - val_true_positives: 988.0000 - val_true_negatives: 5867.0000 - val_false_positives: 133.0000 - val_false_negatives: 212.0000\n",
      "Epoch 30/50\n",
      "300/300 [==============================] - 232s 775ms/step - loss: 0.3591 - acc: 0.8819 - precision: 0.8996 - recall: 0.8606 - auc: 0.9851 - true_positives: 4131.0000 - true_negatives: 23539.0000 - false_positives: 461.0000 - false_negatives: 669.0000 - val_loss: 0.4280 - val_acc: 0.8592 - val_precision: 0.8878 - val_recall: 0.8308 - val_auc: 0.9786 - val_true_positives: 997.0000 - val_true_negatives: 5874.0000 - val_false_positives: 126.0000 - val_false_negatives: 203.0000\n",
      "Epoch 31/50\n",
      "300/300 [==============================] - 236s 786ms/step - loss: 0.3490 - acc: 0.8829 - precision: 0.8974 - recall: 0.8673 - auc: 0.9857 - true_positives: 4163.0000 - true_negatives: 23524.0000 - false_positives: 476.0000 - false_negatives: 637.0000 - val_loss: 0.4168 - val_acc: 0.8633 - val_precision: 0.8937 - val_recall: 0.8333 - val_auc: 0.9797 - val_true_positives: 1000.0000 - val_true_negatives: 5881.0000 - val_false_positives: 119.0000 - val_false_negatives: 200.0000\n",
      "Epoch 32/50\n",
      "300/300 [==============================] - 240s 800ms/step - loss: 0.3423 - acc: 0.8844 - precision: 0.8992 - recall: 0.8665 - auc: 0.9857 - true_positives: 4159.0000 - true_negatives: 23534.0000 - false_positives: 466.0000 - false_negatives: 641.0000 - val_loss: 0.4064 - val_acc: 0.8700 - val_precision: 0.9022 - val_recall: 0.8383 - val_auc: 0.9809 - val_true_positives: 1006.0000 - val_true_negatives: 5891.0000 - val_false_positives: 109.0000 - val_false_negatives: 194.0000\n",
      "Epoch 33/50\n",
      "300/300 [==============================] - 226s 753ms/step - loss: 0.3178 - acc: 0.8975 - precision: 0.9088 - recall: 0.8823 - auc: 0.9870 - true_positives: 4235.0000 - true_negatives: 23575.0000 - false_positives: 425.0000 - false_negatives: 565.0000 - val_loss: 0.4238 - val_acc: 0.8675 - val_precision: 0.8921 - val_recall: 0.8408 - val_auc: 0.9800 - val_true_positives: 1009.0000 - val_true_negatives: 5878.0000 - val_false_positives: 122.0000 - val_false_negatives: 191.0000\n",
      "Epoch 34/50\n",
      "300/300 [==============================] - 256s 852ms/step - loss: 0.3407 - acc: 0.8892 - precision: 0.9036 - recall: 0.8694 - auc: 0.9861 - true_positives: 4173.0000 - true_negatives: 23555.0000 - false_positives: 445.0000 - false_negatives: 627.0000 - val_loss: 0.3982 - val_acc: 0.8700 - val_precision: 0.8968 - val_recall: 0.8400 - val_auc: 0.9814 - val_true_positives: 1008.0000 - val_true_negatives: 5884.0000 - val_false_positives: 116.0000 - val_false_negatives: 192.0000\n"
     ]
    },
    {
     "name": "stdout",
     "output_type": "stream",
     "text": [
      "Epoch 35/50\n",
      "300/300 [==============================] - 229s 765ms/step - loss: 0.3346 - acc: 0.8858 - precision: 0.9014 - recall: 0.8687 - auc: 0.9861 - true_positives: 4170.0000 - true_negatives: 23544.0000 - false_positives: 456.0000 - false_negatives: 630.0000 - val_loss: 0.3945 - val_acc: 0.8708 - val_precision: 0.9006 - val_recall: 0.8458 - val_auc: 0.9812 - val_true_positives: 1015.0000 - val_true_negatives: 5888.0000 - val_false_positives: 112.0000 - val_false_negatives: 185.0000\n",
      "Epoch 36/50\n",
      "300/300 [==============================] - 227s 757ms/step - loss: 0.3367 - acc: 0.8856 - precision: 0.9003 - recall: 0.8671 - auc: 0.9865 - true_positives: 4162.0000 - true_negatives: 23539.0000 - false_positives: 461.0000 - false_negatives: 638.0000 - val_loss: 0.3959 - val_acc: 0.8617 - val_precision: 0.8922 - val_recall: 0.8342 - val_auc: 0.9817 - val_true_positives: 1001.0000 - val_true_negatives: 5879.0000 - val_false_positives: 121.0000 - val_false_negatives: 199.0000\n",
      "Epoch 37/50\n",
      "300/300 [==============================] - 227s 756ms/step - loss: 0.3389 - acc: 0.8908 - precision: 0.9055 - recall: 0.8740 - auc: 0.9858 - true_positives: 4195.0000 - true_negatives: 23562.0000 - false_positives: 438.0000 - false_negatives: 605.0000 - val_loss: 0.4025 - val_acc: 0.8692 - val_precision: 0.8952 - val_recall: 0.8467 - val_auc: 0.9808 - val_true_positives: 1016.0000 - val_true_negatives: 5881.0000 - val_false_positives: 119.0000 - val_false_negatives: 184.0000\n",
      "Epoch 38/50\n",
      "300/300 [==============================] - 229s 763ms/step - loss: 0.3239 - acc: 0.8906 - precision: 0.9009 - recall: 0.8729 - auc: 0.9868 - true_positives: 4190.0000 - true_negatives: 23539.0000 - false_positives: 461.0000 - false_negatives: 610.0000 - val_loss: 0.4027 - val_acc: 0.8750 - val_precision: 0.8980 - val_recall: 0.8442 - val_auc: 0.9806 - val_true_positives: 1013.0000 - val_true_negatives: 5885.0000 - val_false_positives: 115.0000 - val_false_negatives: 187.0000\n",
      "Epoch 39/50\n",
      "300/300 [==============================] - 233s 775ms/step - loss: 0.3302 - acc: 0.8946 - precision: 0.9082 - recall: 0.8783 - auc: 0.9859 - true_positives: 4216.0000 - true_negatives: 23574.0000 - false_positives: 426.0000 - false_negatives: 584.0000 - val_loss: 0.3875 - val_acc: 0.8683 - val_precision: 0.8966 - val_recall: 0.8450 - val_auc: 0.9830 - val_true_positives: 1014.0000 - val_true_negatives: 5883.0000 - val_false_positives: 117.0000 - val_false_negatives: 186.0000\n",
      "Epoch 40/50\n",
      "300/300 [==============================] - 232s 773ms/step - loss: 0.3263 - acc: 0.8883 - precision: 0.9009 - recall: 0.8715 - auc: 0.9872 - true_positives: 4183.0000 - true_negatives: 23540.0000 - false_positives: 460.0000 - false_negatives: 617.0000 - val_loss: 0.3927 - val_acc: 0.8733 - val_precision: 0.9013 - val_recall: 0.8450 - val_auc: 0.9815 - val_true_positives: 1014.0000 - val_true_negatives: 5889.0000 - val_false_positives: 111.0000 - val_false_negatives: 186.0000\n",
      "Epoch 41/50\n",
      "300/300 [==============================] - 229s 763ms/step - loss: 0.3212 - acc: 0.8960 - precision: 0.9099 - recall: 0.8769 - auc: 0.9867 - true_positives: 4209.0000 - true_negatives: 23583.0000 - false_positives: 417.0000 - false_negatives: 591.0000 - val_loss: 0.3969 - val_acc: 0.8708 - val_precision: 0.8946 - val_recall: 0.8417 - val_auc: 0.9812 - val_true_positives: 1010.0000 - val_true_negatives: 5881.0000 - val_false_positives: 119.0000 - val_false_negatives: 190.0000\n",
      "Epoch 42/50\n",
      "300/300 [==============================] - 232s 774ms/step - loss: 0.3280 - acc: 0.8898 - precision: 0.9061 - recall: 0.8763 - auc: 0.9868 - true_positives: 4206.0000 - true_negatives: 23564.0000 - false_positives: 436.0000 - false_negatives: 594.0000 - val_loss: 0.3845 - val_acc: 0.8717 - val_precision: 0.8986 - val_recall: 0.8492 - val_auc: 0.9822 - val_true_positives: 1019.0000 - val_true_negatives: 5885.0000 - val_false_positives: 115.0000 - val_false_negatives: 181.0000\n",
      "Epoch 43/50\n",
      "300/300 [==============================] - 234s 779ms/step - loss: 0.3133 - acc: 0.8977 - precision: 0.9092 - recall: 0.8844 - auc: 0.9874 - true_positives: 4245.0000 - true_negatives: 23576.0000 - false_positives: 424.0000 - false_negatives: 555.0000 - val_loss: 0.4042 - val_acc: 0.8625 - val_precision: 0.8863 - val_recall: 0.8383 - val_auc: 0.9808 - val_true_positives: 1006.0000 - val_true_negatives: 5871.0000 - val_false_positives: 129.0000 - val_false_negatives: 194.0000\n",
      "Epoch 44/50\n",
      "300/300 [==============================] - 233s 777ms/step - loss: 0.3257 - acc: 0.8904 - precision: 0.9027 - recall: 0.8737 - auc: 0.9863 - true_positives: 4194.0000 - true_negatives: 23548.0000 - false_positives: 452.0000 - false_negatives: 606.0000 - val_loss: 0.3800 - val_acc: 0.8792 - val_precision: 0.9064 - val_recall: 0.8558 - val_auc: 0.9818 - val_true_positives: 1027.0000 - val_true_negatives: 5894.0000 - val_false_positives: 106.0000 - val_false_negatives: 173.0000\n",
      "Epoch 45/50\n",
      "300/300 [==============================] - 236s 786ms/step - loss: 0.2994 - acc: 0.8990 - precision: 0.9111 - recall: 0.8840 - auc: 0.9889 - true_positives: 4243.0000 - true_negatives: 23586.0000 - false_positives: 414.0000 - false_negatives: 557.0000 - val_loss: 0.4114 - val_acc: 0.8642 - val_precision: 0.8893 - val_recall: 0.8433 - val_auc: 0.9803 - val_true_positives: 1012.0000 - val_true_negatives: 5874.0000 - val_false_positives: 126.0000 - val_false_negatives: 188.0000\n",
      "Epoch 46/50\n",
      "300/300 [==============================] - 239s 797ms/step - loss: 0.3102 - acc: 0.8892 - precision: 0.9053 - recall: 0.8746 - auc: 0.9881 - true_positives: 4198.0000 - true_negatives: 23561.0000 - false_positives: 439.0000 - false_negatives: 602.0000 - val_loss: 0.3919 - val_acc: 0.8708 - val_precision: 0.8961 - val_recall: 0.8408 - val_auc: 0.9810 - val_true_positives: 1009.0000 - val_true_negatives: 5883.0000 - val_false_positives: 117.0000 - val_false_negatives: 191.0000\n",
      "Epoch 47/50\n",
      "300/300 [==============================] - 238s 793ms/step - loss: 0.3127 - acc: 0.8900 - precision: 0.9025 - recall: 0.8758 - auc: 0.9882 - true_positives: 4204.0000 - true_negatives: 23546.0000 - false_positives: 454.0000 - false_negatives: 596.0000 - val_loss: 0.3853 - val_acc: 0.8717 - val_precision: 0.8996 - val_recall: 0.8442 - val_auc: 0.9812 - val_true_positives: 1013.0000 - val_true_negatives: 5887.0000 - val_false_positives: 113.0000 - val_false_negatives: 187.0000\n",
      "Epoch 48/50\n",
      "300/300 [==============================] - 235s 784ms/step - loss: 0.2960 - acc: 0.9015 - precision: 0.9138 - recall: 0.8856 - auc: 0.9887 - true_positives: 4251.0000 - true_negatives: 23599.0000 - false_positives: 401.0000 - false_negatives: 549.0000 - val_loss: 0.3852 - val_acc: 0.8833 - val_precision: 0.9061 - val_recall: 0.8600 - val_auc: 0.9824 - val_true_positives: 1032.0000 - val_true_negatives: 5893.0000 - val_false_positives: 107.0000 - val_false_negatives: 168.0000\n",
      "Epoch 49/50\n",
      "300/300 [==============================] - 235s 783ms/step - loss: 0.3042 - acc: 0.8998 - precision: 0.9114 - recall: 0.8848 - auc: 0.9876 - true_positives: 4247.0000 - true_negatives: 23587.0000 - false_positives: 413.0000 - false_negatives: 553.0000 - val_loss: 0.3958 - val_acc: 0.8775 - val_precision: 0.8983 - val_recall: 0.8542 - val_auc: 0.9808 - val_true_positives: 1025.0000 - val_true_negatives: 5884.0000 - val_false_positives: 116.0000 - val_false_negatives: 175.0000\n",
      "Epoch 50/50\n",
      "300/300 [==============================] - 239s 798ms/step - loss: 0.3099 - acc: 0.9023 - precision: 0.9134 - recall: 0.8900 - auc: 0.9877 - true_positives: 4272.0000 - true_negatives: 23595.0000 - false_positives: 405.0000 - false_negatives: 528.0000 - val_loss: 0.3843 - val_acc: 0.8683 - val_precision: 0.8959 - val_recall: 0.8467 - val_auc: 0.9818 - val_true_positives: 1016.0000 - val_true_negatives: 5882.0000 - val_false_positives: 118.0000 - val_false_negatives: 184.0000\n",
      "Total training time: 12506.97077178955 seconds\n"
     ]
    }
   ],
   "source": [
    "import time\n",
    "start_time = time.time()\n",
    "history = model.fit(\n",
    "    aug.flow(x_train, y_train, batch_size=BS),\n",
    "    validation_data=(x_test, y_test),\n",
    "    steps_per_epoch=len(x_train) // BS,\n",
    "    epochs=EPOCHS,\n",
    "    verbose=1\n",
    ")\n",
    "end_time = time.time()\n",
    "training_time = end_time - start_time\n",
    "print(\"Total training time:\", training_time, \"seconds\")"
   ]
  },
  {
   "cell_type": "code",
   "execution_count": 14,
   "id": "0a67a559",
   "metadata": {},
   "outputs": [
    {
     "name": "stdout",
     "output_type": "stream",
     "text": [
      "Precision: 0.9134\n",
      "Recall: 0.8900\n",
      "F1 Score: 0.9016\n"
     ]
    }
   ],
   "source": [
    "precision = history.history['precision'][-1]\n",
    "recall = history.history['recall'][-1]\n",
    "f1 = 2 * (precision * recall) / (precision + recall)\n",
    "\n",
    "print(f'Precision: {precision:.4f}')\n",
    "print(f'Recall: {recall:.4f}')\n",
    "print(f'F1 Score: {f1:.4f}')"
   ]
  },
  {
   "cell_type": "code",
   "execution_count": 15,
   "id": "322441dc",
   "metadata": {},
   "outputs": [
    {
     "name": "stdout",
     "output_type": "stream",
     "text": [
      "Training Accuracy: 0.9023\n",
      "Validation Accuracy: 0.8683\n"
     ]
    }
   ],
   "source": [
    "acc = history.history['acc']\n",
    "val_acc = history.history['val_acc']\n",
    "\n",
    "# Print the final accuracy values\n",
    "print(f'Training Accuracy: {acc[-1]:.4f}')\n",
    "print(f'Validation Accuracy: {val_acc[-1]:.4f}')\n",
    "\n",
    "\n"
   ]
  },
  {
   "cell_type": "code",
   "execution_count": 16,
   "id": "136d0a55",
   "metadata": {},
   "outputs": [
    {
     "name": "stdout",
     "output_type": "stream",
     "text": [
      "Precision: 0.9134\n",
      "Recall: 0.8900\n",
      "AUC: 0.9877\n",
      "True Positives: 4272.0000\n",
      "True Negatives: 23595.0000\n",
      "False Positives: 405.0000\n",
      "False Negatives: 528.0000\n"
     ]
    }
   ],
   "source": [
    "# Print additional metrics for training\n",
    "print(f\"Precision: {history.history['precision'][-1]:.4f}\")\n",
    "\n",
    "print(f\"Recall: {history.history['recall'][-1]:.4f}\")\n",
    "print(f\"AUC: {history.history['auc'][-1]:.4f}\")\n",
    "print(f\"True Positives: {history.history['true_positives'][-1]:.4f}\")\n",
    "print(f\"True Negatives: {history.history['true_negatives'][-1]:.4f}\")\n",
    "print(f\"False Positives: {history.history['false_positives'][-1]:.4f}\")\n",
    "print(f\"False Negatives: {history.history['false_negatives'][-1]:.4f}\")"
   ]
  },
  {
   "cell_type": "code",
   "execution_count": null,
   "id": "e9619d1f",
   "metadata": {},
   "outputs": [],
   "source": []
  },
  {
   "cell_type": "code",
   "execution_count": 17,
   "id": "b3f966f7",
   "metadata": {},
   "outputs": [
    {
     "name": "stdout",
     "output_type": "stream",
     "text": [
      "38/38 [==============================] - 35s 919ms/step - loss: 0.3843 - acc: 0.8683 - precision: 0.8959 - recall: 0.8467 - auc: 0.9818 - true_positives: 1016.0000 - true_negatives: 5882.0000 - false_positives: 118.0000 - false_negatives: 184.0000\n",
      "Testing Accuracy: 0.8683\n"
     ]
    }
   ],
   "source": [
    "# ... (previous code)\n",
    "\n",
    "# Evaluate the model on the test set\n",
    "test_metrics = model.evaluate(x_test, y_test)\n",
    "\n",
    "# Extract individual metric values\n",
    "test_loss, test_accuracy, precision, recall, auc, true_positives, true_negatives, false_positives, false_negatives = test_metrics\n",
    "\n",
    "# Print the testing accuracy\n",
    "print(f\"Testing Accuracy: {test_accuracy:.4f}\")\n"
   ]
  },
  {
   "cell_type": "code",
   "execution_count": 18,
   "id": "c9f69ff8",
   "metadata": {},
   "outputs": [
    {
     "name": "stdout",
     "output_type": "stream",
     "text": [
      "dict_keys(['loss', 'acc', 'precision', 'recall', 'auc', 'true_positives', 'true_negatives', 'false_positives', 'false_negatives', 'val_loss', 'val_acc', 'val_precision', 'val_recall', 'val_auc', 'val_true_positives', 'val_true_negatives', 'val_false_positives', 'val_false_negatives'])\n"
     ]
    },
    {
     "data": {
      "image/png": "[encoded data removed]",
      "text/plain": [
       "<Figure size 432x288 with 1 Axes>"
      ]
     },
     "metadata": {
      "needs_background": "light"
     },
     "output_type": "display_data"
    },
    {
     "data": {
      "image/png": "[encoded data removed]",
      "text/plain": [
       "<Figure size 432x288 with 1 Axes>"
      ]
     },
     "metadata": {
      "needs_background": "light"
     },
     "output_type": "display_data"
    }
   ],
   "source": [
    "print(history.history.keys())\n",
    "plt.plot(history.history['acc'])\n",
    "plt.plot(history.history['val_acc'])\n",
    "plt.title('model accuracy')\n",
    "plt.ylabel('accuracy')\n",
    "plt.xlabel('epoch')\n",
    "plt.legend(['train', 'test'], loc='upper left')\n",
    "plt.show()\n",
    "plt.plot(history.history['loss'])\n",
    "plt.plot(history.history['val_loss'])\n",
    "plt.title('model loss')\n",
    "plt.ylabel('loss')\n",
    "plt.xlabel('epoch')\n",
    "plt.legend(['train', 'test'], loc='upper left')\n",
    "plt.show()"
   ]
  },
  {
   "cell_type": "code",
   "execution_count": null,
   "id": "c52765c6",
   "metadata": {},
   "outputs": [],
   "source": []
  },
  {
   "cell_type": "code",
   "execution_count": 19,
   "id": "4043a56d",
   "metadata": {},
   "outputs": [
    {
     "name": "stdout",
     "output_type": "stream",
     "text": [
      "38/38 [==============================] - 39s 954ms/step\n"
     ]
    },
    {
     "data": {
      "image/png": "[encoded data removed]",
      "text/plain": [
       "<Figure size 576x432 with 2 Axes>"
      ]
     },
     "metadata": {
      "needs_background": "light"
     },
     "output_type": "display_data"
    }
   ],
   "source": [
    "from sklearn.metrics import confusion_matrix\n",
    "import seaborn as sns\n",
    "\n",
    "# Predicting the classes for the test set\n",
    "y_pred = model.predict(x_test)\n",
    "y_pred_classes = np.argmax(y_pred, axis=1)\n",
    "y_true_classes = np.argmax(y_test, axis=1)\n",
    "\n",
    "# Generate confusion matrix\n",
    "conf_matrix = confusion_matrix(y_true_classes, y_pred_classes)\n",
    "\n",
    "# Plot confusion matrix\n",
    "plt.figure(figsize=(8, 6))\n",
    "sns.heatmap(conf_matrix, annot=True, fmt='d', cmap='Blues', xticklabels=label_binarizer.classes_, yticklabels=label_binarizer.classes_)\n",
    "plt.xlabel('Predicted labels')\n",
    "plt.ylabel('True labels')\n",
    "plt.title('Confusion Matrix')\n",
    "plt.show()\n"
   ]
  },
  {
   "cell_type": "code",
   "execution_count": null,
   "id": "92def1cd",
   "metadata": {},
   "outputs": [],
   "source": []
  },
  {
   "cell_type": "code",
   "execution_count": 20,
   "id": "080f7bc9",
   "metadata": {},
   "outputs": [
    {
     "name": "stderr",
     "output_type": "stream",
     "text": [
      "/Library/Frameworks/Python.framework/Versions/3.9/lib/python3.9/site-packages/keras/src/engine/training.py:3103: UserWarning: You are saving your model as an HDF5 file via `model.save()`. This file format is considered legacy. We recommend using instead the native Keras format, e.g. `model.save('my_model.keras')`.\n",
      "  saving_api.save_model(\n"
     ]
    }
   ],
   "source": [
    "model.save(f'./model/xcption_combined.h5')"
   ]
  },
  {
   "cell_type": "code",
   "execution_count": 21,
   "id": "efdfd59d",
   "metadata": {},
   "outputs": [
    {
     "data": {
      "text/plain": [
       "[['.DS_Store',\n",
       "  'customCNN_combined.h5',\n",
       "  '9',\n",
       "  '7',\n",
       "  '111',\n",
       "  '6',\n",
       "  '1',\n",
       "  'densenet_combined.h5',\n",
       "  'AlexNet_nb.h5',\n",
       "  'vgg_combined.h5',\n",
       "  'alexnet_combined.h5',\n",
       "  'resnet50_combined.h5',\n",
       "  'xcption_combined.h5',\n",
       "  'resnet50.h5',\n",
       "  'vgg16_nb.h5',\n",
       "  'mobilenet_combined.h5',\n",
       "  'customcnn_nb.h5',\n",
       "  '112',\n",
       "  'MobieNet_nb.h5',\n",
       "  '4',\n",
       "  '3',\n",
       "  '12',\n",
       "  '2',\n",
       "  '5']]"
      ]
     },
     "execution_count": 21,
     "metadata": {},
     "output_type": "execute_result"
    }
   ],
   "source": [
    "import os\n",
    "[  os.listdir(\"./model\")]"
   ]
  },
  {
   "cell_type": "code",
   "execution_count": null,
   "id": "daa6fc77",
   "metadata": {},
   "outputs": [],
   "source": []
  },
  {
   "cell_type": "code",
   "execution_count": null,
   "id": "74d313e5",
   "metadata": {},
   "outputs": [],
   "source": [
    "# import numpy as np\n",
    "# from keras.models import load_model\n",
    "# from keras.preprocessing import image\n",
    "# model_alexnet=load_model(f'./model/mobilenet3d.h5')"
   ]
  },
  {
   "cell_type": "code",
   "execution_count": null,
   "id": "8be2e3b0",
   "metadata": {},
   "outputs": [],
   "source": []
  },
  {
   "cell_type": "code",
   "execution_count": null,
   "id": "f79d8fb2",
   "metadata": {},
   "outputs": [],
   "source": []
  }
 ],
 "metadata": {
  "kernelspec": {
   "display_name": "Python 3 (ipykernel)",
   "language": "python",
   "name": "python3"
  },
  "language_info": {
   "codemirror_mode": {
    "name": "ipython",
    "version": 3
   },
   "file_extension": ".py",
   "mimetype": "text/x-python",
   "name": "python",
   "nbconvert_exporter": "python",
   "pygments_lexer": "ipython3",
   "version": "3.9.5"
  }
 },
 "nbformat": 4,
 "nbformat_minor": 5
}
