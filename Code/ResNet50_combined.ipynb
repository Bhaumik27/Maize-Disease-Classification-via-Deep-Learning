{
 "cells": [
  {
   "cell_type": "code",
   "execution_count": 1,
   "id": "80cd3e22",
   "metadata": {},
   "outputs": [
    {
     "name": "stderr",
     "output_type": "stream",
     "text": [
      "2024-05-04 09:32:10.311167: I tensorflow/core/platform/cpu_feature_guard.cc:182] This TensorFlow binary is optimized to use available CPU instructions in performance-critical operations.\n",
      "To enable the following instructions: AVX2 FMA, in other operations, rebuild TensorFlow with the appropriate compiler flags.\n",
      "/Library/Frameworks/Python.framework/Versions/3.9/lib/python3.9/site-packages/scipy/__init__.py:155: UserWarning: A NumPy version >=1.18.5 and <1.25.0 is required for this version of SciPy (detected version 1.26.3\n",
      "  warnings.warn(f\"A NumPy version >={np_minversion} and <{np_maxversion}\"\n"
     ]
    }
   ],
   "source": [
    "import numpy as np\n",
    "import pickle\n",
    "import cv2\n",
    "import tensorflow as tf\n",
    "from os import listdir\n",
    "from sklearn.preprocessing import LabelBinarizer\n",
    "from keras.models import Sequential\n",
    "from tensorflow.keras.layers import BatchNormalization, Conv2D, MaxPooling2D, Activation, Flatten, Dropout, Dense\n",
    "from keras import backend as K\n",
    "from keras.preprocessing.image import ImageDataGenerator\n",
    "from keras.optimizers import Adam\n",
    "from keras.preprocessing import image\n",
    "from keras.preprocessing.image import img_to_array\n",
    "from sklearn.preprocessing import MultiLabelBinarizer\n",
    "from sklearn.model_selection import train_test_split\n",
    "import matplotlib.pyplot as plt\n",
    "\n",
    "import os\n",
    "os.environ['TF_CPP_MIN_LOG_LEVEL'] = '2'"
   ]
  },
  {
   "cell_type": "code",
   "execution_count": 2,
   "id": "ad800731",
   "metadata": {},
   "outputs": [],
   "source": [
    "EPOCHS = 50\n",
    "INIT_LR = 1e-3\n",
    "BS = 16\n",
    "default_image_size = tuple((64, 64))\n",
    "image_size = 0\n",
    "width=64\n",
    "height=64\n",
    "depth=3\n",
    "image_size = 0\n",
    "directory_root = 'Combined Data'"
   ]
  },
  {
   "cell_type": "code",
   "execution_count": 3,
   "id": "eaf23bc1",
   "metadata": {},
   "outputs": [],
   "source": [
    "def convert_image_to_array(image_dir):\n",
    "    try:\n",
    "        image = cv2.imread(image_dir)\n",
    "        if image is not None :\n",
    "            image = cv2.resize(image, default_image_size)   \n",
    "            return img_to_array(image)\n",
    "        else :\n",
    "            return np.array([])\n",
    "    except Exception as e:\n",
    "        print(\"Error :\", e)\n",
    "        return None"
   ]
  },
  {
   "cell_type": "code",
   "execution_count": 4,
   "id": "3e2d1e65",
   "metadata": {},
   "outputs": [
    {
     "name": "stdout",
     "output_type": "stream",
     "text": [
      "[INFO] Loading images ...\n",
      "[INFO] Processing Maize_Common_Rust ...\n",
      "[INFO] Processing MLN ...\n",
      "[INFO] Processing HEATHLY ...\n",
      "[INFO] Processing MSV ...\n",
      "[INFO] Processing Maize_Blight ...\n",
      "[INFO] Processing Maize_Gray_Leaf_Spot ...\n",
      "[INFO] Image loading completed\n"
     ]
    }
   ],
   "source": [
    "image_list, label_list = [], []\n",
    "try:\n",
    "    print(\"[INFO] Loading images ...\")\n",
    "    root_dir = listdir(directory_root)\n",
    "    for directory in root_dir :\n",
    "        # remove .DS_Store from list\n",
    "        if directory == \".DS_Store\" :\n",
    "            root_dir.remove(directory)\n",
    "\n",
    "    for plant_folder in root_dir :\n",
    "       \n",
    "        plant_disease_folder_list = listdir(f\"{directory_root}/{plant_folder}\")\n",
    "        \n",
    "        for disease_folder in plant_disease_folder_list :\n",
    "            # remove .DS_Store from list\n",
    "            if disease_folder == \".DS_Store\" :\n",
    "                plant_disease_folder_list.remove(disease_folder)\n",
    "\n",
    "        for plant_disease_folder in plant_disease_folder_list:\n",
    "            print(f\"[INFO] Processing {plant_disease_folder} ...\")\n",
    "            plant_disease_image_list = listdir(f\"{directory_root}/{plant_folder}/{plant_disease_folder}/\")\n",
    "                \n",
    "            for single_plant_disease_image in plant_disease_image_list :\n",
    "                if single_plant_disease_image == \".DS_Store\" :\n",
    "                    plant_disease_image_list.remove(single_plant_disease_image)\n",
    "\n",
    "            for image in plant_disease_image_list:\n",
    "                image_directory = f\"{directory_root}/{plant_folder}/{plant_disease_folder}/{image}\"\n",
    "                if image_directory.endswith(\".jpg\") == True or image_directory.endswith(\".JPG\") == True:\n",
    "                    image_list.append(convert_image_to_array(image_directory))\n",
    "                    label_list.append(plant_disease_folder)\n",
    "    print(\"[INFO] Image loading completed\")  \n",
    "except Exception as e:\n",
    "    print(f\"Error : {e}\")"
   ]
  },
  {
   "cell_type": "code",
   "execution_count": 5,
   "id": "80611b93",
   "metadata": {},
   "outputs": [
    {
     "name": "stdout",
     "output_type": "stream",
     "text": [
      "6000\n"
     ]
    }
   ],
   "source": [
    "image_size = len(image_list)\n",
    "print(image_size)"
   ]
  },
  {
   "cell_type": "code",
   "execution_count": 6,
   "id": "0976a68b",
   "metadata": {},
   "outputs": [
    {
     "name": "stdout",
     "output_type": "stream",
     "text": [
      "['HEATHLY' 'MLN' 'MSV' 'Maize_Blight' 'Maize_Common_Rust'\n",
      " 'Maize_Gray_Leaf_Spot']\n"
     ]
    }
   ],
   "source": [
    "label_binarizer = LabelBinarizer()\n",
    "image_labels = label_binarizer.fit_transform(label_list)\n",
    "pickle.dump(label_binarizer,open('label_transform.pkl', 'wb'))\n",
    "n_classes = len(label_binarizer.classes_)\n",
    "print(label_binarizer.classes_)"
   ]
  },
  {
   "cell_type": "code",
   "execution_count": 7,
   "id": "befc8e60",
   "metadata": {},
   "outputs": [],
   "source": [
    "np_image_list = np.array(image_list, dtype=np.float16) / 225.0"
   ]
  },
  {
   "cell_type": "code",
   "execution_count": 8,
   "id": "4719f0d6",
   "metadata": {},
   "outputs": [
    {
     "name": "stdout",
     "output_type": "stream",
     "text": [
      "[INFO] Spliting data to train, test\n"
     ]
    }
   ],
   "source": [
    "print(\"[INFO] Spliting data to train, test\")\n",
    "x_train, x_test, y_train, y_test = train_test_split(np_image_list, image_labels, test_size=0.20, random_state = 42)"
   ]
  },
  {
   "cell_type": "code",
   "execution_count": 9,
   "id": "61d0c9a4",
   "metadata": {},
   "outputs": [],
   "source": [
    "aug = ImageDataGenerator(\n",
    "    rotation_range=25, width_shift_range=0.1,\n",
    "    height_shift_range=0.1, shear_range=0.2, \n",
    "    zoom_range=0.2,horizontal_flip=True, \n",
    "    fill_mode=\"nearest\")"
   ]
  },
  {
   "cell_type": "code",
   "execution_count": 10,
   "id": "413c0a84",
   "metadata": {},
   "outputs": [],
   "source": [
    "inputShape = (height, width, depth)\n",
    "\n",
    "from keras.applications.resnet50 import ResNet50\n",
    "from keras.models import Model\n",
    "import keras\n",
    "\n",
    "restnet = ResNet50(include_top=False, weights=None, input_shape=inputShape)\n",
    "# Load weights from file\n",
    "weights_path = 'resnet50_weights_tf_dim_ordering_tf_kernels_notop.h5'\n",
    "restnet.load_weights(weights_path)\n",
    "\n",
    "output1 = restnet.layers[-1].output\n",
    "\n",
    "output2 = keras.layers.Flatten()(output1)\n",
    "\n",
    "restnet = Model(restnet.input, outputs=output2)\n",
    "for layer in restnet.layers:\n",
    "    layer.trainable = True\n",
    "#restnet.summary()"
   ]
  },
  {
   "cell_type": "code",
   "execution_count": 11,
   "id": "09cfc187",
   "metadata": {},
   "outputs": [],
   "source": [
    "from keras.layers import Conv2D, MaxPooling2D, Flatten, Dense, Dropout, InputLayer\n",
    "from keras.models import Sequential\n",
    "from keras import optimizers\n",
    "from tensorflow.keras.metrics import Precision, Recall, AUC, TruePositives, TrueNegatives, FalsePositives, FalseNegatives\n",
    "\n",
    "model = Sequential()\n",
    "model.add(restnet)\n",
    "model.add(Dense(512, activation='relu', input_dim=inputShape))\n",
    "model.add(Dropout(0.3))\n",
    "model.add(Dense(512, activation='relu'))\n",
    "model.add(Dropout(0.3))\n",
    "model.add(Dense(n_classes, activation='softmax'))\n",
    "\n",
    "\n",
    "#Model Compiling\n",
    "model.compile(loss='binary_crossentropy',\n",
    "                  optimizer=optimizers.RMSprop(learning_rate=2e-5),\n",
    "                  metrics=['acc',Precision(), Recall(), AUC(), TruePositives(), TrueNegatives(), FalsePositives(), FalseNegatives()])"
   ]
  },
  {
   "cell_type": "code",
   "execution_count": 12,
   "id": "fd795865",
   "metadata": {},
   "outputs": [
    {
     "name": "stdout",
     "output_type": "stream",
     "text": [
      "Model: \"sequential\"\n",
      "_________________________________________________________________\n",
      " Layer (type)                Output Shape              Param #   \n",
      "=================================================================\n",
      " model (Functional)          (None, 8192)              23587712  \n",
      "                                                                 \n",
      " dense (Dense)               (None, 512)               4194816   \n",
      "                                                                 \n",
      " dropout (Dropout)           (None, 512)               0         \n",
      "                                                                 \n",
      " dense_1 (Dense)             (None, 512)               262656    \n",
      "                                                                 \n",
      " dropout_1 (Dropout)         (None, 512)               0         \n",
      "                                                                 \n",
      " dense_2 (Dense)             (None, 6)                 3078      \n",
      "                                                                 \n",
      "=================================================================\n",
      "Total params: 28048262 (107.00 MB)\n",
      "Trainable params: 27995142 (106.79 MB)\n",
      "Non-trainable params: 53120 (207.50 KB)\n",
      "_________________________________________________________________\n"
     ]
    }
   ],
   "source": [
    "model.summary()"
   ]
  },
  {
   "cell_type": "code",
   "execution_count": 13,
   "id": "bd1e5536",
   "metadata": {},
   "outputs": [
    {
     "name": "stdout",
     "output_type": "stream",
     "text": [
      "Epoch 1/50\n",
      "300/300 [==============================] - 680s 2s/step - loss: 0.3727 - acc: 0.5196 - precision: 0.6244 - recall: 0.4098 - auc: 0.8308 - true_positives: 1967.0000 - true_negatives: 22817.0000 - false_positives: 1183.0000 - false_negatives: 2833.0000 - val_loss: 21.9170 - val_acc: 0.1517 - val_precision: 0.1517 - val_recall: 0.1517 - val_auc: 0.4953 - val_true_positives: 182.0000 - val_true_negatives: 4982.0000 - val_false_positives: 1018.0000 - val_false_negatives: 1018.0000\n",
      "Epoch 2/50\n",
      "300/300 [==============================] - 669s 2s/step - loss: 0.1964 - acc: 0.7906 - precision: 0.8231 - recall: 0.7602 - auc: 0.9557 - true_positives: 3649.0000 - true_negatives: 23216.0000 - false_positives: 784.0000 - false_negatives: 1151.0000 - val_loss: 12.6431 - val_acc: 0.1725 - val_precision: 0.1721 - val_recall: 0.1717 - val_auc: 0.5019 - val_true_positives: 206.0000 - val_true_negatives: 5009.0000 - val_false_positives: 991.0000 - val_false_negatives: 994.0000\n",
      "Epoch 3/50\n",
      "300/300 [==============================] - 656s 2s/step - loss: 0.1553 - acc: 0.8442 - precision: 0.8590 - recall: 0.8265 - auc: 0.9672 - true_positives: 3967.0000 - true_negatives: 23349.0000 - false_positives: 651.0000 - false_negatives: 833.0000 - val_loss: 0.7463 - val_acc: 0.5200 - val_precision: 0.5395 - val_recall: 0.4783 - val_auc: 0.7585 - val_true_positives: 574.0000 - val_true_negatives: 5510.0000 - val_false_positives: 490.0000 - val_false_negatives: 626.0000\n",
      "Epoch 4/50\n",
      "300/300 [==============================] - 642s 2s/step - loss: 0.1329 - acc: 0.8698 - precision: 0.8828 - recall: 0.8583 - auc: 0.9734 - true_positives: 4120.0000 - true_negatives: 23453.0000 - false_positives: 547.0000 - false_negatives: 680.0000 - val_loss: 0.1041 - val_acc: 0.8992 - val_precision: 0.9027 - val_recall: 0.8967 - val_auc: 0.9791 - val_true_positives: 1076.0000 - val_true_negatives: 5884.0000 - val_false_positives: 116.0000 - val_false_negatives: 124.0000\n",
      "Epoch 5/50\n",
      "300/300 [==============================] - 658s 2s/step - loss: 0.1189 - acc: 0.8806 - precision: 0.8892 - recall: 0.8696 - auc: 0.9779 - true_positives: 4174.0000 - true_negatives: 23480.0000 - false_positives: 520.0000 - false_negatives: 626.0000 - val_loss: 0.0840 - val_acc: 0.9167 - val_precision: 0.9165 - val_recall: 0.9142 - val_auc: 0.9851 - val_true_positives: 1097.0000 - val_true_negatives: 5900.0000 - val_false_positives: 100.0000 - val_false_negatives: 103.0000\n",
      "Epoch 6/50\n",
      "300/300 [==============================] - 659s 2s/step - loss: 0.1079 - acc: 0.8952 - precision: 0.9049 - recall: 0.8883 - auc: 0.9804 - true_positives: 4264.0000 - true_negatives: 23552.0000 - false_positives: 448.0000 - false_negatives: 536.0000 - val_loss: 0.0808 - val_acc: 0.9267 - val_precision: 0.9288 - val_recall: 0.9242 - val_auc: 0.9837 - val_true_positives: 1109.0000 - val_true_negatives: 5915.0000 - val_false_positives: 85.0000 - val_false_negatives: 91.0000\n",
      "Epoch 7/50\n",
      "300/300 [==============================] - 621s 2s/step - loss: 0.0989 - acc: 0.9058 - precision: 0.9129 - recall: 0.8975 - auc: 0.9819 - true_positives: 4308.0000 - true_negatives: 23589.0000 - false_positives: 411.0000 - false_negatives: 492.0000 - val_loss: 0.0756 - val_acc: 0.9408 - val_precision: 0.9407 - val_recall: 0.9392 - val_auc: 0.9851 - val_true_positives: 1127.0000 - val_true_negatives: 5929.0000 - val_false_positives: 71.0000 - val_false_negatives: 73.0000\n",
      "Epoch 8/50\n",
      "300/300 [==============================] - 611s 2s/step - loss: 0.0891 - acc: 0.9106 - precision: 0.9202 - recall: 0.9031 - auc: 0.9856 - true_positives: 4335.0000 - true_negatives: 23624.0000 - false_positives: 376.0000 - false_negatives: 465.0000 - val_loss: 0.0749 - val_acc: 0.9425 - val_precision: 0.9448 - val_recall: 0.9408 - val_auc: 0.9853 - val_true_positives: 1129.0000 - val_true_negatives: 5934.0000 - val_false_positives: 66.0000 - val_false_negatives: 71.0000\n",
      "Epoch 9/50\n",
      "300/300 [==============================] - 606s 2s/step - loss: 0.0820 - acc: 0.9198 - precision: 0.9283 - recall: 0.9117 - auc: 0.9866 - true_positives: 4376.0000 - true_negatives: 23662.0000 - false_positives: 338.0000 - false_negatives: 424.0000 - val_loss: 0.0679 - val_acc: 0.9492 - val_precision: 0.9513 - val_recall: 0.9442 - val_auc: 0.9870 - val_true_positives: 1133.0000 - val_true_negatives: 5942.0000 - val_false_positives: 58.0000 - val_false_negatives: 67.0000\n",
      "Epoch 10/50\n",
      "300/300 [==============================] - 605s 2s/step - loss: 0.0833 - acc: 0.9227 - precision: 0.9292 - recall: 0.9165 - auc: 0.9857 - true_positives: 4399.0000 - true_negatives: 23665.0000 - false_positives: 335.0000 - false_negatives: 401.0000 - val_loss: 0.0910 - val_acc: 0.9450 - val_precision: 0.9488 - val_recall: 0.9425 - val_auc: 0.9859 - val_true_positives: 1131.0000 - val_true_negatives: 5939.0000 - val_false_positives: 61.0000 - val_false_negatives: 69.0000\n",
      "Epoch 11/50\n",
      "300/300 [==============================] - 600s 2s/step - loss: 0.0720 - acc: 0.9346 - precision: 0.9405 - recall: 0.9287 - auc: 0.9883 - true_positives: 4458.0000 - true_negatives: 23718.0000 - false_positives: 282.0000 - false_negatives: 342.0000 - val_loss: 0.0648 - val_acc: 0.9525 - val_precision: 0.9541 - val_recall: 0.9517 - val_auc: 0.9861 - val_true_positives: 1142.0000 - val_true_negatives: 5945.0000 - val_false_positives: 55.0000 - val_false_negatives: 58.0000\n",
      "Epoch 12/50\n",
      "300/300 [==============================] - 596s 2s/step - loss: 0.0643 - acc: 0.9394 - precision: 0.9444 - recall: 0.9346 - auc: 0.9896 - true_positives: 4486.0000 - true_negatives: 23736.0000 - false_positives: 264.0000 - false_negatives: 314.0000 - val_loss: 0.0642 - val_acc: 0.9508 - val_precision: 0.9516 - val_recall: 0.9500 - val_auc: 0.9875 - val_true_positives: 1140.0000 - val_true_negatives: 5942.0000 - val_false_positives: 58.0000 - val_false_negatives: 60.0000\n",
      "Epoch 13/50\n",
      "300/300 [==============================] - 587s 2s/step - loss: 0.0616 - acc: 0.9435 - precision: 0.9481 - recall: 0.9402 - auc: 0.9894 - true_positives: 4513.0000 - true_negatives: 23753.0000 - false_positives: 247.0000 - false_negatives: 287.0000 - val_loss: 0.0924 - val_acc: 0.9475 - val_precision: 0.9490 - val_recall: 0.9467 - val_auc: 0.9835 - val_true_positives: 1136.0000 - val_true_negatives: 5939.0000 - val_false_positives: 61.0000 - val_false_negatives: 64.0000\n",
      "Epoch 14/50\n",
      "300/300 [==============================] - 579s 2s/step - loss: 0.0564 - acc: 0.9479 - precision: 0.9527 - recall: 0.9435 - auc: 0.9918 - true_positives: 4529.0000 - true_negatives: 23775.0000 - false_positives: 225.0000 - false_negatives: 271.0000 - val_loss: 0.1722 - val_acc: 0.9350 - val_precision: 0.9366 - val_recall: 0.9350 - val_auc: 0.9825 - val_true_positives: 1122.0000 - val_true_negatives: 5924.0000 - val_false_positives: 76.0000 - val_false_negatives: 78.0000\n",
      "Epoch 15/50\n",
      "300/300 [==============================] - 569s 2s/step - loss: 0.0542 - acc: 0.9485 - precision: 0.9520 - recall: 0.9460 - auc: 0.9919 - true_positives: 4541.0000 - true_negatives: 23771.0000 - false_positives: 229.0000 - false_negatives: 259.0000 - val_loss: 0.0743 - val_acc: 0.9575 - val_precision: 0.9582 - val_recall: 0.9550 - val_auc: 0.9880 - val_true_positives: 1146.0000 - val_true_negatives: 5950.0000 - val_false_positives: 50.0000 - val_false_negatives: 54.0000\n",
      "Epoch 16/50\n",
      "300/300 [==============================] - 568s 2s/step - loss: 0.0521 - acc: 0.9515 - precision: 0.9549 - recall: 0.9485 - auc: 0.9913 - true_positives: 4553.0000 - true_negatives: 23785.0000 - false_positives: 215.0000 - false_negatives: 247.0000 - val_loss: 0.1101 - val_acc: 0.9567 - val_precision: 0.9566 - val_recall: 0.9558 - val_auc: 0.9836 - val_true_positives: 1147.0000 - val_true_negatives: 5948.0000 - val_false_positives: 52.0000 - val_false_negatives: 53.0000\n",
      "Epoch 17/50\n",
      "300/300 [==============================] - 586s 2s/step - loss: 0.0518 - acc: 0.9560 - precision: 0.9589 - recall: 0.9531 - auc: 0.9920 - true_positives: 4575.0000 - true_negatives: 23804.0000 - false_positives: 196.0000 - false_negatives: 225.0000 - val_loss: 0.1399 - val_acc: 0.9517 - val_precision: 0.9540 - val_recall: 0.9500 - val_auc: 0.9820 - val_true_positives: 1140.0000 - val_true_negatives: 5945.0000 - val_false_positives: 55.0000 - val_false_negatives: 60.0000\n"
     ]
    },
    {
     "name": "stdout",
     "output_type": "stream",
     "text": [
      "Epoch 18/50\n",
      "300/300 [==============================] - 577s 2s/step - loss: 0.0459 - acc: 0.9585 - precision: 0.9612 - recall: 0.9556 - auc: 0.9936 - true_positives: 4587.0000 - true_negatives: 23815.0000 - false_positives: 185.0000 - false_negatives: 213.0000 - val_loss: 0.1101 - val_acc: 0.9492 - val_precision: 0.9499 - val_recall: 0.9483 - val_auc: 0.9835 - val_true_positives: 1138.0000 - val_true_negatives: 5940.0000 - val_false_positives: 60.0000 - val_false_negatives: 62.0000\n",
      "Epoch 19/50\n",
      "300/300 [==============================] - 580s 2s/step - loss: 0.0446 - acc: 0.9590 - precision: 0.9617 - recall: 0.9571 - auc: 0.9930 - true_positives: 4594.0000 - true_negatives: 23817.0000 - false_positives: 183.0000 - false_negatives: 206.0000 - val_loss: 0.0838 - val_acc: 0.9567 - val_precision: 0.9590 - val_recall: 0.9558 - val_auc: 0.9851 - val_true_positives: 1147.0000 - val_true_negatives: 5951.0000 - val_false_positives: 49.0000 - val_false_negatives: 53.0000\n",
      "Epoch 20/50\n",
      "300/300 [==============================] - 580s 2s/step - loss: 0.0383 - acc: 0.9627 - precision: 0.9642 - recall: 0.9602 - auc: 0.9948 - true_positives: 4609.0000 - true_negatives: 23829.0000 - false_positives: 171.0000 - false_negatives: 191.0000 - val_loss: 0.0669 - val_acc: 0.9567 - val_precision: 0.9574 - val_recall: 0.9550 - val_auc: 0.9834 - val_true_positives: 1146.0000 - val_true_negatives: 5949.0000 - val_false_positives: 51.0000 - val_false_negatives: 54.0000\n",
      "Epoch 21/50\n",
      "300/300 [==============================] - 573s 2s/step - loss: 0.0397 - acc: 0.9625 - precision: 0.9642 - recall: 0.9608 - auc: 0.9937 - true_positives: 4612.0000 - true_negatives: 23829.0000 - false_positives: 171.0000 - false_negatives: 188.0000 - val_loss: 0.1307 - val_acc: 0.9450 - val_precision: 0.9458 - val_recall: 0.9450 - val_auc: 0.9823 - val_true_positives: 1134.0000 - val_true_negatives: 5935.0000 - val_false_positives: 65.0000 - val_false_negatives: 66.0000\n",
      "Epoch 22/50\n",
      "300/300 [==============================] - 585s 2s/step - loss: 0.0358 - acc: 0.9688 - precision: 0.9703 - recall: 0.9675 - auc: 0.9956 - true_positives: 4644.0000 - true_negatives: 23858.0000 - false_positives: 142.0000 - false_negatives: 156.0000 - val_loss: 0.0889 - val_acc: 0.9508 - val_precision: 0.9524 - val_recall: 0.9500 - val_auc: 0.9836 - val_true_positives: 1140.0000 - val_true_negatives: 5943.0000 - val_false_positives: 57.0000 - val_false_negatives: 60.0000\n",
      "Epoch 23/50\n",
      "300/300 [==============================] - 585s 2s/step - loss: 0.0368 - acc: 0.9683 - precision: 0.9697 - recall: 0.9671 - auc: 0.9950 - true_positives: 4642.0000 - true_negatives: 23855.0000 - false_positives: 145.0000 - false_negatives: 158.0000 - val_loss: 0.0951 - val_acc: 0.9492 - val_precision: 0.9500 - val_recall: 0.9492 - val_auc: 0.9816 - val_true_positives: 1139.0000 - val_true_negatives: 5940.0000 - val_false_positives: 60.0000 - val_false_negatives: 61.0000\n",
      "Epoch 24/50\n",
      "300/300 [==============================] - 153210s 512s/step - loss: 0.0344 - acc: 0.9654 - precision: 0.9688 - recall: 0.9644 - auc: 0.9945 - true_positives: 4629.0000 - true_negatives: 23851.0000 - false_positives: 149.0000 - false_negatives: 171.0000 - val_loss: 0.1103 - val_acc: 0.9442 - val_precision: 0.9473 - val_recall: 0.9442 - val_auc: 0.9793 - val_true_positives: 1133.0000 - val_true_negatives: 5937.0000 - val_false_positives: 63.0000 - val_false_negatives: 67.0000\n",
      "Epoch 25/50\n",
      "300/300 [==============================] - 763s 3s/step - loss: 0.0309 - acc: 0.9737 - precision: 0.9760 - recall: 0.9727 - auc: 0.9955 - true_positives: 4669.0000 - true_negatives: 23885.0000 - false_positives: 115.0000 - false_negatives: 131.0000 - val_loss: 0.2936 - val_acc: 0.9358 - val_precision: 0.9373 - val_recall: 0.9342 - val_auc: 0.9766 - val_true_positives: 1121.0000 - val_true_negatives: 5925.0000 - val_false_positives: 75.0000 - val_false_negatives: 79.0000\n",
      "Epoch 26/50\n",
      "300/300 [==============================] - 565s 2s/step - loss: 0.0286 - acc: 0.9754 - precision: 0.9762 - recall: 0.9735 - auc: 0.9961 - true_positives: 4673.0000 - true_negatives: 23886.0000 - false_positives: 114.0000 - false_negatives: 127.0000 - val_loss: 0.1848 - val_acc: 0.9450 - val_precision: 0.9466 - val_recall: 0.9450 - val_auc: 0.9789 - val_true_positives: 1134.0000 - val_true_negatives: 5936.0000 - val_false_positives: 64.0000 - val_false_negatives: 66.0000\n",
      "Epoch 27/50\n",
      "300/300 [==============================] - 572s 2s/step - loss: 0.0262 - acc: 0.9777 - precision: 0.9789 - recall: 0.9765 - auc: 0.9955 - true_positives: 4687.0000 - true_negatives: 23899.0000 - false_positives: 101.0000 - false_negatives: 113.0000 - val_loss: 0.0951 - val_acc: 0.9533 - val_precision: 0.9541 - val_recall: 0.9525 - val_auc: 0.9841 - val_true_positives: 1143.0000 - val_true_negatives: 5945.0000 - val_false_positives: 55.0000 - val_false_negatives: 57.0000\n",
      "Epoch 28/50\n",
      "300/300 [==============================] - 563s 2s/step - loss: 0.0268 - acc: 0.9758 - precision: 0.9780 - recall: 0.9735 - auc: 0.9957 - true_positives: 4673.0000 - true_negatives: 23895.0000 - false_positives: 105.0000 - false_negatives: 127.0000 - val_loss: 0.1105 - val_acc: 0.9525 - val_precision: 0.9525 - val_recall: 0.9525 - val_auc: 0.9841 - val_true_positives: 1143.0000 - val_true_negatives: 5943.0000 - val_false_positives: 57.0000 - val_false_negatives: 57.0000\n",
      "Epoch 29/50\n",
      "300/300 [==============================] - 555s 2s/step - loss: 0.0292 - acc: 0.9748 - precision: 0.9754 - recall: 0.9731 - auc: 0.9949 - true_positives: 4671.0000 - true_negatives: 23882.0000 - false_positives: 118.0000 - false_negatives: 129.0000 - val_loss: 0.3385 - val_acc: 0.9308 - val_precision: 0.9332 - val_recall: 0.9308 - val_auc: 0.9749 - val_true_positives: 1117.0000 - val_true_negatives: 5920.0000 - val_false_positives: 80.0000 - val_false_negatives: 83.0000\n",
      "Epoch 30/50\n",
      "300/300 [==============================] - 548s 2s/step - loss: 0.0275 - acc: 0.9783 - precision: 0.9791 - recall: 0.9779 - auc: 0.9962 - true_positives: 4694.0000 - true_negatives: 23900.0000 - false_positives: 100.0000 - false_negatives: 106.0000 - val_loss: 0.1182 - val_acc: 0.9467 - val_precision: 0.9475 - val_recall: 0.9467 - val_auc: 0.9845 - val_true_positives: 1136.0000 - val_true_negatives: 5937.0000 - val_false_positives: 63.0000 - val_false_negatives: 64.0000\n",
      "Epoch 31/50\n",
      "300/300 [==============================] - 546s 2s/step - loss: 0.0241 - acc: 0.9777 - precision: 0.9787 - recall: 0.9773 - auc: 0.9961 - true_positives: 4691.0000 - true_negatives: 23898.0000 - false_positives: 102.0000 - false_negatives: 109.0000 - val_loss: 0.0712 - val_acc: 0.9600 - val_precision: 0.9616 - val_recall: 0.9600 - val_auc: 0.9877 - val_true_positives: 1152.0000 - val_true_negatives: 5954.0000 - val_false_positives: 46.0000 - val_false_negatives: 48.0000\n",
      "Epoch 32/50\n",
      "300/300 [==============================] - 548s 2s/step - loss: 0.0241 - acc: 0.9783 - precision: 0.9795 - recall: 0.9771 - auc: 0.9967 - true_positives: 4690.0000 - true_negatives: 23902.0000 - false_positives: 98.0000 - false_negatives: 110.0000 - val_loss: 0.0746 - val_acc: 0.9583 - val_precision: 0.9583 - val_recall: 0.9583 - val_auc: 0.9853 - val_true_positives: 1150.0000 - val_true_negatives: 5950.0000 - val_false_positives: 50.0000 - val_false_negatives: 50.0000\n",
      "Epoch 33/50\n",
      "300/300 [==============================] - 545s 2s/step - loss: 0.0207 - acc: 0.9833 - precision: 0.9837 - recall: 0.9817 - auc: 0.9971 - true_positives: 4712.0000 - true_negatives: 23922.0000 - false_positives: 78.0000 - false_negatives: 88.0000 - val_loss: 0.0681 - val_acc: 0.9625 - val_precision: 0.9641 - val_recall: 0.9625 - val_auc: 0.9858 - val_true_positives: 1155.0000 - val_true_negatives: 5957.0000 - val_false_positives: 43.0000 - val_false_negatives: 45.0000\n",
      "Epoch 34/50\n",
      "300/300 [==============================] - 547s 2s/step - loss: 0.0220 - acc: 0.9817 - precision: 0.9819 - recall: 0.9810 - auc: 0.9966 - true_positives: 4709.0000 - true_negatives: 23913.0000 - false_positives: 87.0000 - false_negatives: 91.0000 - val_loss: 0.1022 - val_acc: 0.9533 - val_precision: 0.9549 - val_recall: 0.9533 - val_auc: 0.9823 - val_true_positives: 1144.0000 - val_true_negatives: 5946.0000 - val_false_positives: 54.0000 - val_false_negatives: 56.0000\n"
     ]
    },
    {
     "name": "stdout",
     "output_type": "stream",
     "text": [
      "Epoch 35/50\n",
      "300/300 [==============================] - 545s 2s/step - loss: 0.0204 - acc: 0.9835 - precision: 0.9844 - recall: 0.9833 - auc: 0.9969 - true_positives: 4720.0000 - true_negatives: 23925.0000 - false_positives: 75.0000 - false_negatives: 80.0000 - val_loss: 0.0692 - val_acc: 0.9708 - val_precision: 0.9716 - val_recall: 0.9700 - val_auc: 0.9869 - val_true_positives: 1164.0000 - val_true_negatives: 5966.0000 - val_false_positives: 34.0000 - val_false_negatives: 36.0000\n",
      "Epoch 36/50\n",
      "300/300 [==============================] - 545s 2s/step - loss: 0.0187 - acc: 0.9837 - precision: 0.9846 - recall: 0.9837 - auc: 0.9969 - true_positives: 4722.0000 - true_negatives: 23926.0000 - false_positives: 74.0000 - false_negatives: 78.0000 - val_loss: 0.3167 - val_acc: 0.9517 - val_precision: 0.9532 - val_recall: 0.9508 - val_auc: 0.9792 - val_true_positives: 1141.0000 - val_true_negatives: 5944.0000 - val_false_positives: 56.0000 - val_false_negatives: 59.0000\n",
      "Epoch 37/50\n",
      "300/300 [==============================] - 545s 2s/step - loss: 0.0209 - acc: 0.9806 - precision: 0.9812 - recall: 0.9798 - auc: 0.9966 - true_positives: 4703.0000 - true_negatives: 23910.0000 - false_positives: 90.0000 - false_negatives: 97.0000 - val_loss: 0.2125 - val_acc: 0.9450 - val_precision: 0.9450 - val_recall: 0.9450 - val_auc: 0.9766 - val_true_positives: 1134.0000 - val_true_negatives: 5934.0000 - val_false_positives: 66.0000 - val_false_negatives: 66.0000\n",
      "Epoch 38/50\n",
      "300/300 [==============================] - 546s 2s/step - loss: 0.0179 - acc: 0.9842 - precision: 0.9852 - recall: 0.9835 - auc: 0.9974 - true_positives: 4721.0000 - true_negatives: 23929.0000 - false_positives: 71.0000 - false_negatives: 79.0000 - val_loss: 0.0904 - val_acc: 0.9617 - val_precision: 0.9617 - val_recall: 0.9617 - val_auc: 0.9858 - val_true_positives: 1154.0000 - val_true_negatives: 5954.0000 - val_false_positives: 46.0000 - val_false_negatives: 46.0000\n",
      "Epoch 39/50\n",
      "300/300 [==============================] - 544s 2s/step - loss: 0.0214 - acc: 0.9817 - precision: 0.9823 - recall: 0.9812 - auc: 0.9964 - true_positives: 4710.0000 - true_negatives: 23915.0000 - false_positives: 85.0000 - false_negatives: 90.0000 - val_loss: 0.0849 - val_acc: 0.9617 - val_precision: 0.9625 - val_recall: 0.9617 - val_auc: 0.9865 - val_true_positives: 1154.0000 - val_true_negatives: 5955.0000 - val_false_positives: 45.0000 - val_false_negatives: 46.0000\n",
      "Epoch 40/50\n",
      "300/300 [==============================] - 538s 2s/step - loss: 0.0157 - acc: 0.9846 - precision: 0.9854 - recall: 0.9846 - auc: 0.9971 - true_positives: 4726.0000 - true_negatives: 23930.0000 - false_positives: 70.0000 - false_negatives: 74.0000 - val_loss: 0.0844 - val_acc: 0.9650 - val_precision: 0.9650 - val_recall: 0.9650 - val_auc: 0.9849 - val_true_positives: 1158.0000 - val_true_negatives: 5958.0000 - val_false_positives: 42.0000 - val_false_negatives: 42.0000\n",
      "Epoch 41/50\n",
      "300/300 [==============================] - 539s 2s/step - loss: 0.0226 - acc: 0.9827 - precision: 0.9839 - recall: 0.9821 - auc: 0.9964 - true_positives: 4714.0000 - true_negatives: 23923.0000 - false_positives: 77.0000 - false_negatives: 86.0000 - val_loss: 0.1516 - val_acc: 0.9583 - val_precision: 0.9583 - val_recall: 0.9575 - val_auc: 0.9825 - val_true_positives: 1149.0000 - val_true_negatives: 5950.0000 - val_false_positives: 50.0000 - val_false_negatives: 51.0000\n",
      "Epoch 42/50\n",
      "300/300 [==============================] - 539s 2s/step - loss: 0.0168 - acc: 0.9867 - precision: 0.9871 - recall: 0.9862 - auc: 0.9971 - true_positives: 4734.0000 - true_negatives: 23938.0000 - false_positives: 62.0000 - false_negatives: 66.0000 - val_loss: 0.1554 - val_acc: 0.9592 - val_precision: 0.9592 - val_recall: 0.9592 - val_auc: 0.9830 - val_true_positives: 1151.0000 - val_true_negatives: 5951.0000 - val_false_positives: 49.0000 - val_false_negatives: 49.0000\n",
      "Epoch 43/50\n",
      "300/300 [==============================] - 539s 2s/step - loss: 0.0162 - acc: 0.9850 - precision: 0.9854 - recall: 0.9850 - auc: 0.9977 - true_positives: 4728.0000 - true_negatives: 23930.0000 - false_positives: 70.0000 - false_negatives: 72.0000 - val_loss: 0.1072 - val_acc: 0.9625 - val_precision: 0.9625 - val_recall: 0.9625 - val_auc: 0.9867 - val_true_positives: 1155.0000 - val_true_negatives: 5955.0000 - val_false_positives: 45.0000 - val_false_negatives: 45.0000\n",
      "Epoch 44/50\n",
      "300/300 [==============================] - 536s 2s/step - loss: 0.0172 - acc: 0.9858 - precision: 0.9864 - recall: 0.9854 - auc: 0.9968 - true_positives: 4730.0000 - true_negatives: 23935.0000 - false_positives: 65.0000 - false_negatives: 70.0000 - val_loss: 0.0770 - val_acc: 0.9667 - val_precision: 0.9667 - val_recall: 0.9667 - val_auc: 0.9879 - val_true_positives: 1160.0000 - val_true_negatives: 5960.0000 - val_false_positives: 40.0000 - val_false_negatives: 40.0000\n",
      "Epoch 45/50\n",
      "300/300 [==============================] - 538s 2s/step - loss: 0.0149 - acc: 0.9885 - precision: 0.9887 - recall: 0.9883 - auc: 0.9977 - true_positives: 4744.0000 - true_negatives: 23946.0000 - false_positives: 54.0000 - false_negatives: 56.0000 - val_loss: 0.0806 - val_acc: 0.9667 - val_precision: 0.9675 - val_recall: 0.9667 - val_auc: 0.9875 - val_true_positives: 1160.0000 - val_true_negatives: 5961.0000 - val_false_positives: 39.0000 - val_false_negatives: 40.0000\n",
      "Epoch 46/50\n",
      "300/300 [==============================] - 538s 2s/step - loss: 0.0152 - acc: 0.9877 - precision: 0.9877 - recall: 0.9877 - auc: 0.9977 - true_positives: 4741.0000 - true_negatives: 23941.0000 - false_positives: 59.0000 - false_negatives: 59.0000 - val_loss: 0.2662 - val_acc: 0.9392 - val_precision: 0.9399 - val_recall: 0.9392 - val_auc: 0.9717 - val_true_positives: 1127.0000 - val_true_negatives: 5928.0000 - val_false_positives: 72.0000 - val_false_negatives: 73.0000\n",
      "Epoch 47/50\n",
      "300/300 [==============================] - 538s 2s/step - loss: 0.0154 - acc: 0.9875 - precision: 0.9877 - recall: 0.9869 - auc: 0.9979 - true_positives: 4737.0000 - true_negatives: 23941.0000 - false_positives: 59.0000 - false_negatives: 63.0000 - val_loss: 0.0617 - val_acc: 0.9683 - val_precision: 0.9683 - val_recall: 0.9683 - val_auc: 0.9875 - val_true_positives: 1162.0000 - val_true_negatives: 5962.0000 - val_false_positives: 38.0000 - val_false_negatives: 38.0000\n",
      "Epoch 48/50\n",
      "300/300 [==============================] - 538s 2s/step - loss: 0.0137 - acc: 0.9900 - precision: 0.9900 - recall: 0.9900 - auc: 0.9974 - true_positives: 4752.0000 - true_negatives: 23952.0000 - false_positives: 48.0000 - false_negatives: 48.0000 - val_loss: 0.1088 - val_acc: 0.9617 - val_precision: 0.9617 - val_recall: 0.9617 - val_auc: 0.9829 - val_true_positives: 1154.0000 - val_true_negatives: 5954.0000 - val_false_positives: 46.0000 - val_false_negatives: 46.0000\n",
      "Epoch 49/50\n",
      "300/300 [==============================] - 826s 3s/step - loss: 0.0156 - acc: 0.9877 - precision: 0.9883 - recall: 0.9875 - auc: 0.9975 - true_positives: 4740.0000 - true_negatives: 23944.0000 - false_positives: 56.0000 - false_negatives: 60.0000 - val_loss: 0.0974 - val_acc: 0.9533 - val_precision: 0.9541 - val_recall: 0.9533 - val_auc: 0.9864 - val_true_positives: 1144.0000 - val_true_negatives: 5945.0000 - val_false_positives: 55.0000 - val_false_negatives: 56.0000\n",
      "Epoch 50/50\n",
      "300/300 [==============================] - 544s 2s/step - loss: 0.0185 - acc: 0.9850 - precision: 0.9850 - recall: 0.9848 - auc: 0.9977 - true_positives: 4727.0000 - true_negatives: 23928.0000 - false_positives: 72.0000 - false_negatives: 73.0000 - val_loss: 0.1257 - val_acc: 0.9575 - val_precision: 0.9575 - val_recall: 0.9575 - val_auc: 0.9822 - val_true_positives: 1149.0000 - val_true_negatives: 5949.0000 - val_false_positives: 51.0000 - val_false_negatives: 51.0000\n",
      "Total training time: 181934.42352676392 seconds\n"
     ]
    }
   ],
   "source": [
    "import time\n",
    "start_time = time.time()\n",
    "history = model.fit(\n",
    "    aug.flow(x_train, y_train, batch_size=BS),\n",
    "    validation_data=(x_test, y_test),\n",
    "    steps_per_epoch=len(x_train) // BS,\n",
    "    epochs=EPOCHS,\n",
    "    verbose=1\n",
    ")\n",
    "end_time = time.time()\n",
    "training_time = end_time - start_time\n",
    "print(\"Total training time:\", training_time, \"seconds\")"
   ]
  },
  {
   "cell_type": "code",
   "execution_count": null,
   "id": "63b6bb41",
   "metadata": {},
   "outputs": [],
   "source": [
    "23534 seconds"
   ]
  },
  {
   "cell_type": "code",
   "execution_count": 14,
   "id": "0a67a559",
   "metadata": {},
   "outputs": [
    {
     "name": "stdout",
     "output_type": "stream",
     "text": [
      "Precision: 0.9850\n",
      "Recall: 0.9848\n",
      "F1 Score: 0.9849\n"
     ]
    }
   ],
   "source": [
    "precision = history.history['precision'][-1]\n",
    "recall = history.history['recall'][-1]\n",
    "f1 = 2 * (precision * recall) / (precision + recall)\n",
    "\n",
    "print(f'Precision: {precision:.4f}')\n",
    "print(f'Recall: {recall:.4f}')\n",
    "print(f'F1 Score: {f1:.4f}')"
   ]
  },
  {
   "cell_type": "code",
   "execution_count": 16,
   "id": "322441dc",
   "metadata": {},
   "outputs": [
    {
     "name": "stdout",
     "output_type": "stream",
     "text": [
      "38/38 [==============================] - 11s 297ms/step - loss: 0.1257 - acc: 0.9575 - precision: 0.9575 - recall: 0.9575 - auc: 0.9822 - true_positives: 1149.0000 - true_negatives: 5949.0000 - false_positives: 51.0000 - false_negatives: 51.0000\n",
      "38/38 [==============================] - 11s 296ms/step - loss: 0.1257 - acc: 0.9575 - precision: 0.9575 - recall: 0.9575 - auc: 0.9822 - true_positives: 1149.0000 - true_negatives: 5949.0000 - false_positives: 51.0000 - false_negatives: 51.0000\n",
      "Training Accuracy: 0.9850\n",
      "Validation Accuracy: 0.9575\n",
      "Testing Accuracy: 51.0000\n"
     ]
    }
   ],
   "source": [
    "acc = history.history['acc']\n",
    "val_acc = history.history['val_acc']\n",
    "\n",
    "test_loss = model.evaluate(x_test, y_test)\n",
    "test_accuracy = model.evaluate(x_test, y_test)\n",
    "\n",
    "# Print the final accuracy values\n",
    "print(f'Training Accuracy: {acc[-1]:.4f}')\n",
    "print(f'Validation Accuracy: {val_acc[-1]:.4f}')\n",
    "\n",
    "\n",
    "\n",
    "print(f\"Testing Accuracy: {test_accuracy[-1]:.4f}\")\n"
   ]
  },
  {
   "cell_type": "code",
   "execution_count": 17,
   "id": "136d0a55",
   "metadata": {},
   "outputs": [
    {
     "name": "stdout",
     "output_type": "stream",
     "text": [
      "Precision: 0.9850\n",
      "Recall: 0.9848\n",
      "AUC: 0.9977\n",
      "True Positives: 4727.0000\n",
      "True Negatives: 23928.0000\n",
      "False Positives: 72.0000\n",
      "False Negatives: 73.0000\n"
     ]
    }
   ],
   "source": [
    "# Print additional metrics for training\n",
    "print(f\"Precision: {history.history['precision'][-1]:.4f}\")\n",
    "\n",
    "print(f\"Recall: {history.history['recall'][-1]:.4f}\")\n",
    "print(f\"AUC: {history.history['auc'][-1]:.4f}\")\n",
    "print(f\"True Positives: {history.history['true_positives'][-1]:.4f}\")\n",
    "print(f\"True Negatives: {history.history['true_negatives'][-1]:.4f}\")\n",
    "print(f\"False Positives: {history.history['false_positives'][-1]:.4f}\")\n",
    "print(f\"False Negatives: {history.history['false_negatives'][-1]:.4f}\")"
   ]
  },
  {
   "cell_type": "code",
   "execution_count": null,
   "id": "e9619d1f",
   "metadata": {},
   "outputs": [],
   "source": []
  },
  {
   "cell_type": "code",
   "execution_count": 18,
   "id": "b3f966f7",
   "metadata": {},
   "outputs": [
    {
     "name": "stdout",
     "output_type": "stream",
     "text": [
      "38/38 [==============================] - 12s 306ms/step - loss: 0.1257 - acc: 0.9575 - precision: 0.9575 - recall: 0.9575 - auc: 0.9822 - true_positives: 1149.0000 - true_negatives: 5949.0000 - false_positives: 51.0000 - false_negatives: 51.0000\n",
      "Testing Accuracy: 0.9575\n"
     ]
    }
   ],
   "source": [
    "# ... (previous code)\n",
    "\n",
    "# Evaluate the model on the test set\n",
    "test_metrics = model.evaluate(x_test, y_test)\n",
    "\n",
    "# Extract individual metric values\n",
    "test_loss, test_accuracy, precision, recall, auc, true_positives, true_negatives, false_positives, false_negatives = test_metrics\n",
    "\n",
    "# Print the testing accuracy\n",
    "print(f\"Testing Accuracy: {test_accuracy:.4f}\")\n"
   ]
  },
  {
   "cell_type": "code",
   "execution_count": 19,
   "id": "c9f69ff8",
   "metadata": {},
   "outputs": [
    {
     "name": "stdout",
     "output_type": "stream",
     "text": [
      "dict_keys(['loss', 'acc', 'precision', 'recall', 'auc', 'true_positives', 'true_negatives', 'false_positives', 'false_negatives', 'val_loss', 'val_acc', 'val_precision', 'val_recall', 'val_auc', 'val_true_positives', 'val_true_negatives', 'val_false_positives', 'val_false_negatives'])\n"
     ]
    },
    {
     "data": {
      "image/png": "[encoded data removed]",
      "text/plain": [
       "<Figure size 432x288 with 1 Axes>"
      ]
     },
     "metadata": {
      "needs_background": "light"
     },
     "output_type": "display_data"
    },
    {
     "data": {
      "image/png": "[encoded data removed]",
      "text/plain": [
       "<Figure size 432x288 with 1 Axes>"
      ]
     },
     "metadata": {
      "needs_background": "light"
     },
     "output_type": "display_data"
    }
   ],
   "source": [
    "print(history.history.keys())\n",
    "plt.plot(history.history['acc'])\n",
    "plt.plot(history.history['val_acc'])\n",
    "plt.title('model accuracy')\n",
    "plt.ylabel('accuracy')\n",
    "plt.xlabel('epoch')\n",
    "plt.legend(['train', 'test'], loc='upper left')\n",
    "plt.show()\n",
    "plt.plot(history.history['loss'])\n",
    "plt.plot(history.history['val_loss'])\n",
    "plt.title('model loss')\n",
    "plt.ylabel('loss')\n",
    "plt.xlabel('epoch')\n",
    "plt.legend(['train', 'test'], loc='upper left')\n",
    "plt.show()"
   ]
  },
  {
   "cell_type": "code",
   "execution_count": 20,
   "id": "c52765c6",
   "metadata": {},
   "outputs": [
    {
     "data": {
      "image/png": "[encoded data removed]",
      "text/plain": [
       "<Figure size 1440x1440 with 1 Axes>"
      ]
     },
     "metadata": {
      "needs_background": "light"
     },
     "output_type": "display_data"
    }
   ],
   "source": [
    "def image_information(data_set_info):\n",
    "    plt.rcParams[\"font.size\"]=14\n",
    "    plt.pie([data_set_info.nb[data_set_info.Category==\"healthy\"].sum(),data_set_info.nb[data_set_info.Category!=\"health\"].sum()],labels=[\"Healthy\",\"Disease\"],autopct=lambda x:str(round(x,1))+\"%\",colors=[\"#007CC3\",\"#47B39C\"],shadow=False,explode=(0.20,0))\n",
    "\n",
    "    \n",
    "plt.figure(figsize=(20,20))\n",
    "plt.subplot(1,3,1)\n",
    "plt.title(\"Train vs Valid data Distribution\",fontsize=19,color=\"Blue\")\n",
    "plt.rcParams[\"font.size\"]=14\n",
    "\n",
    "total_data = 15350\n",
    "train_ratio = 0.8\n",
    "\n",
    "train_data_count = int(total_data * train_ratio)\n",
    "valid_data_count = total_data - train_data_count\n"
   ]
  },
  {
   "cell_type": "code",
   "execution_count": 21,
   "id": "4043a56d",
   "metadata": {},
   "outputs": [
    {
     "ename": "AttributeError",
     "evalue": "'int' object has no attribute 'nb'",
     "output_type": "error",
     "traceback": [
      "\u001b[0;31m---------------------------------------------------------------------------\u001b[0m",
      "\u001b[0;31mAttributeError\u001b[0m                            Traceback (most recent call last)",
      "\u001b[0;32m/var/folders/6j/l3dggmk13cb32hxjnt765zzw0000gn/T/ipykernel_1812/3617344103.py\u001b[0m in \u001b[0;36m<module>\u001b[0;34m\u001b[0m\n\u001b[1;32m      1\u001b[0m \u001b[0;31m# image_information(valid_data_count)\u001b[0m\u001b[0;34m\u001b[0m\u001b[0;34m\u001b[0m\u001b[0;34m\u001b[0m\u001b[0m\n\u001b[0;32m----> 2\u001b[0;31m \u001b[0mplt\u001b[0m\u001b[0;34m.\u001b[0m\u001b[0mpie\u001b[0m\u001b[0;34m(\u001b[0m\u001b[0;34m[\u001b[0m\u001b[0mvalid_data_count\u001b[0m\u001b[0;34m.\u001b[0m\u001b[0mnb\u001b[0m\u001b[0;34m.\u001b[0m\u001b[0msum\u001b[0m\u001b[0;34m(\u001b[0m\u001b[0;34m)\u001b[0m\u001b[0;34m,\u001b[0m \u001b[0mtrain_data_count\u001b[0m\u001b[0;34m.\u001b[0m\u001b[0mnb\u001b[0m\u001b[0;34m.\u001b[0m\u001b[0msum\u001b[0m\u001b[0;34m(\u001b[0m\u001b[0;34m)\u001b[0m\u001b[0;34m]\u001b[0m\u001b[0;34m,\u001b[0m \u001b[0mlabels\u001b[0m\u001b[0;34m=\u001b[0m\u001b[0;34m[\u001b[0m\u001b[0;34m\"Valid Data\"\u001b[0m\u001b[0;34m,\u001b[0m \u001b[0;34m\"Train Data\"\u001b[0m\u001b[0;34m]\u001b[0m\u001b[0;34m,\u001b[0m \u001b[0mautopct\u001b[0m\u001b[0;34m=\u001b[0m\u001b[0;32mlambda\u001b[0m \u001b[0mx\u001b[0m\u001b[0;34m:\u001b[0m \u001b[0mstr\u001b[0m\u001b[0;34m(\u001b[0m\u001b[0mround\u001b[0m\u001b[0;34m(\u001b[0m\u001b[0mx\u001b[0m\u001b[0;34m,\u001b[0m\u001b[0;36m2\u001b[0m\u001b[0;34m)\u001b[0m\u001b[0;34m)\u001b[0m \u001b[0;34m+\u001b[0m \u001b[0;34m\"%\"\u001b[0m \u001b[0;34m,\u001b[0m \u001b[0mcolors\u001b[0m\u001b[0;34m=\u001b[0m\u001b[0;34m[\u001b[0m\u001b[0;34m\"#FFA600\"\u001b[0m\u001b[0;34m,\u001b[0m \u001b[0;34m\"#47B39C\"\u001b[0m\u001b[0;34m]\u001b[0m\u001b[0;34m,\u001b[0m \u001b[0mshadow\u001b[0m\u001b[0;34m=\u001b[0m\u001b[0;32mFalse\u001b[0m\u001b[0;34m,\u001b[0m \u001b[0mexplode\u001b[0m\u001b[0;34m=\u001b[0m\u001b[0;34m(\u001b[0m\u001b[0;36m0.20\u001b[0m\u001b[0;34m,\u001b[0m\u001b[0;36m0\u001b[0m\u001b[0;34m)\u001b[0m\u001b[0;34m)\u001b[0m\u001b[0;34m\u001b[0m\u001b[0;34m\u001b[0m\u001b[0m\n\u001b[0m\u001b[1;32m      3\u001b[0m \u001b[0mplt\u001b[0m\u001b[0;34m.\u001b[0m\u001b[0msubplot\u001b[0m\u001b[0;34m(\u001b[0m\u001b[0;36m1\u001b[0m\u001b[0;34m,\u001b[0m\u001b[0;36m3\u001b[0m\u001b[0;34m,\u001b[0m\u001b[0;36m2\u001b[0m\u001b[0;34m)\u001b[0m\u001b[0;34m\u001b[0m\u001b[0;34m\u001b[0m\u001b[0m\n\u001b[1;32m      4\u001b[0m \u001b[0mplt\u001b[0m\u001b[0;34m.\u001b[0m\u001b[0mtitle\u001b[0m\u001b[0;34m(\u001b[0m\u001b[0;34m\"Train Data Set Healthy Vs Disease Plant \"\u001b[0m        \u001b[0;34m\"          \"\u001b[0m  \u001b[0;34m,\u001b[0m\u001b[0mfontsize\u001b[0m\u001b[0;34m=\u001b[0m\u001b[0;36m19\u001b[0m\u001b[0;34m,\u001b[0m\u001b[0mcolor\u001b[0m\u001b[0;34m=\u001b[0m\u001b[0;34m\"aqua\"\u001b[0m\u001b[0;34m)\u001b[0m\u001b[0;34m\u001b[0m\u001b[0;34m\u001b[0m\u001b[0m\n\u001b[1;32m      5\u001b[0m \u001b[0mimage_information\u001b[0m\u001b[0;34m(\u001b[0m\u001b[0mtrain_data_count\u001b[0m\u001b[0;34m)\u001b[0m\u001b[0;34m\u001b[0m\u001b[0;34m\u001b[0m\u001b[0m\n",
      "\u001b[0;31mAttributeError\u001b[0m: 'int' object has no attribute 'nb'"
     ]
    }
   ],
   "source": [
    "\n",
    "# image_information(valid_data_count)\n",
    "plt.pie([valid_data_count.nb.sum(), train_data_count.nb.sum()], labels=[\"Valid Data\", \"Train Data\"], autopct=lambda x: str(round(x,2)) + \"%\" , colors=[\"#FFA600\", \"#47B39C\"], shadow=False, explode=(0.20,0))\n",
    "plt.subplot(1,3,2)\n",
    "plt.title(\"Train Data Set Healthy Vs Disease Plant \"        \"          \"  ,fontsize=19,color=\"aqua\")\n",
    "image_information(train_data_count)\n",
    "plt.subplot(1,3,3)\n",
    "plt.title('Valid Data Set - Healthy VS Disease plant', fontsize=19,color=\"springgreen\")\n",
    "image_information(valid_data_count)\n",
    "         "
   ]
  },
  {
   "cell_type": "code",
   "execution_count": null,
   "id": "92def1cd",
   "metadata": {},
   "outputs": [],
   "source": []
  },
  {
   "cell_type": "code",
   "execution_count": 22,
   "id": "080f7bc9",
   "metadata": {},
   "outputs": [
    {
     "name": "stderr",
     "output_type": "stream",
     "text": [
      "/Library/Frameworks/Python.framework/Versions/3.9/lib/python3.9/site-packages/keras/src/engine/training.py:3103: UserWarning: You are saving your model as an HDF5 file via `model.save()`. This file format is considered legacy. We recommend using instead the native Keras format, e.g. `model.save('my_model.keras')`.\n",
      "  saving_api.save_model(\n"
     ]
    }
   ],
   "source": [
    "model.save(f'./model/resnet50_combined.h5')"
   ]
  },
  {
   "cell_type": "code",
   "execution_count": null,
   "id": "efdfd59d",
   "metadata": {},
   "outputs": [],
   "source": [
    "import os\n",
    "[  os.listdir(\"./model\")]"
   ]
  },
  {
   "cell_type": "code",
   "execution_count": 24,
   "id": "74d313e5",
   "metadata": {},
   "outputs": [],
   "source": [
    "import numpy as np\n",
    "from keras.models import load_model\n",
    "from keras.preprocessing import image\n",
    "model=load_model(f'./model/resnet50_combined.h5')"
   ]
  },
  {
   "cell_type": "code",
   "execution_count": 25,
   "id": "dc89d25e",
   "metadata": {},
   "outputs": [
    {
     "name": "stdout",
     "output_type": "stream",
     "text": [
      "38/38 [==============================] - 13s 316ms/step\n"
     ]
    },
    {
     "data": {
      "image/png": "[encoded data removed]",
      "text/plain": [
       "<Figure size 576x432 with 2 Axes>"
      ]
     },
     "metadata": {
      "needs_background": "light"
     },
     "output_type": "display_data"
    }
   ],
   "source": [
    "from sklearn.metrics import confusion_matrix\n",
    "import seaborn as sns\n",
    "\n",
    "# Predicting the classes for the test set\n",
    "y_pred = model.predict(x_test)\n",
    "y_pred_classes = np.argmax(y_pred, axis=1)\n",
    "y_true_classes = np.argmax(y_test, axis=1)\n",
    "\n",
    "# Generate confusion matrix\n",
    "conf_matrix = confusion_matrix(y_true_classes, y_pred_classes)\n",
    "\n",
    "# Plot confusion matrix\n",
    "plt.figure(figsize=(8, 6))\n",
    "sns.heatmap(conf_matrix, annot=True, fmt='d', cmap='Blues', xticklabels=label_binarizer.classes_, yticklabels=label_binarizer.classes_)\n",
    "plt.xlabel('Predicted labels')\n",
    "plt.ylabel('True labels')\n",
    "plt.title('Confusion Matrix')\n",
    "plt.show()\n"
   ]
  },
  {
   "cell_type": "code",
   "execution_count": null,
   "id": "8be2e3b0",
   "metadata": {},
   "outputs": [],
   "source": [
    "import numpy as np\n",
    "\n",
    "for images_batch, labels_batch in test_ds.take(1):\n",
    "    first_image = images_batch[0].numpy().astype('uint8')\n",
    "    first_label_index = np.argmax(labels_batch[0].numpy())\n",
    "    \n",
    "    print(\"first image to predict\")\n",
    "    plt.imshow(first_image)\n",
    "    print(\"actual label:\", class_names[first_label_index])\n",
    "    \n",
    "    batch_prediction = model.predict(images_batch)\n",
    "    print(\"predicted label:\", class_names[np.argmax(batch_prediction[0])])\n"
   ]
  },
  {
   "cell_type": "code",
   "execution_count": null,
   "id": "f79d8fb2",
   "metadata": {},
   "outputs": [],
   "source": []
  }
 ],
 "metadata": {
  "kernelspec": {
   "display_name": "Python 3 (ipykernel)",
   "language": "python",
   "name": "python3"
  },
  "language_info": {
   "codemirror_mode": {
    "name": "ipython",
    "version": 3
   },
   "file_extension": ".py",
   "mimetype": "text/x-python",
   "name": "python",
   "nbconvert_exporter": "python",
   "pygments_lexer": "ipython3",
   "version": "3.9.5"
  }
 },
 "nbformat": 4,
 "nbformat_minor": 5
}
