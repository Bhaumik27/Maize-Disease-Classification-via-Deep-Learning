{
 "cells": [
  {
   "cell_type": "code",
   "execution_count": 1,
   "id": "80cd3e22",
   "metadata": {},
   "outputs": [
    {
     "name": "stderr",
     "output_type": "stream",
     "text": [
      "2024-05-06 15:24:33.569608: I tensorflow/core/platform/cpu_feature_guard.cc:182] This TensorFlow binary is optimized to use available CPU instructions in performance-critical operations.\n",
      "To enable the following instructions: AVX2 FMA, in other operations, rebuild TensorFlow with the appropriate compiler flags.\n",
      "/Library/Frameworks/Python.framework/Versions/3.9/lib/python3.9/site-packages/scipy/__init__.py:155: UserWarning: A NumPy version >=1.18.5 and <1.25.0 is required for this version of SciPy (detected version 1.26.3\n",
      "  warnings.warn(f\"A NumPy version >={np_minversion} and <{np_maxversion}\"\n"
     ]
    }
   ],
   "source": [
    "import numpy as np\n",
    "import pickle\n",
    "import cv2\n",
    "import tensorflow as tf\n",
    "from os import listdir\n",
    "from sklearn.preprocessing import LabelBinarizer\n",
    "from keras.models import Sequential\n",
    "from tensorflow.keras.layers import BatchNormalization, Conv2D, MaxPooling2D, Activation, Flatten, Dropout, Dense\n",
    "from keras import backend as K\n",
    "from keras.preprocessing.image import ImageDataGenerator\n",
    "from keras.optimizers import Adam\n",
    "from keras.preprocessing import image\n",
    "from keras.preprocessing.image import img_to_array\n",
    "from sklearn.preprocessing import MultiLabelBinarizer\n",
    "from sklearn.model_selection import train_test_split\n",
    "import matplotlib.pyplot as plt\n",
    "\n",
    "import os\n",
    "os.environ['TF_CPP_MIN_LOG_LEVEL'] = '2'"
   ]
  },
  {
   "cell_type": "code",
   "execution_count": 2,
   "id": "ad800731",
   "metadata": {},
   "outputs": [],
   "source": [
    "EPOCHS = 50\n",
    "INIT_LR = 1e-3\n",
    "BS = 16\n",
    "default_image_size = tuple((64, 64))\n",
    "image_size = 0\n",
    "width=64\n",
    "height=64\n",
    "depth=3\n",
    "image_size = 0\n",
    "directory_root = 'Combined Data'"
   ]
  },
  {
   "cell_type": "code",
   "execution_count": 3,
   "id": "eaf23bc1",
   "metadata": {},
   "outputs": [],
   "source": [
    "def convert_image_to_array(image_dir):\n",
    "    try:\n",
    "        image = cv2.imread(image_dir)\n",
    "        if image is not None :\n",
    "            image = cv2.resize(image, default_image_size)   \n",
    "            return img_to_array(image)\n",
    "        else :\n",
    "            return np.array([])\n",
    "    except Exception as e:\n",
    "        print(\"Error :\", e)\n",
    "        return None"
   ]
  },
  {
   "cell_type": "code",
   "execution_count": 4,
   "id": "3e2d1e65",
   "metadata": {},
   "outputs": [
    {
     "name": "stdout",
     "output_type": "stream",
     "text": [
      "[INFO] Loading images ...\n",
      "[INFO] Processing Maize_Common_Rust ...\n",
      "[INFO] Processing MLN ...\n",
      "[INFO] Processing HEATHLY ...\n",
      "[INFO] Processing MSV ...\n",
      "[INFO] Processing Maize_Blight ...\n",
      "[INFO] Processing Maize_Gray_Leaf_Spot ...\n",
      "[INFO] Image loading completed\n"
     ]
    }
   ],
   "source": [
    "image_list, label_list = [], []\n",
    "try:\n",
    "    print(\"[INFO] Loading images ...\")\n",
    "    root_dir = listdir(directory_root)\n",
    "    for directory in root_dir :\n",
    "        # remove .DS_Store from list\n",
    "        if directory == \".DS_Store\" :\n",
    "            root_dir.remove(directory)\n",
    "\n",
    "    for plant_folder in root_dir :\n",
    "       \n",
    "        plant_disease_folder_list = listdir(f\"{directory_root}/{plant_folder}\")\n",
    "        \n",
    "        for disease_folder in plant_disease_folder_list :\n",
    "            # remove .DS_Store from list\n",
    "            if disease_folder == \".DS_Store\" :\n",
    "                plant_disease_folder_list.remove(disease_folder)\n",
    "\n",
    "        for plant_disease_folder in plant_disease_folder_list:\n",
    "            print(f\"[INFO] Processing {plant_disease_folder} ...\")\n",
    "            plant_disease_image_list = listdir(f\"{directory_root}/{plant_folder}/{plant_disease_folder}/\")\n",
    "                \n",
    "            for single_plant_disease_image in plant_disease_image_list :\n",
    "                if single_plant_disease_image == \".DS_Store\" :\n",
    "                    plant_disease_image_list.remove(single_plant_disease_image)\n",
    "\n",
    "            for image in plant_disease_image_list:\n",
    "                image_directory = f\"{directory_root}/{plant_folder}/{plant_disease_folder}/{image}\"\n",
    "                if image_directory.endswith(\".jpg\") == True or image_directory.endswith(\".JPG\") == True:\n",
    "                    image_list.append(convert_image_to_array(image_directory))\n",
    "                    label_list.append(plant_disease_folder)\n",
    "    print(\"[INFO] Image loading completed\")  \n",
    "except Exception as e:\n",
    "    print(f\"Error : {e}\")"
   ]
  },
  {
   "cell_type": "code",
   "execution_count": 5,
   "id": "80611b93",
   "metadata": {},
   "outputs": [
    {
     "name": "stdout",
     "output_type": "stream",
     "text": [
      "6000\n"
     ]
    }
   ],
   "source": [
    "image_size = len(image_list)\n",
    "print(image_size)"
   ]
  },
  {
   "cell_type": "code",
   "execution_count": 6,
   "id": "0976a68b",
   "metadata": {},
   "outputs": [
    {
     "name": "stdout",
     "output_type": "stream",
     "text": [
      "['HEATHLY' 'MLN' 'MSV' 'Maize_Blight' 'Maize_Common_Rust'\n",
      " 'Maize_Gray_Leaf_Spot']\n"
     ]
    }
   ],
   "source": [
    "label_binarizer = LabelBinarizer()\n",
    "image_labels = label_binarizer.fit_transform(label_list)\n",
    "pickle.dump(label_binarizer,open('label_transform.pkl', 'wb'))\n",
    "n_classes = len(label_binarizer.classes_)\n",
    "print(label_binarizer.classes_)"
   ]
  },
  {
   "cell_type": "code",
   "execution_count": 7,
   "id": "befc8e60",
   "metadata": {},
   "outputs": [],
   "source": [
    "np_image_list = np.array(image_list, dtype=np.float16) / 225.0"
   ]
  },
  {
   "cell_type": "code",
   "execution_count": 8,
   "id": "4719f0d6",
   "metadata": {},
   "outputs": [
    {
     "name": "stdout",
     "output_type": "stream",
     "text": [
      "[INFO] Spliting data to train, test\n"
     ]
    }
   ],
   "source": [
    "print(\"[INFO] Spliting data to train, test\")\n",
    "x_train, x_test, y_train, y_test = train_test_split(np_image_list, image_labels, test_size=0.20, random_state = 42)"
   ]
  },
  {
   "cell_type": "code",
   "execution_count": 9,
   "id": "61d0c9a4",
   "metadata": {},
   "outputs": [],
   "source": [
    "aug = ImageDataGenerator(\n",
    "    rotation_range=25, width_shift_range=0.1,\n",
    "    height_shift_range=0.1, shear_range=0.2, \n",
    "    zoom_range=0.2,horizontal_flip=True, \n",
    "    fill_mode=\"nearest\")"
   ]
  },
  {
   "cell_type": "code",
   "execution_count": null,
   "id": "dae7f32c",
   "metadata": {},
   "outputs": [],
   "source": []
  },
  {
   "cell_type": "code",
   "execution_count": 10,
   "id": "67d546f7",
   "metadata": {},
   "outputs": [],
   "source": [
    "inputShape = (height, width, depth)\n",
    "\n",
    "from tensorflow.keras.applications import VGG16\n",
    "\n",
    "from keras.models import Model\n",
    "import keras\n",
    "\n",
    "base_model = VGG16(\n",
    "    weights='/Users/bhaumikpanchal/Downloads/vgg16_weights_tf_dim_ordering_tf_kernels_notop.h5',\n",
    "    include_top=False,\n",
    "    input_shape=inputShape\n",
    ")\n",
    "\n",
    "\n",
    "output1 = base_model.layers[-1].output\n",
    "\n",
    "output2 = keras.layers.Flatten()(output1)\n",
    "\n",
    "base_model = Model(base_model.input, outputs=output2)\n",
    "\n",
    "for layer in base_model.layers:\n",
    "    layer.trainable = True"
   ]
  },
  {
   "cell_type": "code",
   "execution_count": null,
   "id": "70712154",
   "metadata": {},
   "outputs": [],
   "source": []
  },
  {
   "cell_type": "raw",
   "id": "ec0360eb",
   "metadata": {},
   "source": [
    "from keras.layers import Conv2D, MaxPooling2D, Flatten, Dense, Dropout, InputLayer\n",
    "from keras.models import Sequential\n",
    "from keras import optimizers\n",
    "from tensorflow.keras.metrics import Precision, Recall, AUC, TruePositives, TrueNegatives, FalsePositives, FalseNegatives\n",
    "\n",
    "model = tf.keras.Sequential([\n",
    "    resize_and_rescale,\n",
    "    data_augmentation,\n",
    "    base_model,\n",
    "    layers.GlobalAveragePooling2D(),\n",
    "    layers.Dense(128, activation='relu'),\n",
    "    layers.Dense(num_classes, activation='softmax')\n",
    "])\n",
    "\n",
    "\n",
    "#Model Compiling\n",
    "model.compile(loss='binary_crossentropy',\n",
    "                  optimizer=optimizers.RMSprop(learning_rate=2e-5),\n",
    "                  metrics=['acc',Precision(), Recall(), AUC(), TruePositives(), TrueNegatives(), FalsePositives(), FalseNegatives()])"
   ]
  },
  {
   "cell_type": "code",
   "execution_count": 11,
   "id": "413c0a84",
   "metadata": {},
   "outputs": [],
   "source": [
    "from keras.layers import Conv2D, MaxPooling2D, Flatten, Dense, Dropout, InputLayer\n",
    "from keras.models import Sequential\n",
    "from keras import optimizers\n",
    "from tensorflow.keras.metrics import Precision, Recall, AUC, TruePositives, TrueNegatives, FalsePositives, FalseNegatives\n",
    "\n",
    "model = Sequential()\n",
    "model.add(base_model)\n",
    "model.add(Dense(512, activation='relu', input_dim=inputShape))\n",
    "model.add(Dropout(0.3))\n",
    "model.add(Dense(512, activation='relu'))\n",
    "model.add(Dropout(0.3))\n",
    "model.add(Dense(n_classes, activation='softmax'))\n",
    "\n",
    "\n",
    "#Model Compiling\n",
    "model.compile(loss='binary_crossentropy',\n",
    "                  optimizer=optimizers.RMSprop(learning_rate=2e-5),\n",
    "                  metrics=['acc',Precision(), Recall(), AUC(), TruePositives(), TrueNegatives(), FalsePositives(), FalseNegatives()])"
   ]
  },
  {
   "cell_type": "code",
   "execution_count": null,
   "id": "09cfc187",
   "metadata": {},
   "outputs": [],
   "source": []
  },
  {
   "cell_type": "code",
   "execution_count": 12,
   "id": "fd795865",
   "metadata": {},
   "outputs": [
    {
     "name": "stdout",
     "output_type": "stream",
     "text": [
      "Model: \"sequential\"\n",
      "_________________________________________________________________\n",
      " Layer (type)                Output Shape              Param #   \n",
      "=================================================================\n",
      " model (Functional)          (None, 2048)              14714688  \n",
      "                                                                 \n",
      " dense (Dense)               (None, 512)               1049088   \n",
      "                                                                 \n",
      " dropout (Dropout)           (None, 512)               0         \n",
      "                                                                 \n",
      " dense_1 (Dense)             (None, 512)               262656    \n",
      "                                                                 \n",
      " dropout_1 (Dropout)         (None, 512)               0         \n",
      "                                                                 \n",
      " dense_2 (Dense)             (None, 6)                 3078      \n",
      "                                                                 \n",
      "=================================================================\n",
      "Total params: 16029510 (61.15 MB)\n",
      "Trainable params: 16029510 (61.15 MB)\n",
      "Non-trainable params: 0 (0.00 Byte)\n",
      "_________________________________________________________________\n"
     ]
    }
   ],
   "source": [
    "model.summary()"
   ]
  },
  {
   "cell_type": "code",
   "execution_count": 13,
   "id": "bd1e5536",
   "metadata": {},
   "outputs": [
    {
     "name": "stdout",
     "output_type": "stream",
     "text": [
      "Epoch 1/50\n",
      "300/300 [==============================] - 2664s 9s/step - loss: 0.2263 - acc: 0.7329 - precision: 0.8101 - recall: 0.6746 - auc: 0.9405 - true_positives: 3238.0000 - true_negatives: 23241.0000 - false_positives: 759.0000 - false_negatives: 1562.0000 - val_loss: 0.1251 - val_acc: 0.8533 - val_precision: 0.8595 - val_recall: 0.8517 - val_auc: 0.9741 - val_true_positives: 1022.0000 - val_true_negatives: 5833.0000 - val_false_positives: 167.0000 - val_false_negatives: 178.0000\n",
      "Epoch 2/50\n",
      "300/300 [==============================] - 568s 2s/step - loss: 0.1269 - acc: 0.8742 - precision: 0.8828 - recall: 0.8665 - auc: 0.9751 - true_positives: 4159.0000 - true_negatives: 23448.0000 - false_positives: 552.0000 - false_negatives: 641.0000 - val_loss: 0.0993 - val_acc: 0.8992 - val_precision: 0.9004 - val_recall: 0.8967 - val_auc: 0.9811 - val_true_positives: 1076.0000 - val_true_negatives: 5881.0000 - val_false_positives: 119.0000 - val_false_negatives: 124.0000\n",
      "Epoch 3/50\n",
      "300/300 [==============================] - 567s 2s/step - loss: 0.1024 - acc: 0.8896 - precision: 0.8948 - recall: 0.8856 - auc: 0.9799 - true_positives: 4251.0000 - true_negatives: 23500.0000 - false_positives: 500.0000 - false_negatives: 549.0000 - val_loss: 0.0740 - val_acc: 0.9142 - val_precision: 0.9186 - val_recall: 0.9125 - val_auc: 0.9879 - val_true_positives: 1095.0000 - val_true_negatives: 5903.0000 - val_false_positives: 97.0000 - val_false_negatives: 105.0000\n",
      "Epoch 4/50\n",
      "300/300 [==============================] - 571s 2s/step - loss: 0.0879 - acc: 0.9104 - precision: 0.9141 - recall: 0.9069 - auc: 0.9830 - true_positives: 4353.0000 - true_negatives: 23591.0000 - false_positives: 409.0000 - false_negatives: 447.0000 - val_loss: 0.0597 - val_acc: 0.9367 - val_precision: 0.9404 - val_recall: 0.9342 - val_auc: 0.9899 - val_true_positives: 1121.0000 - val_true_negatives: 5929.0000 - val_false_positives: 71.0000 - val_false_negatives: 79.0000\n",
      "Epoch 5/50\n",
      "300/300 [==============================] - 610s 2s/step - loss: 0.0780 - acc: 0.9154 - precision: 0.9209 - recall: 0.9119 - auc: 0.9852 - true_positives: 4377.0000 - true_negatives: 23624.0000 - false_positives: 376.0000 - false_negatives: 423.0000 - val_loss: 0.0728 - val_acc: 0.9100 - val_precision: 0.9195 - val_recall: 0.9042 - val_auc: 0.9876 - val_true_positives: 1085.0000 - val_true_negatives: 5905.0000 - val_false_positives: 95.0000 - val_false_negatives: 115.0000\n",
      "Epoch 6/50\n",
      "300/300 [==============================] - 620s 2s/step - loss: 0.0673 - acc: 0.9281 - precision: 0.9332 - recall: 0.9256 - auc: 0.9885 - true_positives: 4443.0000 - true_negatives: 23682.0000 - false_positives: 318.0000 - false_negatives: 357.0000 - val_loss: 0.0600 - val_acc: 0.9417 - val_precision: 0.9454 - val_recall: 0.9383 - val_auc: 0.9881 - val_true_positives: 1126.0000 - val_true_negatives: 5935.0000 - val_false_positives: 65.0000 - val_false_negatives: 74.0000\n",
      "Epoch 7/50\n",
      "300/300 [==============================] - 627s 2s/step - loss: 0.0625 - acc: 0.9337 - precision: 0.9377 - recall: 0.9312 - auc: 0.9900 - true_positives: 4470.0000 - true_negatives: 23703.0000 - false_positives: 297.0000 - false_negatives: 330.0000 - val_loss: 0.0529 - val_acc: 0.9467 - val_precision: 0.9490 - val_recall: 0.9467 - val_auc: 0.9894 - val_true_positives: 1136.0000 - val_true_negatives: 5939.0000 - val_false_positives: 61.0000 - val_false_negatives: 64.0000\n",
      "Epoch 8/50\n",
      "300/300 [==============================] - 640s 2s/step - loss: 0.0567 - acc: 0.9400 - precision: 0.9438 - recall: 0.9377 - auc: 0.9912 - true_positives: 4501.0000 - true_negatives: 23732.0000 - false_positives: 268.0000 - false_negatives: 299.0000 - val_loss: 0.0654 - val_acc: 0.9267 - val_precision: 0.9280 - val_recall: 0.9242 - val_auc: 0.9862 - val_true_positives: 1109.0000 - val_true_negatives: 5914.0000 - val_false_positives: 86.0000 - val_false_negatives: 91.0000\n",
      "Epoch 9/50\n",
      "300/300 [==============================] - 637s 2s/step - loss: 0.0507 - acc: 0.9463 - precision: 0.9487 - recall: 0.9446 - auc: 0.9922 - true_positives: 4534.0000 - true_negatives: 23755.0000 - false_positives: 245.0000 - false_negatives: 266.0000 - val_loss: 0.0439 - val_acc: 0.9550 - val_precision: 0.9550 - val_recall: 0.9550 - val_auc: 0.9916 - val_true_positives: 1146.0000 - val_true_negatives: 5946.0000 - val_false_positives: 54.0000 - val_false_negatives: 54.0000\n",
      "Epoch 10/50\n",
      "300/300 [==============================] - 639s 2s/step - loss: 0.0485 - acc: 0.9504 - precision: 0.9529 - recall: 0.9475 - auc: 0.9918 - true_positives: 4548.0000 - true_negatives: 23775.0000 - false_positives: 225.0000 - false_negatives: 252.0000 - val_loss: 0.1042 - val_acc: 0.8958 - val_precision: 0.8981 - val_recall: 0.8958 - val_auc: 0.9747 - val_true_positives: 1075.0000 - val_true_negatives: 5878.0000 - val_false_positives: 122.0000 - val_false_negatives: 125.0000\n",
      "Epoch 11/50\n",
      "300/300 [==============================] - 653s 2s/step - loss: 0.0484 - acc: 0.9502 - precision: 0.9527 - recall: 0.9483 - auc: 0.9916 - true_positives: 4552.0000 - true_negatives: 23774.0000 - false_positives: 226.0000 - false_negatives: 248.0000 - val_loss: 0.0472 - val_acc: 0.9550 - val_precision: 0.9574 - val_recall: 0.9550 - val_auc: 0.9906 - val_true_positives: 1146.0000 - val_true_negatives: 5949.0000 - val_false_positives: 51.0000 - val_false_negatives: 54.0000\n",
      "Epoch 12/50\n",
      "300/300 [==============================] - 1990s 7s/step - loss: 0.0447 - acc: 0.9548 - precision: 0.9557 - recall: 0.9525 - auc: 0.9926 - true_positives: 4572.0000 - true_negatives: 23788.0000 - false_positives: 212.0000 - false_negatives: 228.0000 - val_loss: 0.0401 - val_acc: 0.9617 - val_precision: 0.9624 - val_recall: 0.9592 - val_auc: 0.9926 - val_true_positives: 1151.0000 - val_true_negatives: 5955.0000 - val_false_positives: 45.0000 - val_false_negatives: 49.0000\n",
      "Epoch 13/50\n",
      "300/300 [==============================] - 585s 2s/step - loss: 0.0389 - acc: 0.9613 - precision: 0.9638 - recall: 0.9600 - auc: 0.9931 - true_positives: 4608.0000 - true_negatives: 23827.0000 - false_positives: 173.0000 - false_negatives: 192.0000 - val_loss: 0.0539 - val_acc: 0.9483 - val_precision: 0.9513 - val_recall: 0.9442 - val_auc: 0.9903 - val_true_positives: 1133.0000 - val_true_negatives: 5942.0000 - val_false_positives: 58.0000 - val_false_negatives: 67.0000\n",
      "Epoch 14/50\n",
      "300/300 [==============================] - 594s 2s/step - loss: 0.0366 - acc: 0.9635 - precision: 0.9653 - recall: 0.9621 - auc: 0.9938 - true_positives: 4618.0000 - true_negatives: 23834.0000 - false_positives: 166.0000 - false_negatives: 182.0000 - val_loss: 0.0579 - val_acc: 0.9425 - val_precision: 0.9455 - val_recall: 0.9400 - val_auc: 0.9875 - val_true_positives: 1128.0000 - val_true_negatives: 5935.0000 - val_false_positives: 65.0000 - val_false_negatives: 72.0000\n",
      "Epoch 15/50\n",
      "300/300 [==============================] - 589s 2s/step - loss: 0.0371 - acc: 0.9669 - precision: 0.9689 - recall: 0.9656 - auc: 0.9938 - true_positives: 4635.0000 - true_negatives: 23851.0000 - false_positives: 149.0000 - false_negatives: 165.0000 - val_loss: 0.0503 - val_acc: 0.9567 - val_precision: 0.9574 - val_recall: 0.9558 - val_auc: 0.9879 - val_true_positives: 1147.0000 - val_true_negatives: 5949.0000 - val_false_positives: 51.0000 - val_false_negatives: 53.0000\n",
      "Epoch 16/50\n",
      "300/300 [==============================] - 592s 2s/step - loss: 0.0298 - acc: 0.9692 - precision: 0.9716 - recall: 0.9681 - auc: 0.9952 - true_positives: 4647.0000 - true_negatives: 23864.0000 - false_positives: 136.0000 - false_negatives: 153.0000 - val_loss: 0.0674 - val_acc: 0.9300 - val_precision: 0.9299 - val_recall: 0.9283 - val_auc: 0.9826 - val_true_positives: 1114.0000 - val_true_negatives: 5916.0000 - val_false_positives: 84.0000 - val_false_negatives: 86.0000\n",
      "Epoch 17/50\n",
      "300/300 [==============================] - 599s 2s/step - loss: 0.0306 - acc: 0.9719 - precision: 0.9731 - recall: 0.9710 - auc: 0.9939 - true_positives: 4661.0000 - true_negatives: 23871.0000 - false_positives: 129.0000 - false_negatives: 139.0000 - val_loss: 0.0490 - val_acc: 0.9625 - val_precision: 0.9624 - val_recall: 0.9608 - val_auc: 0.9873 - val_true_positives: 1153.0000 - val_true_negatives: 5955.0000 - val_false_positives: 45.0000 - val_false_negatives: 47.0000\n"
     ]
    },
    {
     "name": "stdout",
     "output_type": "stream",
     "text": [
      "Epoch 18/50\n",
      "300/300 [==============================] - 590s 2s/step - loss: 0.0288 - acc: 0.9717 - precision: 0.9730 - recall: 0.9702 - auc: 0.9950 - true_positives: 4657.0000 - true_negatives: 23871.0000 - false_positives: 129.0000 - false_negatives: 143.0000 - val_loss: 0.0479 - val_acc: 0.9442 - val_precision: 0.9465 - val_recall: 0.9433 - val_auc: 0.9922 - val_true_positives: 1132.0000 - val_true_negatives: 5936.0000 - val_false_positives: 64.0000 - val_false_negatives: 68.0000\n",
      "Epoch 19/50\n",
      "300/300 [==============================] - 587s 2s/step - loss: 0.0301 - acc: 0.9719 - precision: 0.9724 - recall: 0.9700 - auc: 0.9951 - true_positives: 4656.0000 - true_negatives: 23868.0000 - false_positives: 132.0000 - false_negatives: 144.0000 - val_loss: 0.0436 - val_acc: 0.9600 - val_precision: 0.9599 - val_recall: 0.9575 - val_auc: 0.9900 - val_true_positives: 1149.0000 - val_true_negatives: 5952.0000 - val_false_positives: 48.0000 - val_false_negatives: 51.0000\n",
      "Epoch 20/50\n",
      "300/300 [==============================] - 592s 2s/step - loss: 0.0283 - acc: 0.9725 - precision: 0.9731 - recall: 0.9723 - auc: 0.9954 - true_positives: 4667.0000 - true_negatives: 23871.0000 - false_positives: 129.0000 - false_negatives: 133.0000 - val_loss: 0.0588 - val_acc: 0.9400 - val_precision: 0.9399 - val_recall: 0.9383 - val_auc: 0.9894 - val_true_positives: 1126.0000 - val_true_negatives: 5928.0000 - val_false_positives: 72.0000 - val_false_negatives: 74.0000\n",
      "Epoch 21/50\n",
      "300/300 [==============================] - 582s 2s/step - loss: 0.0271 - acc: 0.9733 - precision: 0.9745 - recall: 0.9729 - auc: 0.9951 - true_positives: 4670.0000 - true_negatives: 23878.0000 - false_positives: 122.0000 - false_negatives: 130.0000 - val_loss: 0.0348 - val_acc: 0.9708 - val_precision: 0.9708 - val_recall: 0.9708 - val_auc: 0.9928 - val_true_positives: 1165.0000 - val_true_negatives: 5965.0000 - val_false_positives: 35.0000 - val_false_negatives: 35.0000\n",
      "Epoch 22/50\n",
      "300/300 [==============================] - 579s 2s/step - loss: 0.0234 - acc: 0.9777 - precision: 0.9787 - recall: 0.9769 - auc: 0.9956 - true_positives: 4689.0000 - true_negatives: 23898.0000 - false_positives: 102.0000 - false_negatives: 111.0000 - val_loss: 0.0387 - val_acc: 0.9683 - val_precision: 0.9683 - val_recall: 0.9683 - val_auc: 0.9917 - val_true_positives: 1162.0000 - val_true_negatives: 5962.0000 - val_false_positives: 38.0000 - val_false_negatives: 38.0000\n",
      "Epoch 23/50\n",
      "300/300 [==============================] - 563s 2s/step - loss: 0.0257 - acc: 0.9777 - precision: 0.9781 - recall: 0.9769 - auc: 0.9951 - true_positives: 4689.0000 - true_negatives: 23895.0000 - false_positives: 105.0000 - false_negatives: 111.0000 - val_loss: 0.0413 - val_acc: 0.9650 - val_precision: 0.9657 - val_recall: 0.9633 - val_auc: 0.9899 - val_true_positives: 1156.0000 - val_true_negatives: 5959.0000 - val_false_positives: 41.0000 - val_false_negatives: 44.0000\n",
      "Epoch 24/50\n",
      "300/300 [==============================] - 555s 2s/step - loss: 0.0225 - acc: 0.9769 - precision: 0.9777 - recall: 0.9762 - auc: 0.9962 - true_positives: 4686.0000 - true_negatives: 23893.0000 - false_positives: 107.0000 - false_negatives: 114.0000 - val_loss: 0.0900 - val_acc: 0.9117 - val_precision: 0.9186 - val_recall: 0.9117 - val_auc: 0.9791 - val_true_positives: 1094.0000 - val_true_negatives: 5903.0000 - val_false_positives: 97.0000 - val_false_negatives: 106.0000\n",
      "Epoch 25/50\n",
      "300/300 [==============================] - 552s 2s/step - loss: 0.0210 - acc: 0.9790 - precision: 0.9798 - recall: 0.9785 - auc: 0.9960 - true_positives: 4697.0000 - true_negatives: 23903.0000 - false_positives: 97.0000 - false_negatives: 103.0000 - val_loss: 0.0522 - val_acc: 0.9617 - val_precision: 0.9617 - val_recall: 0.9617 - val_auc: 0.9886 - val_true_positives: 1154.0000 - val_true_negatives: 5954.0000 - val_false_positives: 46.0000 - val_false_negatives: 46.0000\n",
      "Epoch 26/50\n",
      "300/300 [==============================] - 558s 2s/step - loss: 0.0205 - acc: 0.9810 - precision: 0.9817 - recall: 0.9810 - auc: 0.9963 - true_positives: 4709.0000 - true_negatives: 23912.0000 - false_positives: 88.0000 - false_negatives: 91.0000 - val_loss: 0.0499 - val_acc: 0.9575 - val_precision: 0.9575 - val_recall: 0.9567 - val_auc: 0.9889 - val_true_positives: 1148.0000 - val_true_negatives: 5949.0000 - val_false_positives: 51.0000 - val_false_negatives: 52.0000\n",
      "Epoch 27/50\n",
      "300/300 [==============================] - 555s 2s/step - loss: 0.0212 - acc: 0.9806 - precision: 0.9814 - recall: 0.9802 - auc: 0.9961 - true_positives: 4705.0000 - true_negatives: 23911.0000 - false_positives: 89.0000 - false_negatives: 95.0000 - val_loss: 0.0755 - val_acc: 0.9283 - val_precision: 0.9290 - val_recall: 0.9267 - val_auc: 0.9799 - val_true_positives: 1112.0000 - val_true_negatives: 5915.0000 - val_false_positives: 85.0000 - val_false_negatives: 88.0000\n",
      "Epoch 28/50\n",
      "300/300 [==============================] - 551s 2s/step - loss: 0.0201 - acc: 0.9806 - precision: 0.9810 - recall: 0.9798 - auc: 0.9964 - true_positives: 4703.0000 - true_negatives: 23909.0000 - false_positives: 91.0000 - false_negatives: 97.0000 - val_loss: 0.0694 - val_acc: 0.9583 - val_precision: 0.9591 - val_recall: 0.9583 - val_auc: 0.9852 - val_true_positives: 1150.0000 - val_true_negatives: 5951.0000 - val_false_positives: 49.0000 - val_false_negatives: 50.0000\n",
      "Epoch 29/50\n",
      "300/300 [==============================] - 550s 2s/step - loss: 0.0192 - acc: 0.9790 - precision: 0.9798 - recall: 0.9785 - auc: 0.9975 - true_positives: 4697.0000 - true_negatives: 23903.0000 - false_positives: 97.0000 - false_negatives: 103.0000 - val_loss: 0.0423 - val_acc: 0.9675 - val_precision: 0.9699 - val_recall: 0.9675 - val_auc: 0.9923 - val_true_positives: 1161.0000 - val_true_negatives: 5964.0000 - val_false_positives: 36.0000 - val_false_negatives: 39.0000\n",
      "Epoch 30/50\n",
      "300/300 [==============================] - 555s 2s/step - loss: 0.0183 - acc: 0.9831 - precision: 0.9835 - recall: 0.9829 - auc: 0.9969 - true_positives: 4718.0000 - true_negatives: 23921.0000 - false_positives: 79.0000 - false_negatives: 82.0000 - val_loss: 0.0509 - val_acc: 0.9600 - val_precision: 0.9616 - val_recall: 0.9600 - val_auc: 0.9905 - val_true_positives: 1152.0000 - val_true_negatives: 5954.0000 - val_false_positives: 46.0000 - val_false_negatives: 48.0000\n",
      "Epoch 31/50\n",
      "300/300 [==============================] - 578s 2s/step - loss: 0.0183 - acc: 0.9819 - precision: 0.9821 - recall: 0.9812 - auc: 0.9965 - true_positives: 4710.0000 - true_negatives: 23914.0000 - false_positives: 86.0000 - false_negatives: 90.0000 - val_loss: 0.0674 - val_acc: 0.9542 - val_precision: 0.9550 - val_recall: 0.9542 - val_auc: 0.9830 - val_true_positives: 1145.0000 - val_true_negatives: 5946.0000 - val_false_positives: 54.0000 - val_false_negatives: 55.0000\n",
      "Epoch 32/50\n",
      "300/300 [==============================] - 566s 2s/step - loss: 0.0176 - acc: 0.9819 - precision: 0.9823 - recall: 0.9817 - auc: 0.9962 - true_positives: 4712.0000 - true_negatives: 23915.0000 - false_positives: 85.0000 - false_negatives: 88.0000 - val_loss: 0.0460 - val_acc: 0.9658 - val_precision: 0.9674 - val_recall: 0.9658 - val_auc: 0.9911 - val_true_positives: 1159.0000 - val_true_negatives: 5961.0000 - val_false_positives: 39.0000 - val_false_negatives: 41.0000\n",
      "Epoch 33/50\n",
      "300/300 [==============================] - 569s 2s/step - loss: 0.0181 - acc: 0.9829 - precision: 0.9833 - recall: 0.9825 - auc: 0.9969 - true_positives: 4716.0000 - true_negatives: 23920.0000 - false_positives: 80.0000 - false_negatives: 84.0000 - val_loss: 0.0574 - val_acc: 0.9600 - val_precision: 0.9600 - val_recall: 0.9592 - val_auc: 0.9857 - val_true_positives: 1151.0000 - val_true_negatives: 5952.0000 - val_false_positives: 48.0000 - val_false_negatives: 49.0000\n",
      "Epoch 34/50\n",
      "300/300 [==============================] - 556s 2s/step - loss: 0.0170 - acc: 0.9835 - precision: 0.9839 - recall: 0.9829 - auc: 0.9969 - true_positives: 4718.0000 - true_negatives: 23923.0000 - false_positives: 77.0000 - false_negatives: 82.0000 - val_loss: 0.0432 - val_acc: 0.9633 - val_precision: 0.9633 - val_recall: 0.9633 - val_auc: 0.9898 - val_true_positives: 1156.0000 - val_true_negatives: 5956.0000 - val_false_positives: 44.0000 - val_false_negatives: 44.0000\n"
     ]
    },
    {
     "name": "stdout",
     "output_type": "stream",
     "text": [
      "Epoch 35/50\n",
      "300/300 [==============================] - 559s 2s/step - loss: 0.0167 - acc: 0.9840 - precision: 0.9846 - recall: 0.9837 - auc: 0.9966 - true_positives: 4722.0000 - true_negatives: 23926.0000 - false_positives: 74.0000 - false_negatives: 78.0000 - val_loss: 0.0539 - val_acc: 0.9608 - val_precision: 0.9616 - val_recall: 0.9608 - val_auc: 0.9898 - val_true_positives: 1153.0000 - val_true_negatives: 5954.0000 - val_false_positives: 46.0000 - val_false_negatives: 47.0000\n",
      "Epoch 36/50\n",
      "300/300 [==============================] - 582s 2s/step - loss: 0.0149 - acc: 0.9856 - precision: 0.9868 - recall: 0.9848 - auc: 0.9977 - true_positives: 4727.0000 - true_negatives: 23937.0000 - false_positives: 63.0000 - false_negatives: 73.0000 - val_loss: 0.0659 - val_acc: 0.9617 - val_precision: 0.9625 - val_recall: 0.9617 - val_auc: 0.9853 - val_true_positives: 1154.0000 - val_true_negatives: 5955.0000 - val_false_positives: 45.0000 - val_false_negatives: 46.0000\n",
      "Epoch 37/50\n",
      "300/300 [==============================] - 614s 2s/step - loss: 0.0166 - acc: 0.9844 - precision: 0.9846 - recall: 0.9842 - auc: 0.9969 - true_positives: 4724.0000 - true_negatives: 23926.0000 - false_positives: 74.0000 - false_negatives: 76.0000 - val_loss: 0.0469 - val_acc: 0.9608 - val_precision: 0.9608 - val_recall: 0.9608 - val_auc: 0.9906 - val_true_positives: 1153.0000 - val_true_negatives: 5953.0000 - val_false_positives: 47.0000 - val_false_negatives: 47.0000\n",
      "Epoch 38/50\n",
      "300/300 [==============================] - 568s 2s/step - loss: 0.0151 - acc: 0.9858 - precision: 0.9860 - recall: 0.9858 - auc: 0.9972 - true_positives: 4732.0000 - true_negatives: 23933.0000 - false_positives: 67.0000 - false_negatives: 68.0000 - val_loss: 0.0636 - val_acc: 0.9617 - val_precision: 0.9641 - val_recall: 0.9617 - val_auc: 0.9857 - val_true_positives: 1154.0000 - val_true_negatives: 5957.0000 - val_false_positives: 43.0000 - val_false_negatives: 46.0000\n",
      "Epoch 39/50\n",
      "300/300 [==============================] - 563s 2s/step - loss: 0.0154 - acc: 0.9852 - precision: 0.9854 - recall: 0.9852 - auc: 0.9964 - true_positives: 4729.0000 - true_negatives: 23930.0000 - false_positives: 70.0000 - false_negatives: 71.0000 - val_loss: 0.0823 - val_acc: 0.9517 - val_precision: 0.9517 - val_recall: 0.9517 - val_auc: 0.9839 - val_true_positives: 1142.0000 - val_true_negatives: 5942.0000 - val_false_positives: 58.0000 - val_false_negatives: 58.0000\n",
      "Epoch 40/50\n",
      "300/300 [==============================] - 553s 2s/step - loss: 0.0134 - acc: 0.9865 - precision: 0.9873 - recall: 0.9860 - auc: 0.9977 - true_positives: 4733.0000 - true_negatives: 23939.0000 - false_positives: 61.0000 - false_negatives: 67.0000 - val_loss: 0.0537 - val_acc: 0.9558 - val_precision: 0.9566 - val_recall: 0.9558 - val_auc: 0.9870 - val_true_positives: 1147.0000 - val_true_negatives: 5948.0000 - val_false_positives: 52.0000 - val_false_negatives: 53.0000\n",
      "Epoch 41/50\n",
      "300/300 [==============================] - 550s 2s/step - loss: 0.0124 - acc: 0.9890 - precision: 0.9894 - recall: 0.9887 - auc: 0.9977 - true_positives: 4746.0000 - true_negatives: 23949.0000 - false_positives: 51.0000 - false_negatives: 54.0000 - val_loss: 0.0676 - val_acc: 0.9600 - val_precision: 0.9600 - val_recall: 0.9600 - val_auc: 0.9847 - val_true_positives: 1152.0000 - val_true_negatives: 5952.0000 - val_false_positives: 48.0000 - val_false_negatives: 48.0000\n",
      "Epoch 42/50\n",
      "300/300 [==============================] - 548s 2s/step - loss: 0.0151 - acc: 0.9858 - precision: 0.9864 - recall: 0.9852 - auc: 0.9970 - true_positives: 4729.0000 - true_negatives: 23935.0000 - false_positives: 65.0000 - false_negatives: 71.0000 - val_loss: 0.0805 - val_acc: 0.9567 - val_precision: 0.9575 - val_recall: 0.9567 - val_auc: 0.9845 - val_true_positives: 1148.0000 - val_true_negatives: 5949.0000 - val_false_positives: 51.0000 - val_false_negatives: 52.0000\n",
      "Epoch 43/50\n",
      "300/300 [==============================] - 546s 2s/step - loss: 0.0130 - acc: 0.9875 - precision: 0.9881 - recall: 0.9875 - auc: 0.9978 - true_positives: 4740.0000 - true_negatives: 23943.0000 - false_positives: 57.0000 - false_negatives: 60.0000 - val_loss: 0.0487 - val_acc: 0.9650 - val_precision: 0.9658 - val_recall: 0.9650 - val_auc: 0.9891 - val_true_positives: 1158.0000 - val_true_negatives: 5959.0000 - val_false_positives: 41.0000 - val_false_negatives: 42.0000\n",
      "Epoch 44/50\n",
      "300/300 [==============================] - 545s 2s/step - loss: 0.0114 - acc: 0.9900 - precision: 0.9902 - recall: 0.9894 - auc: 0.9978 - true_positives: 4749.0000 - true_negatives: 23953.0000 - false_positives: 47.0000 - false_negatives: 51.0000 - val_loss: 0.0676 - val_acc: 0.9608 - val_precision: 0.9608 - val_recall: 0.9600 - val_auc: 0.9881 - val_true_positives: 1152.0000 - val_true_negatives: 5953.0000 - val_false_positives: 47.0000 - val_false_negatives: 48.0000\n",
      "Epoch 45/50\n",
      "300/300 [==============================] - 547s 2s/step - loss: 0.0142 - acc: 0.9862 - precision: 0.9867 - recall: 0.9858 - auc: 0.9971 - true_positives: 4732.0000 - true_negatives: 23936.0000 - false_positives: 64.0000 - false_negatives: 68.0000 - val_loss: 0.0394 - val_acc: 0.9725 - val_precision: 0.9725 - val_recall: 0.9725 - val_auc: 0.9932 - val_true_positives: 1167.0000 - val_true_negatives: 5967.0000 - val_false_positives: 33.0000 - val_false_negatives: 33.0000\n",
      "Epoch 46/50\n",
      "300/300 [==============================] - 552s 2s/step - loss: 0.0119 - acc: 0.9894 - precision: 0.9896 - recall: 0.9887 - auc: 0.9981 - true_positives: 4746.0000 - true_negatives: 23950.0000 - false_positives: 50.0000 - false_negatives: 54.0000 - val_loss: 0.0524 - val_acc: 0.9675 - val_precision: 0.9691 - val_recall: 0.9675 - val_auc: 0.9898 - val_true_positives: 1161.0000 - val_true_negatives: 5963.0000 - val_false_positives: 37.0000 - val_false_negatives: 39.0000\n",
      "Epoch 47/50\n",
      "300/300 [==============================] - 552s 2s/step - loss: 0.0109 - acc: 0.9885 - precision: 0.9890 - recall: 0.9883 - auc: 0.9984 - true_positives: 4744.0000 - true_negatives: 23947.0000 - false_positives: 53.0000 - false_negatives: 56.0000 - val_loss: 0.0909 - val_acc: 0.9608 - val_precision: 0.9608 - val_recall: 0.9608 - val_auc: 0.9819 - val_true_positives: 1153.0000 - val_true_negatives: 5953.0000 - val_false_positives: 47.0000 - val_false_negatives: 47.0000\n",
      "Epoch 48/50\n",
      "300/300 [==============================] - 555s 2s/step - loss: 0.0125 - acc: 0.9894 - precision: 0.9900 - recall: 0.9890 - auc: 0.9975 - true_positives: 4747.0000 - true_negatives: 23952.0000 - false_positives: 48.0000 - false_negatives: 53.0000 - val_loss: 0.0443 - val_acc: 0.9783 - val_precision: 0.9783 - val_recall: 0.9783 - val_auc: 0.9913 - val_true_positives: 1174.0000 - val_true_negatives: 5974.0000 - val_false_positives: 26.0000 - val_false_negatives: 26.0000\n",
      "Epoch 49/50\n",
      "300/300 [==============================] - 559s 2s/step - loss: 0.0128 - acc: 0.9892 - precision: 0.9892 - recall: 0.9892 - auc: 0.9978 - true_positives: 4748.0000 - true_negatives: 23948.0000 - false_positives: 52.0000 - false_negatives: 52.0000 - val_loss: 0.0446 - val_acc: 0.9750 - val_precision: 0.9766 - val_recall: 0.9750 - val_auc: 0.9916 - val_true_positives: 1170.0000 - val_true_negatives: 5972.0000 - val_false_positives: 28.0000 - val_false_negatives: 30.0000\n",
      "Epoch 50/50\n",
      "300/300 [==============================] - 558s 2s/step - loss: 0.0110 - acc: 0.9900 - precision: 0.9902 - recall: 0.9896 - auc: 0.9982 - true_positives: 4750.0000 - true_negatives: 23953.0000 - false_positives: 47.0000 - false_negatives: 50.0000 - val_loss: 0.0951 - val_acc: 0.9558 - val_precision: 0.9558 - val_recall: 0.9558 - val_auc: 0.9818 - val_true_positives: 1147.0000 - val_true_negatives: 5947.0000 - val_false_positives: 53.0000 - val_false_negatives: 53.0000\n",
      "Total training time: 32337.952039003372 seconds\n"
     ]
    }
   ],
   "source": [
    "import time\n",
    "start_time = time.time()\n",
    "history = model.fit(\n",
    "    aug.flow(x_train, y_train, batch_size=BS),\n",
    "    validation_data=(x_test, y_test),\n",
    "    steps_per_epoch=len(x_train) // BS,\n",
    "    epochs=EPOCHS,\n",
    "    verbose=1\n",
    ")\n",
    "end_time = time.time()\n",
    "training_time = end_time - start_time\n",
    "print(\"Total training time:\", training_time, \"seconds\")"
   ]
  },
  {
   "cell_type": "code",
   "execution_count": 14,
   "id": "0a67a559",
   "metadata": {},
   "outputs": [
    {
     "name": "stdout",
     "output_type": "stream",
     "text": [
      "Precision: 0.9902\n",
      "Recall: 0.9896\n",
      "F1 Score: 0.9899\n"
     ]
    }
   ],
   "source": [
    "precision = history.history['precision'][-1]\n",
    "recall = history.history['recall'][-1]\n",
    "f1 = 2 * (precision * recall) / (precision + recall)\n",
    "\n",
    "print(f'Precision: {precision:.4f}')\n",
    "print(f'Recall: {recall:.4f}')\n",
    "print(f'F1 Score: {f1:.4f}')"
   ]
  },
  {
   "cell_type": "code",
   "execution_count": 16,
   "id": "322441dc",
   "metadata": {},
   "outputs": [
    {
     "name": "stdout",
     "output_type": "stream",
     "text": [
      "38/38 [==============================] - 36s 958ms/step - loss: 0.0951 - acc: 0.9558 - precision: 0.9558 - recall: 0.9558 - auc: 0.9818 - true_positives: 1147.0000 - true_negatives: 5947.0000 - false_positives: 53.0000 - false_negatives: 53.0000\n",
      "38/38 [==============================] - 32s 833ms/step - loss: 0.0951 - acc: 0.9558 - precision: 0.9558 - recall: 0.9558 - auc: 0.9818 - true_positives: 1147.0000 - true_negatives: 5947.0000 - false_positives: 53.0000 - false_negatives: 53.0000\n",
      "Training Accuracy: 0.9900\n",
      "Validation Accuracy: 0.9558\n",
      "Testing Accuracy: 53.0000\n"
     ]
    }
   ],
   "source": [
    "acc = history.history['acc']\n",
    "val_acc = history.history['val_acc']\n",
    "\n",
    "test_loss = model.evaluate(x_test, y_test)\n",
    "test_accuracy = model.evaluate(x_test, y_test)\n",
    "\n",
    "# Print the final accuracy values\n",
    "print(f'Training Accuracy: {acc[-1]:.4f}')\n",
    "print(f'Validation Accuracy: {val_acc[-1]:.4f}')\n",
    "\n",
    "\n",
    "\n",
    "print(f\"Testing Accuracy: {test_accuracy[-1]:.4f}\")\n"
   ]
  },
  {
   "cell_type": "code",
   "execution_count": 17,
   "id": "136d0a55",
   "metadata": {},
   "outputs": [
    {
     "name": "stdout",
     "output_type": "stream",
     "text": [
      "Precision: 0.9902\n",
      "Recall: 0.9896\n",
      "AUC: 0.9982\n",
      "True Positives: 4750.0000\n",
      "True Negatives: 23953.0000\n",
      "False Positives: 47.0000\n",
      "False Negatives: 50.0000\n"
     ]
    }
   ],
   "source": [
    "# Print additional metrics for training\n",
    "print(f\"Precision: {history.history['precision'][-1]:.4f}\")\n",
    "\n",
    "print(f\"Recall: {history.history['recall'][-1]:.4f}\")\n",
    "print(f\"AUC: {history.history['auc'][-1]:.4f}\")\n",
    "print(f\"True Positives: {history.history['true_positives'][-1]:.4f}\")\n",
    "print(f\"True Negatives: {history.history['true_negatives'][-1]:.4f}\")\n",
    "print(f\"False Positives: {history.history['false_positives'][-1]:.4f}\")\n",
    "print(f\"False Negatives: {history.history['false_negatives'][-1]:.4f}\")"
   ]
  },
  {
   "cell_type": "code",
   "execution_count": null,
   "id": "e9619d1f",
   "metadata": {},
   "outputs": [],
   "source": []
  },
  {
   "cell_type": "code",
   "execution_count": 18,
   "id": "b3f966f7",
   "metadata": {},
   "outputs": [
    {
     "name": "stdout",
     "output_type": "stream",
     "text": [
      "38/38 [==============================] - 29s 774ms/step - loss: 0.0951 - acc: 0.9558 - precision: 0.9558 - recall: 0.9558 - auc: 0.9818 - true_positives: 1147.0000 - true_negatives: 5947.0000 - false_positives: 53.0000 - false_negatives: 53.0000\n",
      "Testing Accuracy: 0.9558\n"
     ]
    }
   ],
   "source": [
    "# ... (previous code)\n",
    "\n",
    "# Evaluate the model on the test set\n",
    "test_metrics = model.evaluate(x_test, y_test)\n",
    "\n",
    "# Extract individual metric values\n",
    "test_loss, test_accuracy, precision, recall, auc, true_positives, true_negatives, false_positives, false_negatives = test_metrics\n",
    "\n",
    "# Print the testing accuracy\n",
    "print(f\"Testing Accuracy: {test_accuracy:.4f}\")\n"
   ]
  },
  {
   "cell_type": "code",
   "execution_count": 19,
   "id": "c9f69ff8",
   "metadata": {},
   "outputs": [
    {
     "name": "stdout",
     "output_type": "stream",
     "text": [
      "dict_keys(['loss', 'acc', 'precision', 'recall', 'auc', 'true_positives', 'true_negatives', 'false_positives', 'false_negatives', 'val_loss', 'val_acc', 'val_precision', 'val_recall', 'val_auc', 'val_true_positives', 'val_true_negatives', 'val_false_positives', 'val_false_negatives'])\n"
     ]
    },
    {
     "data": {
      "image/png": "[encoded data removed]",
      "text/plain": [
       "<Figure size 432x288 with 1 Axes>"
      ]
     },
     "metadata": {
      "needs_background": "light"
     },
     "output_type": "display_data"
    },
    {
     "data": {
      "image/png": "[encoded data removed]",
      "text/plain": [
       "<Figure size 432x288 with 1 Axes>"
      ]
     },
     "metadata": {
      "needs_background": "light"
     },
     "output_type": "display_data"
    }
   ],
   "source": [
    "print(history.history.keys())\n",
    "plt.plot(history.history['acc'])\n",
    "plt.plot(history.history['val_acc'])\n",
    "plt.title('model accuracy')\n",
    "plt.ylabel('accuracy')\n",
    "plt.xlabel('epoch')\n",
    "plt.legend(['train', 'test'], loc='upper left')\n",
    "plt.show()\n",
    "plt.plot(history.history['loss'])\n",
    "plt.plot(history.history['val_loss'])\n",
    "plt.title('model loss')\n",
    "plt.ylabel('loss')\n",
    "plt.xlabel('epoch')\n",
    "plt.legend(['train', 'test'], loc='upper left')\n",
    "plt.show()"
   ]
  },
  {
   "cell_type": "code",
   "execution_count": null,
   "id": "c52765c6",
   "metadata": {},
   "outputs": [],
   "source": [
    "def image_information(data_set_info):\n",
    "    plt.rcParams[\"font.size\"]=14\n",
    "    plt.pie([data_set_info.nb[data_set_info.Category==\"healthy\"].sum(),data_set_info.nb[data_set_info.Category!=\"health\"].sum()],labels=[\"Healthy\",\"Disease\"],autopct=lambda x:str(round(x,1))+\"%\",colors=[\"#007CC3\",\"#47B39C\"],shadow=False,explode=(0.20,0))\n",
    "\n",
    "    \n",
    "plt.figure(figsize=(20,20))\n",
    "plt.subplot(1,3,1)\n",
    "plt.title(\"Train vs Valid data Distribution\",fontsize=19,color=\"Blue\")\n",
    "plt.rcParams[\"font.size\"]=14\n",
    "\n",
    "total_data = 15350\n",
    "train_ratio = 0.8\n",
    "\n",
    "train_data_count = int(total_data * train_ratio)\n",
    "valid_data_count = total_data - train_data_count\n"
   ]
  },
  {
   "cell_type": "code",
   "execution_count": null,
   "id": "4043a56d",
   "metadata": {},
   "outputs": [],
   "source": [
    "\n",
    "# image_information(valid_data_count)\n",
    "plt.pie([valid_data_count.nb.sum(), train_data_count.nb.sum()], labels=[\"Valid Data\", \"Train Data\"], autopct=lambda x: str(round(x,2)) + \"%\" , colors=[\"#FFA600\", \"#47B39C\"], shadow=False, explode=(0.20,0))\n",
    "plt.subplot(1,3,2)\n",
    "plt.title(\"Train Data Set Healthy Vs Disease Plant \"        \"          \"  ,fontsize=19,color=\"aqua\")\n",
    "image_information(train_data_count)\n",
    "plt.subplot(1,3,3)\n",
    "plt.title('Valid Data Set - Healthy VS Disease plant', fontsize=19,color=\"springgreen\")\n",
    "image_information(valid_data_count)\n",
    "         "
   ]
  },
  {
   "cell_type": "code",
   "execution_count": 20,
   "id": "92def1cd",
   "metadata": {},
   "outputs": [
    {
     "name": "stdout",
     "output_type": "stream",
     "text": [
      "38/38 [==============================] - 26s 673ms/step\n"
     ]
    },
    {
     "data": {
      "image/png": "[encoded data removed]",
      "text/plain": [
       "<Figure size 576x432 with 2 Axes>"
      ]
     },
     "metadata": {
      "needs_background": "light"
     },
     "output_type": "display_data"
    }
   ],
   "source": [
    "from sklearn.metrics import confusion_matrix\n",
    "import seaborn as sns\n",
    "\n",
    "# Predicting the classes for the test set\n",
    "y_pred = model.predict(x_test)\n",
    "y_pred_classes = np.argmax(y_pred, axis=1)\n",
    "y_true_classes = np.argmax(y_test, axis=1)\n",
    "\n",
    "# Generate confusion matrix\n",
    "conf_matrix = confusion_matrix(y_true_classes, y_pred_classes)\n",
    "\n",
    "# Plot confusion matrix\n",
    "plt.figure(figsize=(8, 6))\n",
    "sns.heatmap(conf_matrix, annot=True, fmt='d', cmap='Blues', xticklabels=label_binarizer.classes_, yticklabels=label_binarizer.classes_)\n",
    "plt.xlabel('Predicted labels')\n",
    "plt.ylabel('True labels')\n",
    "plt.title('Confusion Matrix')\n",
    "plt.show()\n"
   ]
  },
  {
   "cell_type": "code",
   "execution_count": 23,
   "id": "080f7bc9",
   "metadata": {},
   "outputs": [],
   "source": [
    "model.save(f'./model/vgg_combined.h5')"
   ]
  },
  {
   "cell_type": "code",
   "execution_count": 24,
   "id": "efdfd59d",
   "metadata": {},
   "outputs": [
    {
     "data": {
      "text/plain": [
       "[['.DS_Store',\n",
       "  '9',\n",
       "  '7',\n",
       "  '111',\n",
       "  '6',\n",
       "  '1',\n",
       "  'AlexNet_nb.h5',\n",
       "  'vgg_combined.h5',\n",
       "  'resnet50_combined.h5',\n",
       "  'resnet50.h5',\n",
       "  'vgg16_nb.h5',\n",
       "  'mobilenet_combined.h5',\n",
       "  'customcnn_nb.h5',\n",
       "  '112',\n",
       "  'MobieNet_nb.h5',\n",
       "  '4',\n",
       "  '3',\n",
       "  '12',\n",
       "  '2',\n",
       "  '5']]"
      ]
     },
     "execution_count": 24,
     "metadata": {},
     "output_type": "execute_result"
    }
   ],
   "source": [
    "import os\n",
    "[  os.listdir(\"./model\")]"
   ]
  },
  {
   "cell_type": "code",
   "execution_count": null,
   "id": "74d313e5",
   "metadata": {},
   "outputs": [],
   "source": [
    "import numpy as np\n",
    "from keras.models import load_model\n",
    "from keras.preprocessing import image\n",
    "model_alexnet=load_model(f'./model/mobilenet3d.h5')"
   ]
  },
  {
   "cell_type": "code",
   "execution_count": null,
   "id": "8be2e3b0",
   "metadata": {},
   "outputs": [],
   "source": [
    "import numpy as np\n",
    "\n",
    "for images_batch, labels_batch in test_ds.take(1):\n",
    "    first_image = images_batch[0].numpy().astype('uint8')\n",
    "    first_label_index = np.argmax(labels_batch[0].numpy())\n",
    "    \n",
    "    print(\"first image to predict\")\n",
    "    plt.imshow(first_image)\n",
    "    print(\"actual label:\", class_names[first_label_index])\n",
    "    \n",
    "    batch_prediction = model.predict(images_batch)\n",
    "    print(\"predicted label:\", class_names[np.argmax(batch_prediction[0])])\n"
   ]
  },
  {
   "cell_type": "code",
   "execution_count": null,
   "id": "f79d8fb2",
   "metadata": {},
   "outputs": [],
   "source": []
  }
 ],
 "metadata": {
  "kernelspec": {
   "display_name": "Python 3 (ipykernel)",
   "language": "python",
   "name": "python3"
  },
  "language_info": {
   "codemirror_mode": {
    "name": "ipython",
    "version": 3
   },
   "file_extension": ".py",
   "mimetype": "text/x-python",
   "name": "python",
   "nbconvert_exporter": "python",
   "pygments_lexer": "ipython3",
   "version": "3.9.5"
  }
 },
 "nbformat": 4,
 "nbformat_minor": 5
}
