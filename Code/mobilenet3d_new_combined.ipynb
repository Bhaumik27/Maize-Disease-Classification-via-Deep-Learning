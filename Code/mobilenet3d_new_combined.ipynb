{
 "cells": [
  {
   "cell_type": "code",
   "execution_count": 1,
   "id": "80cd3e22",
   "metadata": {},
   "outputs": [
    {
     "name": "stderr",
     "output_type": "stream",
     "text": [
      "2024-05-06 13:02:30.530165: I tensorflow/core/platform/cpu_feature_guard.cc:182] This TensorFlow binary is optimized to use available CPU instructions in performance-critical operations.\n",
      "To enable the following instructions: AVX2 FMA, in other operations, rebuild TensorFlow with the appropriate compiler flags.\n",
      "/Library/Frameworks/Python.framework/Versions/3.9/lib/python3.9/site-packages/scipy/__init__.py:155: UserWarning: A NumPy version >=1.18.5 and <1.25.0 is required for this version of SciPy (detected version 1.26.3\n",
      "  warnings.warn(f\"A NumPy version >={np_minversion} and <{np_maxversion}\"\n"
     ]
    }
   ],
   "source": [
    "import numpy as np\n",
    "import pickle\n",
    "import cv2\n",
    "import tensorflow as tf\n",
    "from os import listdir\n",
    "from sklearn.preprocessing import LabelBinarizer\n",
    "from keras.models import Sequential\n",
    "from tensorflow.keras.layers import BatchNormalization, Conv2D, MaxPooling2D, Activation, Flatten, Dropout, Dense\n",
    "from keras import backend as K\n",
    "from keras.preprocessing.image import ImageDataGenerator\n",
    "from keras.optimizers import Adam\n",
    "from keras.preprocessing import image\n",
    "from keras.preprocessing.image import img_to_array\n",
    "from sklearn.preprocessing import MultiLabelBinarizer\n",
    "from sklearn.model_selection import train_test_split\n",
    "import matplotlib.pyplot as plt\n",
    "\n",
    "import os\n",
    "os.environ['TF_CPP_MIN_LOG_LEVEL'] = '2'"
   ]
  },
  {
   "cell_type": "code",
   "execution_count": 2,
   "id": "ad800731",
   "metadata": {},
   "outputs": [],
   "source": [
    "EPOCHS = 50\n",
    "INIT_LR = 1e-3\n",
    "BS = 16\n",
    "default_image_size = tuple((64, 64))\n",
    "image_size = 0\n",
    "width=64\n",
    "height=64\n",
    "depth=3\n",
    "image_size = 0\n",
    "directory_root = 'Combined Data'"
   ]
  },
  {
   "cell_type": "code",
   "execution_count": 3,
   "id": "eaf23bc1",
   "metadata": {},
   "outputs": [],
   "source": [
    "def convert_image_to_array(image_dir):\n",
    "    try:\n",
    "        image = cv2.imread(image_dir)\n",
    "        if image is not None :\n",
    "            image = cv2.resize(image, default_image_size)   \n",
    "            return img_to_array(image)\n",
    "        else :\n",
    "            return np.array([])\n",
    "    except Exception as e:\n",
    "        print(\"Error :\", e)\n",
    "        return None"
   ]
  },
  {
   "cell_type": "code",
   "execution_count": 4,
   "id": "3e2d1e65",
   "metadata": {},
   "outputs": [
    {
     "name": "stdout",
     "output_type": "stream",
     "text": [
      "[INFO] Loading images ...\n",
      "[INFO] Processing Maize_Common_Rust ...\n",
      "[INFO] Processing MLN ...\n",
      "[INFO] Processing HEATHLY ...\n",
      "[INFO] Processing MSV ...\n",
      "[INFO] Processing Maize_Blight ...\n",
      "[INFO] Processing Maize_Gray_Leaf_Spot ...\n",
      "[INFO] Image loading completed\n"
     ]
    }
   ],
   "source": [
    "image_list, label_list = [], []\n",
    "try:\n",
    "    print(\"[INFO] Loading images ...\")\n",
    "    root_dir = listdir(directory_root)\n",
    "    for directory in root_dir :\n",
    "        # remove .DS_Store from list\n",
    "        if directory == \".DS_Store\" :\n",
    "            root_dir.remove(directory)\n",
    "\n",
    "    for plant_folder in root_dir :\n",
    "       \n",
    "        plant_disease_folder_list = listdir(f\"{directory_root}/{plant_folder}\")\n",
    "        \n",
    "        for disease_folder in plant_disease_folder_list :\n",
    "            # remove .DS_Store from list\n",
    "            if disease_folder == \".DS_Store\" :\n",
    "                plant_disease_folder_list.remove(disease_folder)\n",
    "\n",
    "        for plant_disease_folder in plant_disease_folder_list:\n",
    "            print(f\"[INFO] Processing {plant_disease_folder} ...\")\n",
    "            plant_disease_image_list = listdir(f\"{directory_root}/{plant_folder}/{plant_disease_folder}/\")\n",
    "                \n",
    "            for single_plant_disease_image in plant_disease_image_list :\n",
    "                if single_plant_disease_image == \".DS_Store\" :\n",
    "                    plant_disease_image_list.remove(single_plant_disease_image)\n",
    "\n",
    "            for image in plant_disease_image_list:\n",
    "                image_directory = f\"{directory_root}/{plant_folder}/{plant_disease_folder}/{image}\"\n",
    "                if image_directory.endswith(\".jpg\") == True or image_directory.endswith(\".JPG\") == True:\n",
    "                    image_list.append(convert_image_to_array(image_directory))\n",
    "                    label_list.append(plant_disease_folder)\n",
    "    print(\"[INFO] Image loading completed\")  \n",
    "except Exception as e:\n",
    "    print(f\"Error : {e}\")"
   ]
  },
  {
   "cell_type": "code",
   "execution_count": 5,
   "id": "80611b93",
   "metadata": {},
   "outputs": [
    {
     "name": "stdout",
     "output_type": "stream",
     "text": [
      "6000\n"
     ]
    }
   ],
   "source": [
    "image_size = len(image_list)\n",
    "print(image_size)"
   ]
  },
  {
   "cell_type": "code",
   "execution_count": 6,
   "id": "0976a68b",
   "metadata": {},
   "outputs": [
    {
     "name": "stdout",
     "output_type": "stream",
     "text": [
      "['HEATHLY' 'MLN' 'MSV' 'Maize_Blight' 'Maize_Common_Rust'\n",
      " 'Maize_Gray_Leaf_Spot']\n"
     ]
    }
   ],
   "source": [
    "label_binarizer = LabelBinarizer()\n",
    "image_labels = label_binarizer.fit_transform(label_list)\n",
    "pickle.dump(label_binarizer,open('label_transform.pkl', 'wb'))\n",
    "n_classes = len(label_binarizer.classes_)\n",
    "print(label_binarizer.classes_)"
   ]
  },
  {
   "cell_type": "code",
   "execution_count": 7,
   "id": "befc8e60",
   "metadata": {},
   "outputs": [],
   "source": [
    "np_image_list = np.array(image_list, dtype=np.float16) / 225.0"
   ]
  },
  {
   "cell_type": "code",
   "execution_count": 8,
   "id": "4719f0d6",
   "metadata": {},
   "outputs": [
    {
     "name": "stdout",
     "output_type": "stream",
     "text": [
      "[INFO] Spliting data to train, test\n"
     ]
    }
   ],
   "source": [
    "print(\"[INFO] Spliting data to train, test\")\n",
    "x_train, x_test, y_train, y_test = train_test_split(np_image_list, image_labels, test_size=0.20, random_state = 42)"
   ]
  },
  {
   "cell_type": "code",
   "execution_count": 9,
   "id": "61d0c9a4",
   "metadata": {},
   "outputs": [],
   "source": [
    "aug = ImageDataGenerator(\n",
    "    rotation_range=25, width_shift_range=0.1,\n",
    "    height_shift_range=0.1, shear_range=0.2, \n",
    "    zoom_range=0.2,horizontal_flip=True, \n",
    "    fill_mode=\"nearest\")"
   ]
  },
  {
   "cell_type": "code",
   "execution_count": null,
   "id": "dae7f32c",
   "metadata": {},
   "outputs": [],
   "source": []
  },
  {
   "cell_type": "code",
   "execution_count": 10,
   "id": "67d546f7",
   "metadata": {},
   "outputs": [],
   "source": [
    "inputShape = (height, width, depth)\n",
    "\n",
    "from tensorflow.keras.applications import MobileNetV2\n",
    "from keras.models import Model\n",
    "import keras\n",
    "\n",
    "mobilenet = MobileNetV2(\n",
    "    weights='/Users/bhaumikpanchal/Downloads/mobilenet_v2_weights_tf_dim_ordering_tf_kernels_1.0_224_no_top.h5',\n",
    "    include_top=False,\n",
    "    input_shape=inputShape\n",
    ")\n",
    "\n",
    "output1 = mobilenet.layers[-1].output\n",
    "\n",
    "output2 = keras.layers.Flatten()(output1)\n",
    "\n",
    "mobilenet = Model(mobilenet.input, outputs=output2)\n",
    "\n",
    "for layer in mobilenet.layers:\n",
    "    layer.trainable = True"
   ]
  },
  {
   "cell_type": "code",
   "execution_count": 11,
   "id": "cfa8ebf7",
   "metadata": {},
   "outputs": [],
   "source": [
    "from keras.layers import Conv2D, MaxPooling2D, Flatten, Dense, Dropout, InputLayer\n",
    "from keras.models import Sequential\n",
    "from keras import optimizers\n",
    "from tensorflow.keras.metrics import Precision, Recall, AUC, TruePositives, TrueNegatives, FalsePositives, FalseNegatives\n",
    "\n",
    "model = Sequential()\n",
    "model.add(mobilenet)\n",
    "model.add(Dense(512, activation='relu', input_dim=inputShape))\n",
    "model.add(Dropout(0.3))\n",
    "model.add(Dense(512, activation='relu'))\n",
    "model.add(Dropout(0.3))\n",
    "model.add(Dense(n_classes, activation='softmax'))\n",
    "\n",
    "\n",
    "#Model Compiling\n",
    "model.compile(loss='binary_crossentropy',\n",
    "                  optimizer=optimizers.RMSprop(learning_rate=2e-5),\n",
    "                  metrics=['acc',Precision(), Recall(), AUC(), TruePositives(), TrueNegatives(), FalsePositives(), FalseNegatives()])"
   ]
  },
  {
   "cell_type": "code",
   "execution_count": null,
   "id": "1832206a",
   "metadata": {},
   "outputs": [],
   "source": []
  },
  {
   "cell_type": "code",
   "execution_count": null,
   "id": "413c0a84",
   "metadata": {},
   "outputs": [],
   "source": []
  },
  {
   "cell_type": "code",
   "execution_count": null,
   "id": "09cfc187",
   "metadata": {},
   "outputs": [],
   "source": []
  },
  {
   "cell_type": "code",
   "execution_count": 12,
   "id": "fd795865",
   "metadata": {},
   "outputs": [
    {
     "name": "stdout",
     "output_type": "stream",
     "text": [
      "Model: \"sequential\"\n",
      "_________________________________________________________________\n",
      " Layer (type)                Output Shape              Param #   \n",
      "=================================================================\n",
      " model (Functional)          (None, 5120)              2257984   \n",
      "                                                                 \n",
      " dense (Dense)               (None, 512)               2621952   \n",
      "                                                                 \n",
      " dropout (Dropout)           (None, 512)               0         \n",
      "                                                                 \n",
      " dense_1 (Dense)             (None, 512)               262656    \n",
      "                                                                 \n",
      " dropout_1 (Dropout)         (None, 512)               0         \n",
      "                                                                 \n",
      " dense_2 (Dense)             (None, 6)                 3078      \n",
      "                                                                 \n",
      "=================================================================\n",
      "Total params: 5145670 (19.63 MB)\n",
      "Trainable params: 5111558 (19.50 MB)\n",
      "Non-trainable params: 34112 (133.25 KB)\n",
      "_________________________________________________________________\n"
     ]
    }
   ],
   "source": [
    "model.summary()"
   ]
  },
  {
   "cell_type": "code",
   "execution_count": 13,
   "id": "bd1e5536",
   "metadata": {},
   "outputs": [
    {
     "name": "stdout",
     "output_type": "stream",
     "text": [
      "Epoch 1/50\n",
      "300/300 [==============================] - 105s 303ms/step - loss: 0.4746 - acc: 0.3356 - precision: 0.4494 - recall: 0.1869 - auc: 0.6834 - true_positives: 897.0000 - true_negatives: 22901.0000 - false_positives: 1099.0000 - false_negatives: 3903.0000 - val_loss: 0.3697 - val_acc: 0.5192 - val_precision: 0.8506 - val_recall: 0.1850 - val_auc: 0.8358 - val_true_positives: 222.0000 - val_true_negatives: 5961.0000 - val_false_positives: 39.0000 - val_false_negatives: 978.0000\n",
      "Epoch 2/50\n",
      "300/300 [==============================] - 88s 294ms/step - loss: 0.3317 - acc: 0.5638 - precision: 0.6791 - recall: 0.4250 - auc: 0.8610 - true_positives: 2040.0000 - true_negatives: 23036.0000 - false_positives: 964.0000 - false_negatives: 2760.0000 - val_loss: 0.2695 - val_acc: 0.6442 - val_precision: 0.7926 - val_recall: 0.4967 - val_auc: 0.9176 - val_true_positives: 596.0000 - val_true_negatives: 5844.0000 - val_false_positives: 156.0000 - val_false_negatives: 604.0000\n",
      "Epoch 3/50\n",
      "300/300 [==============================] - 90s 299ms/step - loss: 0.2673 - acc: 0.6652 - precision: 0.7395 - recall: 0.5844 - auc: 0.9159 - true_positives: 2805.0000 - true_negatives: 23012.0000 - false_positives: 988.0000 - false_negatives: 1995.0000 - val_loss: 0.2308 - val_acc: 0.6925 - val_precision: 0.7763 - val_recall: 0.6275 - val_auc: 0.9302 - val_true_positives: 753.0000 - val_true_negatives: 5783.0000 - val_false_positives: 217.0000 - val_false_negatives: 447.0000\n",
      "Epoch 4/50\n",
      "300/300 [==============================] - 89s 297ms/step - loss: 0.2369 - acc: 0.7106 - precision: 0.7670 - recall: 0.6508 - auc: 0.9326 - true_positives: 3124.0000 - true_negatives: 23051.0000 - false_positives: 949.0000 - false_negatives: 1676.0000 - val_loss: 0.2069 - val_acc: 0.7458 - val_precision: 0.7832 - val_recall: 0.6925 - val_auc: 0.9420 - val_true_positives: 831.0000 - val_true_negatives: 5770.0000 - val_false_positives: 230.0000 - val_false_negatives: 369.0000\n",
      "Epoch 5/50\n",
      "300/300 [==============================] - 89s 297ms/step - loss: 0.2119 - acc: 0.7458 - precision: 0.7864 - recall: 0.7050 - auc: 0.9443 - true_positives: 3384.0000 - true_negatives: 23081.0000 - false_positives: 919.0000 - false_negatives: 1416.0000 - val_loss: 0.1890 - val_acc: 0.7767 - val_precision: 0.8051 - val_recall: 0.7400 - val_auc: 0.9497 - val_true_positives: 888.0000 - val_true_negatives: 5785.0000 - val_false_positives: 215.0000 - val_false_negatives: 312.0000\n",
      "Epoch 6/50\n",
      "300/300 [==============================] - 90s 300ms/step - loss: 0.2026 - acc: 0.7660 - precision: 0.8018 - recall: 0.7315 - auc: 0.9488 - true_positives: 3511.0000 - true_negatives: 23132.0000 - false_positives: 868.0000 - false_negatives: 1289.0000 - val_loss: 0.1849 - val_acc: 0.7850 - val_precision: 0.8090 - val_recall: 0.7625 - val_auc: 0.9514 - val_true_positives: 915.0000 - val_true_negatives: 5784.0000 - val_false_positives: 216.0000 - val_false_negatives: 285.0000\n",
      "Epoch 7/50\n",
      "300/300 [==============================] - 89s 298ms/step - loss: 0.1950 - acc: 0.7742 - precision: 0.8026 - recall: 0.7469 - auc: 0.9513 - true_positives: 3585.0000 - true_negatives: 23118.0000 - false_positives: 882.0000 - false_negatives: 1215.0000 - val_loss: 0.1660 - val_acc: 0.8142 - val_precision: 0.8352 - val_recall: 0.7900 - val_auc: 0.9591 - val_true_positives: 948.0000 - val_true_negatives: 5813.0000 - val_false_positives: 187.0000 - val_false_negatives: 252.0000\n",
      "Epoch 8/50\n",
      "300/300 [==============================] - 89s 297ms/step - loss: 0.1810 - acc: 0.7931 - precision: 0.8191 - recall: 0.7658 - auc: 0.9559 - true_positives: 3676.0000 - true_negatives: 23188.0000 - false_positives: 812.0000 - false_negatives: 1124.0000 - val_loss: 0.1582 - val_acc: 0.8117 - val_precision: 0.8399 - val_recall: 0.7958 - val_auc: 0.9621 - val_true_positives: 955.0000 - val_true_negatives: 5818.0000 - val_false_positives: 182.0000 - val_false_negatives: 245.0000\n",
      "Epoch 9/50\n",
      "300/300 [==============================] - 89s 298ms/step - loss: 0.1776 - acc: 0.7985 - precision: 0.8263 - recall: 0.7738 - auc: 0.9567 - true_positives: 3714.0000 - true_negatives: 23219.0000 - false_positives: 781.0000 - false_negatives: 1086.0000 - val_loss: 0.1618 - val_acc: 0.8183 - val_precision: 0.8434 - val_recall: 0.7992 - val_auc: 0.9603 - val_true_positives: 959.0000 - val_true_negatives: 5822.0000 - val_false_positives: 178.0000 - val_false_negatives: 241.0000\n",
      "Epoch 10/50\n",
      "300/300 [==============================] - 90s 301ms/step - loss: 0.1743 - acc: 0.8017 - precision: 0.8257 - recall: 0.7808 - auc: 0.9589 - true_positives: 3748.0000 - true_negatives: 23209.0000 - false_positives: 791.0000 - false_negatives: 1052.0000 - val_loss: 0.1395 - val_acc: 0.8525 - val_precision: 0.8690 - val_recall: 0.8350 - val_auc: 0.9679 - val_true_positives: 1002.0000 - val_true_negatives: 5849.0000 - val_false_positives: 151.0000 - val_false_negatives: 198.0000\n",
      "Epoch 11/50\n",
      "300/300 [==============================] - 90s 299ms/step - loss: 0.1687 - acc: 0.8152 - precision: 0.8365 - recall: 0.7954 - auc: 0.9600 - true_positives: 3818.0000 - true_negatives: 23254.0000 - false_positives: 746.0000 - false_negatives: 982.0000 - val_loss: 0.1340 - val_acc: 0.8517 - val_precision: 0.8705 - val_recall: 0.8350 - val_auc: 0.9702 - val_true_positives: 1002.0000 - val_true_negatives: 5851.0000 - val_false_positives: 149.0000 - val_false_negatives: 198.0000\n",
      "Epoch 12/50\n",
      "300/300 [==============================] - 90s 299ms/step - loss: 0.1553 - acc: 0.8219 - precision: 0.8424 - recall: 0.8042 - auc: 0.9648 - true_positives: 3860.0000 - true_negatives: 23278.0000 - false_positives: 722.0000 - false_negatives: 940.0000 - val_loss: 0.1311 - val_acc: 0.8542 - val_precision: 0.8746 - val_recall: 0.8425 - val_auc: 0.9673 - val_true_positives: 1011.0000 - val_true_negatives: 5855.0000 - val_false_positives: 145.0000 - val_false_negatives: 189.0000\n",
      "Epoch 13/50\n",
      "300/300 [==============================] - 89s 298ms/step - loss: 0.1576 - acc: 0.8288 - precision: 0.8473 - recall: 0.8083 - auc: 0.9621 - true_positives: 3880.0000 - true_negatives: 23301.0000 - false_positives: 699.0000 - false_negatives: 920.0000 - val_loss: 0.1398 - val_acc: 0.8533 - val_precision: 0.8754 - val_recall: 0.8317 - val_auc: 0.9668 - val_true_positives: 998.0000 - val_true_negatives: 5858.0000 - val_false_positives: 142.0000 - val_false_negatives: 202.0000\n",
      "Epoch 14/50\n",
      "300/300 [==============================] - 91s 303ms/step - loss: 0.1506 - acc: 0.8344 - precision: 0.8518 - recall: 0.8179 - auc: 0.9661 - true_positives: 3926.0000 - true_negatives: 23317.0000 - false_positives: 683.0000 - false_negatives: 874.0000 - val_loss: 0.1434 - val_acc: 0.8575 - val_precision: 0.8742 - val_recall: 0.8458 - val_auc: 0.9664 - val_true_positives: 1015.0000 - val_true_negatives: 5854.0000 - val_false_positives: 146.0000 - val_false_negatives: 185.0000\n",
      "Epoch 15/50\n",
      "300/300 [==============================] - 89s 298ms/step - loss: 0.1451 - acc: 0.8331 - precision: 0.8477 - recall: 0.8138 - auc: 0.9679 - true_positives: 3906.0000 - true_negatives: 23298.0000 - false_positives: 702.0000 - false_negatives: 894.0000 - val_loss: 0.1428 - val_acc: 0.8475 - val_precision: 0.8632 - val_recall: 0.8358 - val_auc: 0.9661 - val_true_positives: 1003.0000 - val_true_negatives: 5841.0000 - val_false_positives: 159.0000 - val_false_negatives: 197.0000\n",
      "Epoch 16/50\n",
      "300/300 [==============================] - 90s 299ms/step - loss: 0.1424 - acc: 0.8448 - precision: 0.8609 - recall: 0.8340 - auc: 0.9680 - true_positives: 4003.0000 - true_negatives: 23353.0000 - false_positives: 647.0000 - false_negatives: 797.0000 - val_loss: 0.1306 - val_acc: 0.8733 - val_precision: 0.8897 - val_recall: 0.8600 - val_auc: 0.9719 - val_true_positives: 1032.0000 - val_true_negatives: 5872.0000 - val_false_positives: 128.0000 - val_false_negatives: 168.0000\n",
      "Epoch 17/50\n",
      "300/300 [==============================] - 90s 299ms/step - loss: 0.1304 - acc: 0.8571 - precision: 0.8715 - recall: 0.8410 - auc: 0.9730 - true_positives: 4037.0000 - true_negatives: 23405.0000 - false_positives: 595.0000 - false_negatives: 763.0000 - val_loss: 0.1220 - val_acc: 0.8817 - val_precision: 0.8932 - val_recall: 0.8708 - val_auc: 0.9752 - val_true_positives: 1045.0000 - val_true_negatives: 5875.0000 - val_false_positives: 125.0000 - val_false_negatives: 155.0000\n"
     ]
    },
    {
     "name": "stdout",
     "output_type": "stream",
     "text": [
      "Epoch 18/50\n",
      "300/300 [==============================] - 88s 294ms/step - loss: 0.1389 - acc: 0.8458 - precision: 0.8592 - recall: 0.8340 - auc: 0.9706 - true_positives: 4003.0000 - true_negatives: 23344.0000 - false_positives: 656.0000 - false_negatives: 797.0000 - val_loss: 0.1213 - val_acc: 0.8700 - val_precision: 0.8900 - val_recall: 0.8633 - val_auc: 0.9717 - val_true_positives: 1036.0000 - val_true_negatives: 5872.0000 - val_false_positives: 128.0000 - val_false_negatives: 164.0000\n",
      "Epoch 19/50\n",
      "300/300 [==============================] - 88s 295ms/step - loss: 0.1244 - acc: 0.8662 - precision: 0.8773 - recall: 0.8537 - auc: 0.9746 - true_positives: 4098.0000 - true_negatives: 23427.0000 - false_positives: 573.0000 - false_negatives: 702.0000 - val_loss: 0.1092 - val_acc: 0.8892 - val_precision: 0.8987 - val_recall: 0.8800 - val_auc: 0.9762 - val_true_positives: 1056.0000 - val_true_negatives: 5881.0000 - val_false_positives: 119.0000 - val_false_negatives: 144.0000\n",
      "Epoch 20/50\n",
      "300/300 [==============================] - 88s 295ms/step - loss: 0.1241 - acc: 0.8665 - precision: 0.8773 - recall: 0.8550 - auc: 0.9749 - true_positives: 4104.0000 - true_negatives: 23426.0000 - false_positives: 574.0000 - false_negatives: 696.0000 - val_loss: 0.1047 - val_acc: 0.8925 - val_precision: 0.9069 - val_recall: 0.8850 - val_auc: 0.9795 - val_true_positives: 1062.0000 - val_true_negatives: 5891.0000 - val_false_positives: 109.0000 - val_false_negatives: 138.0000\n",
      "Epoch 21/50\n",
      "300/300 [==============================] - 88s 293ms/step - loss: 0.1239 - acc: 0.8671 - precision: 0.8759 - recall: 0.8560 - auc: 0.9739 - true_positives: 4109.0000 - true_negatives: 23418.0000 - false_positives: 582.0000 - false_negatives: 691.0000 - val_loss: 0.1053 - val_acc: 0.8975 - val_precision: 0.9070 - val_recall: 0.8858 - val_auc: 0.9778 - val_true_positives: 1063.0000 - val_true_negatives: 5891.0000 - val_false_positives: 109.0000 - val_false_negatives: 137.0000\n",
      "Epoch 22/50\n",
      "300/300 [==============================] - 88s 295ms/step - loss: 0.1116 - acc: 0.8794 - precision: 0.8896 - recall: 0.8708 - auc: 0.9792 - true_positives: 4180.0000 - true_negatives: 23481.0000 - false_positives: 519.0000 - false_negatives: 620.0000 - val_loss: 0.1097 - val_acc: 0.8917 - val_precision: 0.9043 - val_recall: 0.8817 - val_auc: 0.9749 - val_true_positives: 1058.0000 - val_true_negatives: 5888.0000 - val_false_positives: 112.0000 - val_false_negatives: 142.0000\n",
      "Epoch 23/50\n",
      "300/300 [==============================] - 88s 294ms/step - loss: 0.1182 - acc: 0.8758 - precision: 0.8877 - recall: 0.8681 - auc: 0.9764 - true_positives: 4167.0000 - true_negatives: 23473.0000 - false_positives: 527.0000 - false_negatives: 633.0000 - val_loss: 0.1042 - val_acc: 0.8975 - val_precision: 0.9088 - val_recall: 0.8883 - val_auc: 0.9771 - val_true_positives: 1066.0000 - val_true_negatives: 5893.0000 - val_false_positives: 107.0000 - val_false_negatives: 134.0000\n",
      "Epoch 24/50\n",
      "300/300 [==============================] - 92s 307ms/step - loss: 0.1167 - acc: 0.8698 - precision: 0.8815 - recall: 0.8619 - auc: 0.9755 - true_positives: 4137.0000 - true_negatives: 23444.0000 - false_positives: 556.0000 - false_negatives: 663.0000 - val_loss: 0.1056 - val_acc: 0.8933 - val_precision: 0.9033 - val_recall: 0.8800 - val_auc: 0.9795 - val_true_positives: 1056.0000 - val_true_negatives: 5887.0000 - val_false_positives: 113.0000 - val_false_negatives: 144.0000\n",
      "Epoch 25/50\n",
      "300/300 [==============================] - 90s 298ms/step - loss: 0.1104 - acc: 0.8800 - precision: 0.8901 - recall: 0.8725 - auc: 0.9788 - true_positives: 4188.0000 - true_negatives: 23483.0000 - false_positives: 517.0000 - false_negatives: 612.0000 - val_loss: 0.1099 - val_acc: 0.8900 - val_precision: 0.9039 - val_recall: 0.8775 - val_auc: 0.9773 - val_true_positives: 1053.0000 - val_true_negatives: 5888.0000 - val_false_positives: 112.0000 - val_false_negatives: 147.0000\n",
      "Epoch 26/50\n",
      "300/300 [==============================] - 90s 300ms/step - loss: 0.1055 - acc: 0.8850 - precision: 0.8951 - recall: 0.8760 - auc: 0.9809 - true_positives: 4205.0000 - true_negatives: 23507.0000 - false_positives: 493.0000 - false_negatives: 595.0000 - val_loss: 0.1095 - val_acc: 0.8833 - val_precision: 0.8983 - val_recall: 0.8758 - val_auc: 0.9776 - val_true_positives: 1051.0000 - val_true_negatives: 5881.0000 - val_false_positives: 119.0000 - val_false_negatives: 149.0000\n",
      "Epoch 27/50\n",
      "300/300 [==============================] - 90s 301ms/step - loss: 0.1028 - acc: 0.8902 - precision: 0.8990 - recall: 0.8806 - auc: 0.9793 - true_positives: 4227.0000 - true_negatives: 23525.0000 - false_positives: 475.0000 - false_negatives: 573.0000 - val_loss: 0.1069 - val_acc: 0.8833 - val_precision: 0.8973 - val_recall: 0.8733 - val_auc: 0.9766 - val_true_positives: 1048.0000 - val_true_negatives: 5880.0000 - val_false_positives: 120.0000 - val_false_negatives: 152.0000\n",
      "Epoch 28/50\n",
      "300/300 [==============================] - 90s 301ms/step - loss: 0.1055 - acc: 0.8838 - precision: 0.8938 - recall: 0.8781 - auc: 0.9781 - true_positives: 4215.0000 - true_negatives: 23499.0000 - false_positives: 501.0000 - false_negatives: 585.0000 - val_loss: 0.1059 - val_acc: 0.8942 - val_precision: 0.9022 - val_recall: 0.8842 - val_auc: 0.9778 - val_true_positives: 1061.0000 - val_true_negatives: 5885.0000 - val_false_positives: 115.0000 - val_false_negatives: 139.0000\n",
      "Epoch 29/50\n",
      "300/300 [==============================] - 91s 302ms/step - loss: 0.0980 - acc: 0.8988 - precision: 0.9073 - recall: 0.8913 - auc: 0.9810 - true_positives: 4278.0000 - true_negatives: 23563.0000 - false_positives: 437.0000 - false_negatives: 522.0000 - val_loss: 0.0922 - val_acc: 0.9058 - val_precision: 0.9152 - val_recall: 0.8992 - val_auc: 0.9813 - val_true_positives: 1079.0000 - val_true_negatives: 5900.0000 - val_false_positives: 100.0000 - val_false_negatives: 121.0000\n",
      "Epoch 30/50\n",
      "300/300 [==============================] - 91s 303ms/step - loss: 0.0979 - acc: 0.8994 - precision: 0.9072 - recall: 0.8923 - auc: 0.9819 - true_positives: 4283.0000 - true_negatives: 23562.0000 - false_positives: 438.0000 - false_negatives: 517.0000 - val_loss: 0.0936 - val_acc: 0.9100 - val_precision: 0.9176 - val_recall: 0.9000 - val_auc: 0.9801 - val_true_positives: 1080.0000 - val_true_negatives: 5903.0000 - val_false_positives: 97.0000 - val_false_negatives: 120.0000\n",
      "Epoch 31/50\n",
      "300/300 [==============================] - 92s 305ms/step - loss: 0.0940 - acc: 0.8994 - precision: 0.9073 - recall: 0.8935 - auc: 0.9827 - true_positives: 4289.0000 - true_negatives: 23562.0000 - false_positives: 438.0000 - false_negatives: 511.0000 - val_loss: 0.0965 - val_acc: 0.9067 - val_precision: 0.9121 - val_recall: 0.8992 - val_auc: 0.9799 - val_true_positives: 1079.0000 - val_true_negatives: 5896.0000 - val_false_positives: 104.0000 - val_false_negatives: 121.0000\n",
      "Epoch 32/50\n",
      "300/300 [==============================] - 91s 303ms/step - loss: 0.0940 - acc: 0.8973 - precision: 0.9044 - recall: 0.8910 - auc: 0.9835 - true_positives: 4277.0000 - true_negatives: 23548.0000 - false_positives: 452.0000 - false_negatives: 523.0000 - val_loss: 0.0946 - val_acc: 0.9017 - val_precision: 0.9079 - val_recall: 0.8950 - val_auc: 0.9800 - val_true_positives: 1074.0000 - val_true_negatives: 5891.0000 - val_false_positives: 109.0000 - val_false_negatives: 126.0000\n",
      "Epoch 33/50\n",
      "300/300 [==============================] - 91s 302ms/step - loss: 0.0915 - acc: 0.9060 - precision: 0.9140 - recall: 0.9013 - auc: 0.9819 - true_positives: 4326.0000 - true_negatives: 23593.0000 - false_positives: 407.0000 - false_negatives: 474.0000 - val_loss: 0.1000 - val_acc: 0.9033 - val_precision: 0.9106 - val_recall: 0.9000 - val_auc: 0.9766 - val_true_positives: 1080.0000 - val_true_negatives: 5894.0000 - val_false_positives: 106.0000 - val_false_negatives: 120.0000\n",
      "Epoch 34/50\n",
      "300/300 [==============================] - 90s 302ms/step - loss: 0.0978 - acc: 0.8958 - precision: 0.9030 - recall: 0.8885 - auc: 0.9808 - true_positives: 4265.0000 - true_negatives: 23542.0000 - false_positives: 458.0000 - false_negatives: 535.0000 - val_loss: 0.0990 - val_acc: 0.9033 - val_precision: 0.9109 - val_recall: 0.8950 - val_auc: 0.9788 - val_true_positives: 1074.0000 - val_true_negatives: 5895.0000 - val_false_positives: 105.0000 - val_false_negatives: 126.0000\n"
     ]
    },
    {
     "name": "stdout",
     "output_type": "stream",
     "text": [
      "Epoch 35/50\n",
      "300/300 [==============================] - 89s 296ms/step - loss: 0.0878 - acc: 0.9075 - precision: 0.9122 - recall: 0.9023 - auc: 0.9830 - true_positives: 4331.0000 - true_negatives: 23583.0000 - false_positives: 417.0000 - false_negatives: 469.0000 - val_loss: 0.0984 - val_acc: 0.9033 - val_precision: 0.9098 - val_recall: 0.8992 - val_auc: 0.9784 - val_true_positives: 1079.0000 - val_true_negatives: 5893.0000 - val_false_positives: 107.0000 - val_false_negatives: 121.0000\n",
      "Epoch 36/50\n",
      "300/300 [==============================] - 89s 297ms/step - loss: 0.0920 - acc: 0.9031 - precision: 0.9110 - recall: 0.8979 - auc: 0.9817 - true_positives: 4310.0000 - true_negatives: 23579.0000 - false_positives: 421.0000 - false_negatives: 490.0000 - val_loss: 0.1018 - val_acc: 0.8992 - val_precision: 0.9049 - val_recall: 0.8883 - val_auc: 0.9778 - val_true_positives: 1066.0000 - val_true_negatives: 5888.0000 - val_false_positives: 112.0000 - val_false_negatives: 134.0000\n",
      "Epoch 37/50\n",
      "300/300 [==============================] - 90s 299ms/step - loss: 0.0871 - acc: 0.9073 - precision: 0.9168 - recall: 0.9017 - auc: 0.9853 - true_positives: 4328.0000 - true_negatives: 23607.0000 - false_positives: 393.0000 - false_negatives: 472.0000 - val_loss: 0.0940 - val_acc: 0.9025 - val_precision: 0.9096 - val_recall: 0.8967 - val_auc: 0.9810 - val_true_positives: 1076.0000 - val_true_negatives: 5893.0000 - val_false_positives: 107.0000 - val_false_negatives: 124.0000\n",
      "Epoch 38/50\n",
      "300/300 [==============================] - 89s 297ms/step - loss: 0.0872 - acc: 0.9106 - precision: 0.9183 - recall: 0.9058 - auc: 0.9843 - true_positives: 4348.0000 - true_negatives: 23613.0000 - false_positives: 387.0000 - false_negatives: 452.0000 - val_loss: 0.0908 - val_acc: 0.9108 - val_precision: 0.9186 - val_recall: 0.9033 - val_auc: 0.9801 - val_true_positives: 1084.0000 - val_true_negatives: 5904.0000 - val_false_positives: 96.0000 - val_false_negatives: 116.0000\n",
      "Epoch 39/50\n",
      "300/300 [==============================] - 90s 299ms/step - loss: 0.0848 - acc: 0.9108 - precision: 0.9163 - recall: 0.9038 - auc: 0.9845 - true_positives: 4338.0000 - true_negatives: 23604.0000 - false_positives: 396.0000 - false_negatives: 462.0000 - val_loss: 0.0867 - val_acc: 0.9200 - val_precision: 0.9241 - val_recall: 0.9125 - val_auc: 0.9815 - val_true_positives: 1095.0000 - val_true_negatives: 5910.0000 - val_false_positives: 90.0000 - val_false_negatives: 105.0000\n",
      "Epoch 40/50\n",
      "300/300 [==============================] - 90s 299ms/step - loss: 0.0831 - acc: 0.9102 - precision: 0.9147 - recall: 0.9050 - auc: 0.9853 - true_positives: 4344.0000 - true_negatives: 23595.0000 - false_positives: 405.0000 - false_negatives: 456.0000 - val_loss: 0.0842 - val_acc: 0.9167 - val_precision: 0.9254 - val_recall: 0.9100 - val_auc: 0.9831 - val_true_positives: 1092.0000 - val_true_negatives: 5912.0000 - val_false_positives: 88.0000 - val_false_negatives: 108.0000\n",
      "Epoch 41/50\n",
      "300/300 [==============================] - 91s 302ms/step - loss: 0.0764 - acc: 0.9165 - precision: 0.9212 - recall: 0.9106 - auc: 0.9859 - true_positives: 4371.0000 - true_negatives: 23626.0000 - false_positives: 374.0000 - false_negatives: 429.0000 - val_loss: 0.0942 - val_acc: 0.9142 - val_precision: 0.9221 - val_recall: 0.9075 - val_auc: 0.9789 - val_true_positives: 1089.0000 - val_true_negatives: 5908.0000 - val_false_positives: 92.0000 - val_false_negatives: 111.0000\n",
      "Epoch 42/50\n",
      "300/300 [==============================] - 90s 300ms/step - loss: 0.0798 - acc: 0.9121 - precision: 0.9164 - recall: 0.9083 - auc: 0.9852 - true_positives: 4360.0000 - true_negatives: 23602.0000 - false_positives: 398.0000 - false_negatives: 440.0000 - val_loss: 0.0866 - val_acc: 0.9133 - val_precision: 0.9182 - val_recall: 0.9075 - val_auc: 0.9810 - val_true_positives: 1089.0000 - val_true_negatives: 5903.0000 - val_false_positives: 97.0000 - val_false_negatives: 111.0000\n",
      "Epoch 43/50\n",
      "300/300 [==============================] - 91s 302ms/step - loss: 0.0835 - acc: 0.9108 - precision: 0.9154 - recall: 0.9058 - auc: 0.9844 - true_positives: 4348.0000 - true_negatives: 23598.0000 - false_positives: 402.0000 - false_negatives: 452.0000 - val_loss: 0.0786 - val_acc: 0.9300 - val_precision: 0.9357 - val_recall: 0.9217 - val_auc: 0.9845 - val_true_positives: 1106.0000 - val_true_negatives: 5924.0000 - val_false_positives: 76.0000 - val_false_negatives: 94.0000\n",
      "Epoch 44/50\n",
      "300/300 [==============================] - 92s 305ms/step - loss: 0.0750 - acc: 0.9204 - precision: 0.9263 - recall: 0.9167 - auc: 0.9873 - true_positives: 4400.0000 - true_negatives: 23650.0000 - false_positives: 350.0000 - false_negatives: 400.0000 - val_loss: 0.0807 - val_acc: 0.9242 - val_precision: 0.9307 - val_recall: 0.9183 - val_auc: 0.9827 - val_true_positives: 1102.0000 - val_true_negatives: 5918.0000 - val_false_positives: 82.0000 - val_false_negatives: 98.0000\n",
      "Epoch 45/50\n",
      "300/300 [==============================] - 90s 300ms/step - loss: 0.0836 - acc: 0.9140 - precision: 0.9183 - recall: 0.9090 - auc: 0.9846 - true_positives: 4363.0000 - true_negatives: 23612.0000 - false_positives: 388.0000 - false_negatives: 437.0000 - val_loss: 0.0942 - val_acc: 0.9167 - val_precision: 0.9193 - val_recall: 0.9117 - val_auc: 0.9809 - val_true_positives: 1094.0000 - val_true_negatives: 5904.0000 - val_false_positives: 96.0000 - val_false_negatives: 106.0000\n",
      "Epoch 46/50\n",
      "300/300 [==============================] - 90s 300ms/step - loss: 0.0777 - acc: 0.9187 - precision: 0.9254 - recall: 0.9129 - auc: 0.9853 - true_positives: 4382.0000 - true_negatives: 23647.0000 - false_positives: 353.0000 - false_negatives: 418.0000 - val_loss: 0.0824 - val_acc: 0.9267 - val_precision: 0.9295 - val_recall: 0.9233 - val_auc: 0.9822 - val_true_positives: 1108.0000 - val_true_negatives: 5916.0000 - val_false_positives: 84.0000 - val_false_negatives: 92.0000\n",
      "Epoch 47/50\n",
      "300/300 [==============================] - 90s 300ms/step - loss: 0.0795 - acc: 0.9198 - precision: 0.9282 - recall: 0.9154 - auc: 0.9855 - true_positives: 4394.0000 - true_negatives: 23660.0000 - false_positives: 340.0000 - false_negatives: 406.0000 - val_loss: 0.0823 - val_acc: 0.9292 - val_precision: 0.9320 - val_recall: 0.9258 - val_auc: 0.9819 - val_true_positives: 1111.0000 - val_true_negatives: 5919.0000 - val_false_positives: 81.0000 - val_false_negatives: 89.0000\n",
      "Epoch 48/50\n",
      "300/300 [==============================] - 90s 300ms/step - loss: 0.0731 - acc: 0.9212 - precision: 0.9268 - recall: 0.9181 - auc: 0.9872 - true_positives: 4407.0000 - true_negatives: 23652.0000 - false_positives: 348.0000 - false_negatives: 393.0000 - val_loss: 0.0819 - val_acc: 0.9208 - val_precision: 0.9244 - val_recall: 0.9175 - val_auc: 0.9831 - val_true_positives: 1101.0000 - val_true_negatives: 5910.0000 - val_false_positives: 90.0000 - val_false_negatives: 99.0000\n",
      "Epoch 49/50\n",
      "300/300 [==============================] - 89s 298ms/step - loss: 0.0776 - acc: 0.9190 - precision: 0.9247 - recall: 0.9154 - auc: 0.9861 - true_positives: 4394.0000 - true_negatives: 23642.0000 - false_positives: 358.0000 - false_negatives: 406.0000 - val_loss: 0.0791 - val_acc: 0.9258 - val_precision: 0.9279 - val_recall: 0.9217 - val_auc: 0.9850 - val_true_positives: 1106.0000 - val_true_negatives: 5914.0000 - val_false_positives: 86.0000 - val_false_negatives: 94.0000\n",
      "Epoch 50/50\n",
      "300/300 [==============================] - 92s 306ms/step - loss: 0.0776 - acc: 0.9240 - precision: 0.9274 - recall: 0.9208 - auc: 0.9852 - true_positives: 4420.0000 - true_negatives: 23654.0000 - false_positives: 346.0000 - false_negatives: 380.0000 - val_loss: 0.0873 - val_acc: 0.9167 - val_precision: 0.9187 - val_recall: 0.9133 - val_auc: 0.9835 - val_true_positives: 1096.0000 - val_true_negatives: 5903.0000 - val_false_positives: 97.0000 - val_false_negatives: 104.0000\n",
      "Total training time: 4506.890104055405 seconds\n"
     ]
    }
   ],
   "source": [
    "import time\n",
    "start_time = time.time()\n",
    "history = model.fit(\n",
    "    aug.flow(x_train, y_train, batch_size=BS),\n",
    "    validation_data=(x_test, y_test),\n",
    "    steps_per_epoch=len(x_train) // BS,\n",
    "    epochs=EPOCHS,\n",
    "    verbose=1\n",
    ")\n",
    "end_time = time.time()\n",
    "training_time = end_time - start_time\n",
    "print(\"Total training time:\", training_time, \"seconds\")"
   ]
  },
  {
   "cell_type": "code",
   "execution_count": 14,
   "id": "0a67a559",
   "metadata": {},
   "outputs": [
    {
     "name": "stdout",
     "output_type": "stream",
     "text": [
      "Precision: 0.9274\n",
      "Recall: 0.9208\n",
      "F1 Score: 0.9241\n"
     ]
    }
   ],
   "source": [
    "precision = history.history['precision'][-1]\n",
    "recall = history.history['recall'][-1]\n",
    "f1 = 2 * (precision * recall) / (precision + recall)\n",
    "\n",
    "print(f'Precision: {precision:.4f}')\n",
    "print(f'Recall: {recall:.4f}')\n",
    "print(f'F1 Score: {f1:.4f}')"
   ]
  },
  {
   "cell_type": "code",
   "execution_count": null,
   "id": "322441dc",
   "metadata": {},
   "outputs": [],
   "source": []
  },
  {
   "cell_type": "code",
   "execution_count": 18,
   "id": "058fa430",
   "metadata": {},
   "outputs": [
    {
     "name": "stdout",
     "output_type": "stream",
     "text": [
      "38/38 [==============================] - 4s 107ms/step - loss: 0.0873 - acc: 0.9167 - precision: 0.9187 - recall: 0.9133 - auc: 0.9835 - true_positives: 1096.0000 - true_negatives: 5903.0000 - false_positives: 97.0000 - false_negatives: 104.0000\n",
      "Testing Accuracy: 0.9167\n"
     ]
    }
   ],
   "source": [
    "# ... (previous code)\n",
    "\n",
    "# Evaluate the model on the test set\n",
    "test_metrics = model.evaluate(x_test, y_test)\n",
    "\n",
    "# Extract individual metric values\n",
    "test_loss, test_accuracy, precision, recall, auc, true_positives, true_negatives, false_positives, false_negatives = test_metrics\n",
    "\n",
    "# Print the testing accuracy\n",
    "print(f\"Testing Accuracy: {test_accuracy:.4f}\")"
   ]
  },
  {
   "cell_type": "code",
   "execution_count": 19,
   "id": "136d0a55",
   "metadata": {},
   "outputs": [
    {
     "name": "stdout",
     "output_type": "stream",
     "text": [
      "Precision: 0.9274\n",
      "Recall: 0.9208\n",
      "AUC: 0.9852\n",
      "True Positives: 4420.0000\n",
      "True Negatives: 23654.0000\n",
      "False Positives: 346.0000\n",
      "False Negatives: 380.0000\n"
     ]
    }
   ],
   "source": [
    "# Print additional metrics for training\n",
    "print(f\"Precision: {history.history['precision'][-1]:.4f}\")\n",
    "\n",
    "print(f\"Recall: {history.history['recall'][-1]:.4f}\")\n",
    "print(f\"AUC: {history.history['auc'][-1]:.4f}\")\n",
    "print(f\"True Positives: {history.history['true_positives'][-1]:.4f}\")\n",
    "print(f\"True Negatives: {history.history['true_negatives'][-1]:.4f}\")\n",
    "print(f\"False Positives: {history.history['false_positives'][-1]:.4f}\")\n",
    "print(f\"False Negatives: {history.history['false_negatives'][-1]:.4f}\")"
   ]
  },
  {
   "cell_type": "code",
   "execution_count": null,
   "id": "e9619d1f",
   "metadata": {},
   "outputs": [],
   "source": []
  },
  {
   "cell_type": "code",
   "execution_count": 20,
   "id": "b3f966f7",
   "metadata": {},
   "outputs": [
    {
     "name": "stdout",
     "output_type": "stream",
     "text": [
      "38/38 [==============================] - 5s 123ms/step - loss: 0.0873 - acc: 0.9167 - precision: 0.9187 - recall: 0.9133 - auc: 0.9835 - true_positives: 1096.0000 - true_negatives: 5903.0000 - false_positives: 97.0000 - false_negatives: 104.0000\n",
      "Testing Accuracy: 0.9167\n"
     ]
    }
   ],
   "source": [
    "# ... (previous code)\n",
    "\n",
    "# Evaluate the model on the test set\n",
    "test_metrics = model.evaluate(x_test, y_test)\n",
    "\n",
    "# Extract individual metric values\n",
    "test_loss, test_accuracy, precision, recall, auc, true_positives, true_negatives, false_positives, false_negatives = test_metrics\n",
    "\n",
    "# Print the testing accuracy\n",
    "print(f\"Testing Accuracy: {test_accuracy:.4f}\")\n"
   ]
  },
  {
   "cell_type": "code",
   "execution_count": 24,
   "id": "c9f69ff8",
   "metadata": {},
   "outputs": [
    {
     "name": "stdout",
     "output_type": "stream",
     "text": [
      "dict_keys(['loss', 'acc', 'precision', 'recall', 'auc', 'true_positives', 'true_negatives', 'false_positives', 'false_negatives', 'val_loss', 'val_acc', 'val_precision', 'val_recall', 'val_auc', 'val_true_positives', 'val_true_negatives', 'val_false_positives', 'val_false_negatives'])\n"
     ]
    },
    {
     "data": {
      "image/png": "[encoded data removed]",
      "text/plain": [
       "<Figure size 432x288 with 1 Axes>"
      ]
     },
     "metadata": {
      "needs_background": "light"
     },
     "output_type": "display_data"
    },
    {
     "data": {
      "image/png": "[encoded data removed]",
      "text/plain": [
       "<Figure size 432x288 with 1 Axes>"
      ]
     },
     "metadata": {
      "needs_background": "light"
     },
     "output_type": "display_data"
    }
   ],
   "source": [
    "print(history.history.keys())\n",
    "plt.plot(history.history['acc'])\n",
    "plt.plot(history.history['val_acc'])\n",
    "plt.title('model accuracy')\n",
    "plt.ylabel('accuracy')\n",
    "plt.xlabel('epoch')\n",
    "plt.legend(['train', 'test'], loc='upper left')\n",
    "plt.show()\n",
    "plt.plot(history.history['loss'])\n",
    "plt.plot(history.history['val_loss'])\n",
    "plt.title('model loss')\n",
    "plt.ylabel('loss')\n",
    "plt.xlabel('epoch')\n",
    "plt.legend(['train', 'test'], loc='upper left')\n",
    "plt.show()"
   ]
  },
  {
   "cell_type": "code",
   "execution_count": 25,
   "id": "c52765c6",
   "metadata": {},
   "outputs": [
    {
     "data": {
      "image/png": "[encoded data removed]",
      "text/plain": [
       "<Figure size 1440x1440 with 1 Axes>"
      ]
     },
     "metadata": {
      "needs_background": "light"
     },
     "output_type": "display_data"
    }
   ],
   "source": [
    "def image_information(data_set_info):\n",
    "    plt.rcParams[\"font.size\"]=14\n",
    "    plt.pie([data_set_info.nb[data_set_info.Category==\"healthy\"].sum(),data_set_info.nb[data_set_info.Category!=\"health\"].sum()],labels=[\"Healthy\",\"Disease\"],autopct=lambda x:str(round(x,1))+\"%\",colors=[\"#007CC3\",\"#47B39C\"],shadow=False,explode=(0.20,0))\n",
    "\n",
    "    \n",
    "plt.figure(figsize=(20,20))\n",
    "plt.subplot(1,3,1)\n",
    "plt.title(\"Train vs Valid data Distribution\",fontsize=19,color=\"Blue\")\n",
    "plt.rcParams[\"font.size\"]=14\n",
    "\n",
    "total_data = 15350\n",
    "train_ratio = 0.8\n",
    "\n",
    "train_data_count = int(total_data * train_ratio)\n",
    "valid_data_count = total_data - train_data_count\n"
   ]
  },
  {
   "cell_type": "code",
   "execution_count": 23,
   "id": "4043a56d",
   "metadata": {},
   "outputs": [
    {
     "ename": "NameError",
     "evalue": "name 'valid_data_count' is not defined",
     "output_type": "error",
     "traceback": [
      "\u001b[0;31m---------------------------------------------------------------------------\u001b[0m",
      "\u001b[0;31mNameError\u001b[0m                                 Traceback (most recent call last)",
      "\u001b[0;32m/var/folders/6j/l3dggmk13cb32hxjnt765zzw0000gn/T/ipykernel_3512/3617344103.py\u001b[0m in \u001b[0;36m<module>\u001b[0;34m\u001b[0m\n\u001b[1;32m      1\u001b[0m \u001b[0;31m# image_information(valid_data_count)\u001b[0m\u001b[0;34m\u001b[0m\u001b[0;34m\u001b[0m\u001b[0;34m\u001b[0m\u001b[0m\n\u001b[0;32m----> 2\u001b[0;31m \u001b[0mplt\u001b[0m\u001b[0;34m.\u001b[0m\u001b[0mpie\u001b[0m\u001b[0;34m(\u001b[0m\u001b[0;34m[\u001b[0m\u001b[0mvalid_data_count\u001b[0m\u001b[0;34m.\u001b[0m\u001b[0mnb\u001b[0m\u001b[0;34m.\u001b[0m\u001b[0msum\u001b[0m\u001b[0;34m(\u001b[0m\u001b[0;34m)\u001b[0m\u001b[0;34m,\u001b[0m \u001b[0mtrain_data_count\u001b[0m\u001b[0;34m.\u001b[0m\u001b[0mnb\u001b[0m\u001b[0;34m.\u001b[0m\u001b[0msum\u001b[0m\u001b[0;34m(\u001b[0m\u001b[0;34m)\u001b[0m\u001b[0;34m]\u001b[0m\u001b[0;34m,\u001b[0m \u001b[0mlabels\u001b[0m\u001b[0;34m=\u001b[0m\u001b[0;34m[\u001b[0m\u001b[0;34m\"Valid Data\"\u001b[0m\u001b[0;34m,\u001b[0m \u001b[0;34m\"Train Data\"\u001b[0m\u001b[0;34m]\u001b[0m\u001b[0;34m,\u001b[0m \u001b[0mautopct\u001b[0m\u001b[0;34m=\u001b[0m\u001b[0;32mlambda\u001b[0m \u001b[0mx\u001b[0m\u001b[0;34m:\u001b[0m \u001b[0mstr\u001b[0m\u001b[0;34m(\u001b[0m\u001b[0mround\u001b[0m\u001b[0;34m(\u001b[0m\u001b[0mx\u001b[0m\u001b[0;34m,\u001b[0m\u001b[0;36m2\u001b[0m\u001b[0;34m)\u001b[0m\u001b[0;34m)\u001b[0m \u001b[0;34m+\u001b[0m \u001b[0;34m\"%\"\u001b[0m \u001b[0;34m,\u001b[0m \u001b[0mcolors\u001b[0m\u001b[0;34m=\u001b[0m\u001b[0;34m[\u001b[0m\u001b[0;34m\"#FFA600\"\u001b[0m\u001b[0;34m,\u001b[0m \u001b[0;34m\"#47B39C\"\u001b[0m\u001b[0;34m]\u001b[0m\u001b[0;34m,\u001b[0m \u001b[0mshadow\u001b[0m\u001b[0;34m=\u001b[0m\u001b[0;32mFalse\u001b[0m\u001b[0;34m,\u001b[0m \u001b[0mexplode\u001b[0m\u001b[0;34m=\u001b[0m\u001b[0;34m(\u001b[0m\u001b[0;36m0.20\u001b[0m\u001b[0;34m,\u001b[0m\u001b[0;36m0\u001b[0m\u001b[0;34m)\u001b[0m\u001b[0;34m)\u001b[0m\u001b[0;34m\u001b[0m\u001b[0;34m\u001b[0m\u001b[0m\n\u001b[0m\u001b[1;32m      3\u001b[0m \u001b[0mplt\u001b[0m\u001b[0;34m.\u001b[0m\u001b[0msubplot\u001b[0m\u001b[0;34m(\u001b[0m\u001b[0;36m1\u001b[0m\u001b[0;34m,\u001b[0m\u001b[0;36m3\u001b[0m\u001b[0;34m,\u001b[0m\u001b[0;36m2\u001b[0m\u001b[0;34m)\u001b[0m\u001b[0;34m\u001b[0m\u001b[0;34m\u001b[0m\u001b[0m\n\u001b[1;32m      4\u001b[0m \u001b[0mplt\u001b[0m\u001b[0;34m.\u001b[0m\u001b[0mtitle\u001b[0m\u001b[0;34m(\u001b[0m\u001b[0;34m\"Train Data Set Healthy Vs Disease Plant \"\u001b[0m        \u001b[0;34m\"          \"\u001b[0m  \u001b[0;34m,\u001b[0m\u001b[0mfontsize\u001b[0m\u001b[0;34m=\u001b[0m\u001b[0;36m19\u001b[0m\u001b[0;34m,\u001b[0m\u001b[0mcolor\u001b[0m\u001b[0;34m=\u001b[0m\u001b[0;34m\"aqua\"\u001b[0m\u001b[0;34m)\u001b[0m\u001b[0;34m\u001b[0m\u001b[0;34m\u001b[0m\u001b[0m\n\u001b[1;32m      5\u001b[0m \u001b[0mimage_information\u001b[0m\u001b[0;34m(\u001b[0m\u001b[0mtrain_data_count\u001b[0m\u001b[0;34m)\u001b[0m\u001b[0;34m\u001b[0m\u001b[0;34m\u001b[0m\u001b[0m\n",
      "\u001b[0;31mNameError\u001b[0m: name 'valid_data_count' is not defined"
     ]
    }
   ],
   "source": [
    "\n",
    "# image_information(valid_data_count)\n",
    "plt.pie([valid_data_count.nb.sum(), train_data_count.nb.sum()], labels=[\"Valid Data\", \"Train Data\"], autopct=lambda x: str(round(x,2)) + \"%\" , colors=[\"#FFA600\", \"#47B39C\"], shadow=False, explode=(0.20,0))\n",
    "plt.subplot(1,3,2)\n",
    "plt.title(\"Train Data Set Healthy Vs Disease Plant \"        \"          \"  ,fontsize=19,color=\"aqua\")\n",
    "image_information(train_data_count)\n",
    "plt.subplot(1,3,3)\n",
    "plt.title('Valid Data Set - Healthy VS Disease plant', fontsize=19,color=\"springgreen\")\n",
    "image_information(valid_data_count)\n",
    "         "
   ]
  },
  {
   "cell_type": "code",
   "execution_count": null,
   "id": "92def1cd",
   "metadata": {},
   "outputs": [],
   "source": []
  },
  {
   "cell_type": "code",
   "execution_count": 21,
   "id": "080f7bc9",
   "metadata": {},
   "outputs": [
    {
     "name": "stderr",
     "output_type": "stream",
     "text": [
      "/Library/Frameworks/Python.framework/Versions/3.9/lib/python3.9/site-packages/keras/src/engine/training.py:3103: UserWarning: You are saving your model as an HDF5 file via `model.save()`. This file format is considered legacy. We recommend using instead the native Keras format, e.g. `model.save('my_model.keras')`.\n",
      "  saving_api.save_model(\n"
     ]
    }
   ],
   "source": [
    "model.save(f'./model/mobilenet_combined.h5')"
   ]
  },
  {
   "cell_type": "code",
   "execution_count": 22,
   "id": "efdfd59d",
   "metadata": {},
   "outputs": [
    {
     "data": {
      "text/plain": [
       "[['.DS_Store',\n",
       "  '9',\n",
       "  '7',\n",
       "  '111',\n",
       "  '6',\n",
       "  '1',\n",
       "  'AlexNet_nb.h5',\n",
       "  'resnet50_combined.h5',\n",
       "  'resnet50.h5',\n",
       "  'vgg16_nb.h5',\n",
       "  'mobilenet_combined.h5',\n",
       "  'customcnn_nb.h5',\n",
       "  '112',\n",
       "  'MobieNet_nb.h5',\n",
       "  '4',\n",
       "  '3',\n",
       "  '12',\n",
       "  '2',\n",
       "  '5']]"
      ]
     },
     "execution_count": 22,
     "metadata": {},
     "output_type": "execute_result"
    }
   ],
   "source": [
    "import os\n",
    "[  os.listdir(\"./model\")]"
   ]
  },
  {
   "cell_type": "code",
   "execution_count": null,
   "id": "6e02d662",
   "metadata": {},
   "outputs": [],
   "source": []
  },
  {
   "cell_type": "code",
   "execution_count": 27,
   "id": "776f7b14",
   "metadata": {},
   "outputs": [
    {
     "name": "stdout",
     "output_type": "stream",
     "text": [
      "38/38 [==============================] - 7s 123ms/step\n"
     ]
    },
    {
     "data": {
      "image/png": "[encoded data removed]",
      "text/plain": [
       "<Figure size 576x432 with 2 Axes>"
      ]
     },
     "metadata": {
      "needs_background": "light"
     },
     "output_type": "display_data"
    }
   ],
   "source": [
    "from sklearn.metrics import confusion_matrix\n",
    "import seaborn as sns\n",
    "\n",
    "# Predicting the classes for the test set\n",
    "y_pred = model.predict(x_test)\n",
    "y_pred_classes = np.argmax(y_pred, axis=1)\n",
    "y_true_classes = np.argmax(y_test, axis=1)\n",
    "\n",
    "# Generate confusion matrix\n",
    "conf_matrix = confusion_matrix(y_true_classes, y_pred_classes)\n",
    "\n",
    "# Plot confusion matrix\n",
    "plt.figure(figsize=(8, 6))\n",
    "sns.heatmap(conf_matrix, annot=True, fmt='d', cmap='Blues', xticklabels=label_binarizer.classes_, yticklabels=label_binarizer.classes_)\n",
    "plt.xlabel('Predicted labels')\n",
    "plt.ylabel('True labels')\n",
    "plt.title('Confusion Matrix')\n",
    "plt.show()\n"
   ]
  },
  {
   "cell_type": "code",
   "execution_count": null,
   "id": "74d313e5",
   "metadata": {},
   "outputs": [],
   "source": [
    "import numpy as np\n",
    "from keras.models import load_model\n",
    "from keras.preprocessing import image\n",
    "model_alexnet=load_model(f'./model/mobilenet3d.h5')"
   ]
  },
  {
   "cell_type": "code",
   "execution_count": 26,
   "id": "8be2e3b0",
   "metadata": {},
   "outputs": [
    {
     "ename": "NameError",
     "evalue": "name 'test_ds' is not defined",
     "output_type": "error",
     "traceback": [
      "\u001b[0;31m---------------------------------------------------------------------------\u001b[0m",
      "\u001b[0;31mNameError\u001b[0m                                 Traceback (most recent call last)",
      "\u001b[0;32m/var/folders/6j/l3dggmk13cb32hxjnt765zzw0000gn/T/ipykernel_3512/1693033109.py\u001b[0m in \u001b[0;36m<module>\u001b[0;34m\u001b[0m\n\u001b[1;32m      1\u001b[0m \u001b[0;32mimport\u001b[0m \u001b[0mnumpy\u001b[0m \u001b[0;32mas\u001b[0m \u001b[0mnp\u001b[0m\u001b[0;34m\u001b[0m\u001b[0;34m\u001b[0m\u001b[0m\n\u001b[1;32m      2\u001b[0m \u001b[0;34m\u001b[0m\u001b[0m\n\u001b[0;32m----> 3\u001b[0;31m \u001b[0;32mfor\u001b[0m \u001b[0mimages_batch\u001b[0m\u001b[0;34m,\u001b[0m \u001b[0mlabels_batch\u001b[0m \u001b[0;32min\u001b[0m \u001b[0mtest_ds\u001b[0m\u001b[0;34m.\u001b[0m\u001b[0mtake\u001b[0m\u001b[0;34m(\u001b[0m\u001b[0;36m1\u001b[0m\u001b[0;34m)\u001b[0m\u001b[0;34m:\u001b[0m\u001b[0;34m\u001b[0m\u001b[0;34m\u001b[0m\u001b[0m\n\u001b[0m\u001b[1;32m      4\u001b[0m     \u001b[0mfirst_image\u001b[0m \u001b[0;34m=\u001b[0m \u001b[0mimages_batch\u001b[0m\u001b[0;34m[\u001b[0m\u001b[0;36m0\u001b[0m\u001b[0;34m]\u001b[0m\u001b[0;34m.\u001b[0m\u001b[0mnumpy\u001b[0m\u001b[0;34m(\u001b[0m\u001b[0;34m)\u001b[0m\u001b[0;34m.\u001b[0m\u001b[0mastype\u001b[0m\u001b[0;34m(\u001b[0m\u001b[0;34m'uint8'\u001b[0m\u001b[0;34m)\u001b[0m\u001b[0;34m\u001b[0m\u001b[0;34m\u001b[0m\u001b[0m\n\u001b[1;32m      5\u001b[0m     \u001b[0mfirst_label_index\u001b[0m \u001b[0;34m=\u001b[0m \u001b[0mnp\u001b[0m\u001b[0;34m.\u001b[0m\u001b[0margmax\u001b[0m\u001b[0;34m(\u001b[0m\u001b[0mlabels_batch\u001b[0m\u001b[0;34m[\u001b[0m\u001b[0;36m0\u001b[0m\u001b[0;34m]\u001b[0m\u001b[0;34m.\u001b[0m\u001b[0mnumpy\u001b[0m\u001b[0;34m(\u001b[0m\u001b[0;34m)\u001b[0m\u001b[0;34m)\u001b[0m\u001b[0;34m\u001b[0m\u001b[0;34m\u001b[0m\u001b[0m\n",
      "\u001b[0;31mNameError\u001b[0m: name 'test_ds' is not defined"
     ]
    }
   ],
   "source": [
    "import numpy as np\n",
    "\n",
    "for images_batch, labels_batch in test_ds.take(1):\n",
    "    first_image = images_batch[0].numpy().astype('uint8')\n",
    "    first_label_index = np.argmax(labels_batch[0].numpy())\n",
    "    \n",
    "    print(\"first image to predict\")\n",
    "    plt.imshow(first_image)\n",
    "    print(\"actual label:\", class_names[first_label_index])\n",
    "    \n",
    "    batch_prediction = model.predict(images_batch)\n",
    "    print(\"predicted label:\", class_names[np.argmax(batch_prediction[0])])\n"
   ]
  },
  {
   "cell_type": "code",
   "execution_count": null,
   "id": "f79d8fb2",
   "metadata": {},
   "outputs": [],
   "source": []
  }
 ],
 "metadata": {
  "kernelspec": {
   "display_name": "Python 3 (ipykernel)",
   "language": "python",
   "name": "python3"
  },
  "language_info": {
   "codemirror_mode": {
    "name": "ipython",
    "version": 3
   },
   "file_extension": ".py",
   "mimetype": "text/x-python",
   "name": "python",
   "nbconvert_exporter": "python",
   "pygments_lexer": "ipython3",
   "version": "3.9.5"
  }
 },
 "nbformat": 4,
 "nbformat_minor": 5
}
