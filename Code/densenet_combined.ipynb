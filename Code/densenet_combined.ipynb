{
 "cells": [
  {
   "cell_type": "code",
   "execution_count": 1,
   "id": "80cd3e22",
   "metadata": {},
   "outputs": [
    {
     "name": "stderr",
     "output_type": "stream",
     "text": [
      "2024-05-11 16:55:11.502206: I tensorflow/core/platform/cpu_feature_guard.cc:182] This TensorFlow binary is optimized to use available CPU instructions in performance-critical operations.\n",
      "To enable the following instructions: AVX2 FMA, in other operations, rebuild TensorFlow with the appropriate compiler flags.\n",
      "/Library/Frameworks/Python.framework/Versions/3.9/lib/python3.9/site-packages/scipy/__init__.py:155: UserWarning: A NumPy version >=1.18.5 and <1.25.0 is required for this version of SciPy (detected version 1.26.3\n",
      "  warnings.warn(f\"A NumPy version >={np_minversion} and <{np_maxversion}\"\n"
     ]
    }
   ],
   "source": [
    "import numpy as np\n",
    "import pickle\n",
    "import cv2\n",
    "import tensorflow as tf\n",
    "from os import listdir\n",
    "from sklearn.preprocessing import LabelBinarizer\n",
    "from keras.models import Sequential\n",
    "from tensorflow.keras.layers import BatchNormalization, Conv2D, MaxPooling2D, Activation, Flatten, Dropout, Dense\n",
    "from keras import backend as K\n",
    "from keras.preprocessing.image import ImageDataGenerator\n",
    "from keras.optimizers import Adam\n",
    "from keras.preprocessing import image\n",
    "from keras.preprocessing.image import img_to_array\n",
    "from sklearn.preprocessing import MultiLabelBinarizer\n",
    "from sklearn.model_selection import train_test_split\n",
    "import matplotlib.pyplot as plt\n",
    "\n",
    "from keras.applications import DenseNet121\n",
    "\n",
    "import os\n",
    "os.environ['TF_CPP_MIN_LOG_LEVEL'] = '2'"
   ]
  },
  {
   "cell_type": "code",
   "execution_count": 2,
   "id": "ad800731",
   "metadata": {},
   "outputs": [],
   "source": [
    "EPOCHS = 50\n",
    "INIT_LR = 1e-3\n",
    "BS = 16\n",
    "default_image_size = tuple((64, 64))\n",
    "image_size = 0\n",
    "width=64\n",
    "height=64\n",
    "depth=3\n",
    "image_size = 0\n",
    "directory_root = 'Combined Data'"
   ]
  },
  {
   "cell_type": "code",
   "execution_count": 3,
   "id": "eaf23bc1",
   "metadata": {},
   "outputs": [],
   "source": [
    "def convert_image_to_array(image_dir):\n",
    "    try:\n",
    "        image = cv2.imread(image_dir)\n",
    "        if image is not None :\n",
    "            image = cv2.resize(image, default_image_size)   \n",
    "            return img_to_array(image)\n",
    "        else :\n",
    "            return np.array([])\n",
    "    except Exception as e:\n",
    "        print(\"Error :\", e)\n",
    "        return None"
   ]
  },
  {
   "cell_type": "code",
   "execution_count": 4,
   "id": "3e2d1e65",
   "metadata": {},
   "outputs": [
    {
     "name": "stdout",
     "output_type": "stream",
     "text": [
      "[INFO] Loading images ...\n",
      "[INFO] Processing Maize_Common_Rust ...\n",
      "[INFO] Processing MLN ...\n",
      "[INFO] Processing HEATHLY ...\n",
      "[INFO] Processing MSV ...\n",
      "[INFO] Processing Maize_Blight ...\n",
      "[INFO] Processing Maize_Gray_Leaf_Spot ...\n",
      "[INFO] Image loading completed\n"
     ]
    }
   ],
   "source": [
    "image_list, label_list = [], []\n",
    "try:\n",
    "    print(\"[INFO] Loading images ...\")\n",
    "    root_dir = listdir(directory_root)\n",
    "    for directory in root_dir :\n",
    "        # remove .DS_Store from list\n",
    "        if directory == \".DS_Store\" :\n",
    "            root_dir.remove(directory)\n",
    "\n",
    "    for plant_folder in root_dir :\n",
    "       \n",
    "        plant_disease_folder_list = listdir(f\"{directory_root}/{plant_folder}\")\n",
    "        \n",
    "        for disease_folder in plant_disease_folder_list :\n",
    "            # remove .DS_Store from list\n",
    "            if disease_folder == \".DS_Store\" :\n",
    "                plant_disease_folder_list.remove(disease_folder)\n",
    "\n",
    "        for plant_disease_folder in plant_disease_folder_list:\n",
    "            print(f\"[INFO] Processing {plant_disease_folder} ...\")\n",
    "            plant_disease_image_list = listdir(f\"{directory_root}/{plant_folder}/{plant_disease_folder}/\")\n",
    "                \n",
    "            for single_plant_disease_image in plant_disease_image_list :\n",
    "                if single_plant_disease_image == \".DS_Store\" :\n",
    "                    plant_disease_image_list.remove(single_plant_disease_image)\n",
    "\n",
    "            for image in plant_disease_image_list:\n",
    "                image_directory = f\"{directory_root}/{plant_folder}/{plant_disease_folder}/{image}\"\n",
    "                if image_directory.endswith(\".jpg\") == True or image_directory.endswith(\".JPG\") == True:\n",
    "                    image_list.append(convert_image_to_array(image_directory))\n",
    "                    label_list.append(plant_disease_folder)\n",
    "    print(\"[INFO] Image loading completed\")  \n",
    "except Exception as e:\n",
    "    print(f\"Error : {e}\")"
   ]
  },
  {
   "cell_type": "code",
   "execution_count": 5,
   "id": "80611b93",
   "metadata": {},
   "outputs": [
    {
     "name": "stdout",
     "output_type": "stream",
     "text": [
      "6000\n"
     ]
    }
   ],
   "source": [
    "image_size = len(image_list)\n",
    "print(image_size)"
   ]
  },
  {
   "cell_type": "code",
   "execution_count": 6,
   "id": "0976a68b",
   "metadata": {},
   "outputs": [
    {
     "name": "stdout",
     "output_type": "stream",
     "text": [
      "['HEATHLY' 'MLN' 'MSV' 'Maize_Blight' 'Maize_Common_Rust'\n",
      " 'Maize_Gray_Leaf_Spot']\n"
     ]
    }
   ],
   "source": [
    "label_binarizer = LabelBinarizer()\n",
    "image_labels = label_binarizer.fit_transform(label_list)\n",
    "pickle.dump(label_binarizer,open('label_transform.pkl', 'wb'))\n",
    "n_classes = len(label_binarizer.classes_)\n",
    "print(label_binarizer.classes_)"
   ]
  },
  {
   "cell_type": "code",
   "execution_count": 7,
   "id": "befc8e60",
   "metadata": {},
   "outputs": [],
   "source": [
    "np_image_list = np.array(image_list, dtype=np.float16) / 225.0"
   ]
  },
  {
   "cell_type": "code",
   "execution_count": 8,
   "id": "4719f0d6",
   "metadata": {},
   "outputs": [
    {
     "name": "stdout",
     "output_type": "stream",
     "text": [
      "[INFO] Spliting data to train, test\n"
     ]
    }
   ],
   "source": [
    "print(\"[INFO] Spliting data to train, test\")\n",
    "x_train, x_test, y_train, y_test = train_test_split(np_image_list, image_labels, test_size=0.20, random_state = 42)"
   ]
  },
  {
   "cell_type": "code",
   "execution_count": 9,
   "id": "61d0c9a4",
   "metadata": {},
   "outputs": [],
   "source": [
    "aug = ImageDataGenerator(\n",
    "    rotation_range=25, width_shift_range=0.1,\n",
    "    height_shift_range=0.1, shear_range=0.2, \n",
    "    zoom_range=0.2,horizontal_flip=True, \n",
    "    fill_mode=\"nearest\")"
   ]
  },
  {
   "cell_type": "code",
   "execution_count": 10,
   "id": "dae7f32c",
   "metadata": {},
   "outputs": [],
   "source": [
    "base_model = DenseNet121(\n",
    "    weights='/Users/bhaumikpanchal/Downloads/densenet121_weights_tf_dim_ordering_tf_kernels_notop.h5', \n",
    "    include_top=False, \n",
    "    input_shape=(64, 64, 3))\n",
    "\n",
    "# Build model on top of the base model\n",
    "model = Sequential([\n",
    "    base_model,\n",
    "    Flatten(),\n",
    "    Dense(512, activation='relu'),\n",
    "    Dropout(0.5),\n",
    "    Dense(n_classes, activation='softmax')\n",
    "])"
   ]
  },
  {
   "cell_type": "code",
   "execution_count": 11,
   "id": "933b908b",
   "metadata": {},
   "outputs": [],
   "source": [
    "from keras.layers import Conv2D, MaxPooling2D, Flatten, Dense, Dropout, InputLayer\n",
    "from keras.models import Sequential\n",
    "from keras import optimizers\n",
    "from tensorflow.keras.metrics import Precision, Recall, AUC, TruePositives, TrueNegatives, FalsePositives, FalseNegatives\n",
    "\n",
    "model.compile(loss='categorical_crossentropy',\n",
    "                      optimizer=optimizers.RMSprop(learning_rate=2e-5),\n",
    "                      metrics=['acc', Precision(), Recall(), AUC(), TruePositives(), TrueNegatives(), FalsePositives(), FalseNegatives()])\n"
   ]
  },
  {
   "cell_type": "code",
   "execution_count": 12,
   "id": "d577f758",
   "metadata": {},
   "outputs": [
    {
     "name": "stdout",
     "output_type": "stream",
     "text": [
      "Model: \"sequential\"\n",
      "_________________________________________________________________\n",
      " Layer (type)                Output Shape              Param #   \n",
      "=================================================================\n",
      " densenet121 (Functional)    (None, 2, 2, 1024)        7037504   \n",
      "                                                                 \n",
      " flatten (Flatten)           (None, 4096)              0         \n",
      "                                                                 \n",
      " dense (Dense)               (None, 512)               2097664   \n",
      "                                                                 \n",
      " dropout (Dropout)           (None, 512)               0         \n",
      "                                                                 \n",
      " dense_1 (Dense)             (None, 6)                 3078      \n",
      "                                                                 \n",
      "=================================================================\n",
      "Total params: 9138246 (34.86 MB)\n",
      "Trainable params: 9054598 (34.54 MB)\n",
      "Non-trainable params: 83648 (326.75 KB)\n",
      "_________________________________________________________________\n"
     ]
    }
   ],
   "source": [
    "model.summary()"
   ]
  },
  {
   "cell_type": "code",
   "execution_count": 13,
   "id": "bd1e5536",
   "metadata": {},
   "outputs": [
    {
     "name": "stdout",
     "output_type": "stream",
     "text": [
      "Epoch 1/50\n",
      "300/300 [==============================] - 348s 1s/step - loss: 1.5664 - acc: 0.4806 - precision: 0.5532 - recall: 0.3965 - auc: 0.8012 - true_positives: 1903.0000 - true_negatives: 22463.0000 - false_positives: 1537.0000 - false_negatives: 2897.0000 - val_loss: 0.7998 - val_acc: 0.7292 - val_precision: 0.7843 - val_recall: 0.6425 - val_auc: 0.9370 - val_true_positives: 771.0000 - val_true_negatives: 5788.0000 - val_false_positives: 212.0000 - val_false_negatives: 429.0000\n",
      "Epoch 2/50\n",
      "300/300 [==============================] - 369s 1s/step - loss: 0.8323 - acc: 0.7119 - precision: 0.7528 - recall: 0.6592 - auc: 0.9342 - true_positives: 3164.0000 - true_negatives: 22961.0000 - false_positives: 1039.0000 - false_negatives: 1636.0000 - val_loss: 0.5050 - val_acc: 0.8350 - val_precision: 0.8555 - val_recall: 0.8092 - val_auc: 0.9721 - val_true_positives: 971.0000 - val_true_negatives: 5836.0000 - val_false_positives: 164.0000 - val_false_negatives: 229.0000\n",
      "Epoch 3/50\n",
      "300/300 [==============================] - 389s 1s/step - loss: 0.6233 - acc: 0.7840 - precision: 0.8188 - recall: 0.7513 - auc: 0.9610 - true_positives: 3606.0000 - true_negatives: 23202.0000 - false_positives: 798.0000 - false_negatives: 1194.0000 - val_loss: 0.4045 - val_acc: 0.8658 - val_precision: 0.8798 - val_recall: 0.8542 - val_auc: 0.9802 - val_true_positives: 1025.0000 - val_true_negatives: 5860.0000 - val_false_positives: 140.0000 - val_false_negatives: 175.0000\n",
      "Epoch 4/50\n",
      "300/300 [==============================] - 378s 1s/step - loss: 0.5525 - acc: 0.8131 - precision: 0.8371 - recall: 0.7890 - auc: 0.9680 - true_positives: 3787.0000 - true_negatives: 23263.0000 - false_positives: 737.0000 - false_negatives: 1013.0000 - val_loss: 0.3927 - val_acc: 0.8792 - val_precision: 0.8966 - val_recall: 0.8675 - val_auc: 0.9818 - val_true_positives: 1041.0000 - val_true_negatives: 5880.0000 - val_false_positives: 120.0000 - val_false_negatives: 159.0000\n",
      "Epoch 5/50\n",
      "300/300 [==============================] - 371s 1s/step - loss: 0.4523 - acc: 0.8473 - precision: 0.8681 - recall: 0.8269 - auc: 0.9773 - true_positives: 3969.0000 - true_negatives: 23397.0000 - false_positives: 603.0000 - false_negatives: 831.0000 - val_loss: 0.3854 - val_acc: 0.8858 - val_precision: 0.8964 - val_recall: 0.8800 - val_auc: 0.9823 - val_true_positives: 1056.0000 - val_true_negatives: 5878.0000 - val_false_positives: 122.0000 - val_false_negatives: 144.0000\n",
      "Epoch 6/50\n",
      "300/300 [==============================] - 358s 1s/step - loss: 0.4162 - acc: 0.8650 - precision: 0.8791 - recall: 0.8467 - auc: 0.9805 - true_positives: 4064.0000 - true_negatives: 23441.0000 - false_positives: 559.0000 - false_negatives: 736.0000 - val_loss: 0.3287 - val_acc: 0.9058 - val_precision: 0.9183 - val_recall: 0.8992 - val_auc: 0.9855 - val_true_positives: 1079.0000 - val_true_negatives: 5904.0000 - val_false_positives: 96.0000 - val_false_negatives: 121.0000\n",
      "Epoch 7/50\n",
      "300/300 [==============================] - 348s 1s/step - loss: 0.3758 - acc: 0.8748 - precision: 0.8887 - recall: 0.8633 - auc: 0.9838 - true_positives: 4144.0000 - true_negatives: 23481.0000 - false_positives: 519.0000 - false_negatives: 656.0000 - val_loss: 0.3557 - val_acc: 0.9017 - val_precision: 0.9162 - val_recall: 0.8933 - val_auc: 0.9845 - val_true_positives: 1072.0000 - val_true_negatives: 5902.0000 - val_false_positives: 98.0000 - val_false_negatives: 128.0000\n",
      "Epoch 8/50\n",
      "300/300 [==============================] - 350s 1s/step - loss: 0.3669 - acc: 0.8765 - precision: 0.8901 - recall: 0.8642 - auc: 0.9845 - true_positives: 4148.0000 - true_negatives: 23488.0000 - false_positives: 512.0000 - false_negatives: 652.0000 - val_loss: 0.3494 - val_acc: 0.9117 - val_precision: 0.9217 - val_recall: 0.9025 - val_auc: 0.9851 - val_true_positives: 1083.0000 - val_true_negatives: 5908.0000 - val_false_positives: 92.0000 - val_false_negatives: 117.0000\n",
      "Epoch 9/50\n",
      "300/300 [==============================] - 355s 1s/step - loss: 0.3120 - acc: 0.8965 - precision: 0.9084 - recall: 0.8858 - auc: 0.9875 - true_positives: 4252.0000 - true_negatives: 23571.0000 - false_positives: 429.0000 - false_negatives: 548.0000 - val_loss: 0.3161 - val_acc: 0.9150 - val_precision: 0.9244 - val_recall: 0.9067 - val_auc: 0.9876 - val_true_positives: 1088.0000 - val_true_negatives: 5911.0000 - val_false_positives: 89.0000 - val_false_negatives: 112.0000\n",
      "Epoch 10/50\n",
      "300/300 [==============================] - 356s 1s/step - loss: 0.3114 - acc: 0.9023 - precision: 0.9103 - recall: 0.8902 - auc: 0.9878 - true_positives: 4273.0000 - true_negatives: 23579.0000 - false_positives: 421.0000 - false_negatives: 527.0000 - val_loss: 0.2804 - val_acc: 0.9250 - val_precision: 0.9333 - val_recall: 0.9208 - val_auc: 0.9891 - val_true_positives: 1105.0000 - val_true_negatives: 5921.0000 - val_false_positives: 79.0000 - val_false_negatives: 95.0000\n",
      "Epoch 11/50\n",
      "300/300 [==============================] - 354s 1s/step - loss: 0.2800 - acc: 0.9081 - precision: 0.9166 - recall: 0.9004 - auc: 0.9897 - true_positives: 4322.0000 - true_negatives: 23607.0000 - false_positives: 393.0000 - false_negatives: 478.0000 - val_loss: 0.2996 - val_acc: 0.9158 - val_precision: 0.9262 - val_recall: 0.9100 - val_auc: 0.9886 - val_true_positives: 1092.0000 - val_true_negatives: 5913.0000 - val_false_positives: 87.0000 - val_false_negatives: 108.0000\n",
      "Epoch 12/50\n",
      "300/300 [==============================] - 353s 1s/step - loss: 0.2459 - acc: 0.9196 - precision: 0.9274 - recall: 0.9106 - auc: 0.9917 - true_positives: 4371.0000 - true_negatives: 23658.0000 - false_positives: 342.0000 - false_negatives: 429.0000 - val_loss: 0.3238 - val_acc: 0.9233 - val_precision: 0.9355 - val_recall: 0.9192 - val_auc: 0.9884 - val_true_positives: 1103.0000 - val_true_negatives: 5924.0000 - val_false_positives: 76.0000 - val_false_negatives: 97.0000\n",
      "Epoch 13/50\n",
      "300/300 [==============================] - 343s 1s/step - loss: 0.2365 - acc: 0.9242 - precision: 0.9301 - recall: 0.9154 - auc: 0.9926 - true_positives: 4394.0000 - true_negatives: 23670.0000 - false_positives: 330.0000 - false_negatives: 406.0000 - val_loss: 0.2666 - val_acc: 0.9367 - val_precision: 0.9451 - val_recall: 0.9325 - val_auc: 0.9903 - val_true_positives: 1119.0000 - val_true_negatives: 5935.0000 - val_false_positives: 65.0000 - val_false_negatives: 81.0000\n",
      "Epoch 14/50\n",
      "300/300 [==============================] - 354s 1s/step - loss: 0.2118 - acc: 0.9279 - precision: 0.9349 - recall: 0.9208 - auc: 0.9936 - true_positives: 4420.0000 - true_negatives: 23692.0000 - false_positives: 308.0000 - false_negatives: 380.0000 - val_loss: 0.2717 - val_acc: 0.9350 - val_precision: 0.9394 - val_recall: 0.9300 - val_auc: 0.9924 - val_true_positives: 1116.0000 - val_true_negatives: 5928.0000 - val_false_positives: 72.0000 - val_false_negatives: 84.0000\n",
      "Epoch 15/50\n",
      "300/300 [==============================] - 352s 1s/step - loss: 0.2345 - acc: 0.9269 - precision: 0.9330 - recall: 0.9219 - auc: 0.9919 - true_positives: 4425.0000 - true_negatives: 23682.0000 - false_positives: 318.0000 - false_negatives: 375.0000 - val_loss: 0.2442 - val_acc: 0.9392 - val_precision: 0.9483 - val_recall: 0.9325 - val_auc: 0.9920 - val_true_positives: 1119.0000 - val_true_negatives: 5939.0000 - val_false_positives: 61.0000 - val_false_negatives: 81.0000\n",
      "Epoch 16/50\n",
      "300/300 [==============================] - 351s 1s/step - loss: 0.2259 - acc: 0.9267 - precision: 0.9366 - recall: 0.9200 - auc: 0.9929 - true_positives: 4416.0000 - true_negatives: 23701.0000 - false_positives: 299.0000 - false_negatives: 384.0000 - val_loss: 0.2377 - val_acc: 0.9375 - val_precision: 0.9476 - val_recall: 0.9350 - val_auc: 0.9922 - val_true_positives: 1122.0000 - val_true_negatives: 5938.0000 - val_false_positives: 62.0000 - val_false_negatives: 78.0000\n",
      "Epoch 17/50\n",
      "300/300 [==============================] - 352s 1s/step - loss: 0.2100 - acc: 0.9317 - precision: 0.9371 - recall: 0.9256 - auc: 0.9933 - true_positives: 4443.0000 - true_negatives: 23702.0000 - false_positives: 298.0000 - false_negatives: 357.0000 - val_loss: 0.2642 - val_acc: 0.9342 - val_precision: 0.9408 - val_recall: 0.9275 - val_auc: 0.9919 - val_true_positives: 1113.0000 - val_true_negatives: 5930.0000 - val_false_positives: 70.0000 - val_false_negatives: 87.0000\n"
     ]
    },
    {
     "name": "stdout",
     "output_type": "stream",
     "text": [
      "Epoch 18/50\n",
      "300/300 [==============================] - 348s 1s/step - loss: 0.1794 - acc: 0.9396 - precision: 0.9456 - recall: 0.9352 - auc: 0.9947 - true_positives: 4489.0000 - true_negatives: 23742.0000 - false_positives: 258.0000 - false_negatives: 311.0000 - val_loss: 0.2631 - val_acc: 0.9383 - val_precision: 0.9444 - val_recall: 0.9342 - val_auc: 0.9926 - val_true_positives: 1121.0000 - val_true_negatives: 5934.0000 - val_false_positives: 66.0000 - val_false_negatives: 79.0000\n",
      "Epoch 19/50\n",
      "300/300 [==============================] - 344s 1s/step - loss: 0.1871 - acc: 0.9396 - precision: 0.9435 - recall: 0.9354 - auc: 0.9940 - true_positives: 4490.0000 - true_negatives: 23731.0000 - false_positives: 269.0000 - false_negatives: 310.0000 - val_loss: 0.2524 - val_acc: 0.9408 - val_precision: 0.9502 - val_recall: 0.9383 - val_auc: 0.9931 - val_true_positives: 1126.0000 - val_true_negatives: 5941.0000 - val_false_positives: 59.0000 - val_false_negatives: 74.0000\n",
      "Epoch 20/50\n",
      "300/300 [==============================] - 337s 1s/step - loss: 0.1772 - acc: 0.9431 - precision: 0.9476 - recall: 0.9381 - auc: 0.9947 - true_positives: 4503.0000 - true_negatives: 23751.0000 - false_positives: 249.0000 - false_negatives: 297.0000 - val_loss: 0.2396 - val_acc: 0.9542 - val_precision: 0.9612 - val_recall: 0.9508 - val_auc: 0.9925 - val_true_positives: 1141.0000 - val_true_negatives: 5954.0000 - val_false_positives: 46.0000 - val_false_negatives: 59.0000\n",
      "Epoch 21/50\n",
      "300/300 [==============================] - 342s 1s/step - loss: 0.1600 - acc: 0.9477 - precision: 0.9525 - recall: 0.9442 - auc: 0.9952 - true_positives: 4532.0000 - true_negatives: 23774.0000 - false_positives: 226.0000 - false_negatives: 268.0000 - val_loss: 0.2342 - val_acc: 0.9500 - val_precision: 0.9547 - val_recall: 0.9475 - val_auc: 0.9934 - val_true_positives: 1137.0000 - val_true_negatives: 5946.0000 - val_false_positives: 54.0000 - val_false_negatives: 63.0000\n",
      "Epoch 22/50\n",
      "300/300 [==============================] - 360s 1s/step - loss: 0.1420 - acc: 0.9563 - precision: 0.9585 - recall: 0.9527 - auc: 0.9967 - true_positives: 4573.0000 - true_negatives: 23802.0000 - false_positives: 198.0000 - false_negatives: 227.0000 - val_loss: 0.2504 - val_acc: 0.9525 - val_precision: 0.9571 - val_recall: 0.9492 - val_auc: 0.9922 - val_true_positives: 1139.0000 - val_true_negatives: 5949.0000 - val_false_positives: 51.0000 - val_false_negatives: 61.0000\n",
      "Epoch 23/50\n",
      "300/300 [==============================] - 362s 1s/step - loss: 0.1598 - acc: 0.9502 - precision: 0.9540 - recall: 0.9473 - auc: 0.9960 - true_positives: 4547.0000 - true_negatives: 23781.0000 - false_positives: 219.0000 - false_negatives: 253.0000 - val_loss: 0.2403 - val_acc: 0.9575 - val_precision: 0.9590 - val_recall: 0.9542 - val_auc: 0.9919 - val_true_positives: 1145.0000 - val_true_negatives: 5951.0000 - val_false_positives: 49.0000 - val_false_negatives: 55.0000\n",
      "Epoch 24/50\n",
      "300/300 [==============================] - 357s 1s/step - loss: 0.1429 - acc: 0.9552 - precision: 0.9579 - recall: 0.9533 - auc: 0.9963 - true_positives: 4576.0000 - true_negatives: 23799.0000 - false_positives: 201.0000 - false_negatives: 224.0000 - val_loss: 0.2156 - val_acc: 0.9617 - val_precision: 0.9631 - val_recall: 0.9583 - val_auc: 0.9921 - val_true_positives: 1150.0000 - val_true_negatives: 5956.0000 - val_false_positives: 44.0000 - val_false_negatives: 50.0000\n",
      "Epoch 25/50\n",
      "300/300 [==============================] - 355s 1s/step - loss: 0.1353 - acc: 0.9571 - precision: 0.9610 - recall: 0.9544 - auc: 0.9961 - true_positives: 4581.0000 - true_negatives: 23814.0000 - false_positives: 186.0000 - false_negatives: 219.0000 - val_loss: 0.2343 - val_acc: 0.9508 - val_precision: 0.9540 - val_recall: 0.9508 - val_auc: 0.9925 - val_true_positives: 1141.0000 - val_true_negatives: 5945.0000 - val_false_positives: 55.0000 - val_false_negatives: 59.0000\n",
      "Epoch 26/50\n",
      "300/300 [==============================] - 357s 1s/step - loss: 0.1383 - acc: 0.9558 - precision: 0.9584 - recall: 0.9540 - auc: 0.9959 - true_positives: 4579.0000 - true_negatives: 23801.0000 - false_positives: 199.0000 - false_negatives: 221.0000 - val_loss: 0.2100 - val_acc: 0.9600 - val_precision: 0.9624 - val_recall: 0.9592 - val_auc: 0.9932 - val_true_positives: 1151.0000 - val_true_negatives: 5955.0000 - val_false_positives: 45.0000 - val_false_negatives: 49.0000\n",
      "Epoch 27/50\n",
      "300/300 [==============================] - 356s 1s/step - loss: 0.1153 - acc: 0.9608 - precision: 0.9639 - recall: 0.9573 - auc: 0.9976 - true_positives: 4595.0000 - true_negatives: 23828.0000 - false_positives: 172.0000 - false_negatives: 205.0000 - val_loss: 0.2097 - val_acc: 0.9600 - val_precision: 0.9615 - val_recall: 0.9583 - val_auc: 0.9932 - val_true_positives: 1150.0000 - val_true_negatives: 5954.0000 - val_false_positives: 46.0000 - val_false_negatives: 50.0000\n",
      "Epoch 28/50\n",
      "300/300 [==============================] - 357s 1s/step - loss: 0.1203 - acc: 0.9615 - precision: 0.9638 - recall: 0.9590 - auc: 0.9969 - true_positives: 4603.0000 - true_negatives: 23827.0000 - false_positives: 173.0000 - false_negatives: 197.0000 - val_loss: 0.2148 - val_acc: 0.9600 - val_precision: 0.9640 - val_recall: 0.9583 - val_auc: 0.9936 - val_true_positives: 1150.0000 - val_true_negatives: 5957.0000 - val_false_positives: 43.0000 - val_false_negatives: 50.0000\n",
      "Epoch 29/50\n",
      "300/300 [==============================] - 359s 1s/step - loss: 0.1218 - acc: 0.9642 - precision: 0.9669 - recall: 0.9619 - auc: 0.9966 - true_positives: 4617.0000 - true_negatives: 23842.0000 - false_positives: 158.0000 - false_negatives: 183.0000 - val_loss: 0.2092 - val_acc: 0.9625 - val_precision: 0.9649 - val_recall: 0.9608 - val_auc: 0.9942 - val_true_positives: 1153.0000 - val_true_negatives: 5958.0000 - val_false_positives: 42.0000 - val_false_negatives: 47.0000\n",
      "Epoch 30/50\n",
      "300/300 [==============================] - 343s 1s/step - loss: 0.1195 - acc: 0.9621 - precision: 0.9646 - recall: 0.9596 - auc: 0.9970 - true_positives: 4606.0000 - true_negatives: 23831.0000 - false_positives: 169.0000 - false_negatives: 194.0000 - val_loss: 0.2182 - val_acc: 0.9667 - val_precision: 0.9674 - val_recall: 0.9650 - val_auc: 0.9938 - val_true_positives: 1158.0000 - val_true_negatives: 5961.0000 - val_false_positives: 39.0000 - val_false_negatives: 42.0000\n",
      "Epoch 31/50\n",
      "300/300 [==============================] - 352s 1s/step - loss: 0.1084 - acc: 0.9669 - precision: 0.9690 - recall: 0.9650 - auc: 0.9968 - true_positives: 4632.0000 - true_negatives: 23852.0000 - false_positives: 148.0000 - false_negatives: 168.0000 - val_loss: 0.2356 - val_acc: 0.9642 - val_precision: 0.9657 - val_recall: 0.9617 - val_auc: 0.9923 - val_true_positives: 1154.0000 - val_true_negatives: 5959.0000 - val_false_positives: 41.0000 - val_false_negatives: 46.0000\n",
      "Epoch 32/50\n",
      "300/300 [==============================] - 352s 1s/step - loss: 0.0933 - acc: 0.9696 - precision: 0.9710 - recall: 0.9679 - auc: 0.9980 - true_positives: 4646.0000 - true_negatives: 23861.0000 - false_positives: 139.0000 - false_negatives: 154.0000 - val_loss: 0.2408 - val_acc: 0.9692 - val_precision: 0.9699 - val_recall: 0.9683 - val_auc: 0.9920 - val_true_positives: 1162.0000 - val_true_negatives: 5964.0000 - val_false_positives: 36.0000 - val_false_negatives: 38.0000\n",
      "Epoch 33/50\n",
      "300/300 [==============================] - 353s 1s/step - loss: 0.1205 - acc: 0.9673 - precision: 0.9696 - recall: 0.9648 - auc: 0.9962 - true_positives: 4631.0000 - true_negatives: 23855.0000 - false_positives: 145.0000 - false_negatives: 169.0000 - val_loss: 0.2364 - val_acc: 0.9667 - val_precision: 0.9683 - val_recall: 0.9667 - val_auc: 0.9925 - val_true_positives: 1160.0000 - val_true_negatives: 5962.0000 - val_false_positives: 38.0000 - val_false_negatives: 40.0000\n",
      "Epoch 34/50\n",
      "300/300 [==============================] - 352s 1s/step - loss: 0.0952 - acc: 0.9715 - precision: 0.9733 - recall: 0.9706 - auc: 0.9977 - true_positives: 4659.0000 - true_negatives: 23872.0000 - false_positives: 128.0000 - false_negatives: 141.0000 - val_loss: 0.2375 - val_acc: 0.9675 - val_precision: 0.9683 - val_recall: 0.9667 - val_auc: 0.9934 - val_true_positives: 1160.0000 - val_true_negatives: 5962.0000 - val_false_positives: 38.0000 - val_false_negatives: 40.0000\n"
     ]
    },
    {
     "name": "stdout",
     "output_type": "stream",
     "text": [
      "Epoch 35/50\n",
      "300/300 [==============================] - 354s 1s/step - loss: 0.1132 - acc: 0.9698 - precision: 0.9716 - recall: 0.9677 - auc: 0.9971 - true_positives: 4645.0000 - true_negatives: 23864.0000 - false_positives: 136.0000 - false_negatives: 155.0000 - val_loss: 0.2656 - val_acc: 0.9683 - val_precision: 0.9708 - val_recall: 0.9683 - val_auc: 0.9915 - val_true_positives: 1162.0000 - val_true_negatives: 5965.0000 - val_false_positives: 35.0000 - val_false_negatives: 38.0000\n",
      "Epoch 36/50\n",
      "300/300 [==============================] - 355s 1s/step - loss: 0.0928 - acc: 0.9698 - precision: 0.9712 - recall: 0.9683 - auc: 0.9982 - true_positives: 4648.0000 - true_negatives: 23862.0000 - false_positives: 138.0000 - false_negatives: 152.0000 - val_loss: 0.2372 - val_acc: 0.9658 - val_precision: 0.9666 - val_recall: 0.9650 - val_auc: 0.9929 - val_true_positives: 1158.0000 - val_true_negatives: 5960.0000 - val_false_positives: 40.0000 - val_false_negatives: 42.0000\n",
      "Epoch 37/50\n",
      "300/300 [==============================] - 361s 1s/step - loss: 0.0869 - acc: 0.9740 - precision: 0.9753 - recall: 0.9719 - auc: 0.9976 - true_positives: 4665.0000 - true_negatives: 23882.0000 - false_positives: 118.0000 - false_negatives: 135.0000 - val_loss: 0.2834 - val_acc: 0.9642 - val_precision: 0.9657 - val_recall: 0.9633 - val_auc: 0.9911 - val_true_positives: 1156.0000 - val_true_negatives: 5959.0000 - val_false_positives: 41.0000 - val_false_negatives: 44.0000\n",
      "Epoch 38/50\n",
      "300/300 [==============================] - 357s 1s/step - loss: 0.0765 - acc: 0.9756 - precision: 0.9764 - recall: 0.9742 - auc: 0.9985 - true_positives: 4676.0000 - true_negatives: 23887.0000 - false_positives: 113.0000 - false_negatives: 124.0000 - val_loss: 0.2686 - val_acc: 0.9650 - val_precision: 0.9658 - val_recall: 0.9650 - val_auc: 0.9900 - val_true_positives: 1158.0000 - val_true_negatives: 5959.0000 - val_false_positives: 41.0000 - val_false_negatives: 42.0000\n",
      "Epoch 39/50\n",
      "300/300 [==============================] - 357s 1s/step - loss: 0.0960 - acc: 0.9744 - precision: 0.9772 - recall: 0.9742 - auc: 0.9972 - true_positives: 4676.0000 - true_negatives: 23891.0000 - false_positives: 109.0000 - false_negatives: 124.0000 - val_loss: 0.2927 - val_acc: 0.9625 - val_precision: 0.9649 - val_recall: 0.9625 - val_auc: 0.9916 - val_true_positives: 1155.0000 - val_true_negatives: 5958.0000 - val_false_positives: 42.0000 - val_false_negatives: 45.0000\n",
      "Epoch 40/50\n",
      "300/300 [==============================] - 357s 1s/step - loss: 0.0956 - acc: 0.9754 - precision: 0.9766 - recall: 0.9742 - auc: 0.9975 - true_positives: 4676.0000 - true_negatives: 23888.0000 - false_positives: 112.0000 - false_negatives: 124.0000 - val_loss: 0.2577 - val_acc: 0.9675 - val_precision: 0.9699 - val_recall: 0.9667 - val_auc: 0.9930 - val_true_positives: 1160.0000 - val_true_negatives: 5964.0000 - val_false_positives: 36.0000 - val_false_negatives: 40.0000\n",
      "Epoch 41/50\n",
      "300/300 [==============================] - 356s 1s/step - loss: 0.0782 - acc: 0.9756 - precision: 0.9772 - recall: 0.9748 - auc: 0.9981 - true_positives: 4679.0000 - true_negatives: 23891.0000 - false_positives: 109.0000 - false_negatives: 121.0000 - val_loss: 0.2805 - val_acc: 0.9658 - val_precision: 0.9666 - val_recall: 0.9658 - val_auc: 0.9908 - val_true_positives: 1159.0000 - val_true_negatives: 5960.0000 - val_false_positives: 40.0000 - val_false_negatives: 41.0000\n",
      "Epoch 42/50\n",
      "300/300 [==============================] - 355s 1s/step - loss: 0.0792 - acc: 0.9758 - precision: 0.9770 - recall: 0.9748 - auc: 0.9976 - true_positives: 4679.0000 - true_negatives: 23890.0000 - false_positives: 110.0000 - false_negatives: 121.0000 - val_loss: 0.2650 - val_acc: 0.9617 - val_precision: 0.9633 - val_recall: 0.9617 - val_auc: 0.9923 - val_true_positives: 1154.0000 - val_true_negatives: 5956.0000 - val_false_positives: 44.0000 - val_false_negatives: 46.0000\n",
      "Epoch 43/50\n",
      "300/300 [==============================] - 355s 1s/step - loss: 0.0827 - acc: 0.9767 - precision: 0.9777 - recall: 0.9758 - auc: 0.9980 - true_positives: 4684.0000 - true_negatives: 23893.0000 - false_positives: 107.0000 - false_negatives: 116.0000 - val_loss: 0.2548 - val_acc: 0.9633 - val_precision: 0.9633 - val_recall: 0.9633 - val_auc: 0.9920 - val_true_positives: 1156.0000 - val_true_negatives: 5956.0000 - val_false_positives: 44.0000 - val_false_negatives: 44.0000\n",
      "Epoch 44/50\n",
      "300/300 [==============================] - 353s 1s/step - loss: 0.0898 - acc: 0.9750 - precision: 0.9756 - recall: 0.9729 - auc: 0.9972 - true_positives: 4670.0000 - true_negatives: 23883.0000 - false_positives: 117.0000 - false_negatives: 130.0000 - val_loss: 0.2961 - val_acc: 0.9592 - val_precision: 0.9592 - val_recall: 0.9592 - val_auc: 0.9886 - val_true_positives: 1151.0000 - val_true_negatives: 5951.0000 - val_false_positives: 49.0000 - val_false_negatives: 49.0000\n",
      "Epoch 45/50\n",
      "300/300 [==============================] - 353s 1s/step - loss: 0.0789 - acc: 0.9765 - precision: 0.9779 - recall: 0.9758 - auc: 0.9983 - true_positives: 4684.0000 - true_negatives: 23894.0000 - false_positives: 106.0000 - false_negatives: 116.0000 - val_loss: 0.3097 - val_acc: 0.9575 - val_precision: 0.9575 - val_recall: 0.9575 - val_auc: 0.9900 - val_true_positives: 1149.0000 - val_true_negatives: 5949.0000 - val_false_positives: 51.0000 - val_false_negatives: 51.0000\n",
      "Epoch 46/50\n",
      "300/300 [==============================] - 353s 1s/step - loss: 0.0727 - acc: 0.9790 - precision: 0.9796 - recall: 0.9783 - auc: 0.9983 - true_positives: 4696.0000 - true_negatives: 23902.0000 - false_positives: 98.0000 - false_negatives: 104.0000 - val_loss: 0.3087 - val_acc: 0.9583 - val_precision: 0.9591 - val_recall: 0.9575 - val_auc: 0.9887 - val_true_positives: 1149.0000 - val_true_negatives: 5951.0000 - val_false_positives: 49.0000 - val_false_negatives: 51.0000\n",
      "Epoch 47/50\n",
      "300/300 [==============================] - 353s 1s/step - loss: 0.0647 - acc: 0.9779 - precision: 0.9791 - recall: 0.9775 - auc: 0.9985 - true_positives: 4692.0000 - true_negatives: 23900.0000 - false_positives: 100.0000 - false_negatives: 108.0000 - val_loss: 0.2798 - val_acc: 0.9633 - val_precision: 0.9633 - val_recall: 0.9633 - val_auc: 0.9916 - val_true_positives: 1156.0000 - val_true_negatives: 5956.0000 - val_false_positives: 44.0000 - val_false_negatives: 44.0000\n",
      "Epoch 48/50\n",
      "300/300 [==============================] - 360s 1s/step - loss: 0.0694 - acc: 0.9821 - precision: 0.9827 - recall: 0.9808 - auc: 0.9981 - true_positives: 4708.0000 - true_negatives: 23917.0000 - false_positives: 83.0000 - false_negatives: 92.0000 - val_loss: 0.2876 - val_acc: 0.9608 - val_precision: 0.9616 - val_recall: 0.9600 - val_auc: 0.9906 - val_true_positives: 1152.0000 - val_true_negatives: 5954.0000 - val_false_positives: 46.0000 - val_false_negatives: 48.0000\n",
      "Epoch 49/50\n",
      "300/300 [==============================] - 354s 1s/step - loss: 0.0591 - acc: 0.9827 - precision: 0.9837 - recall: 0.9827 - auc: 0.9984 - true_positives: 4717.0000 - true_negatives: 23922.0000 - false_positives: 78.0000 - false_negatives: 83.0000 - val_loss: 0.2587 - val_acc: 0.9608 - val_precision: 0.9616 - val_recall: 0.9608 - val_auc: 0.9911 - val_true_positives: 1153.0000 - val_true_negatives: 5954.0000 - val_false_positives: 46.0000 - val_false_negatives: 47.0000\n",
      "Epoch 50/50\n",
      "300/300 [==============================] - 345s 1s/step - loss: 0.0641 - acc: 0.9825 - precision: 0.9829 - recall: 0.9821 - auc: 0.9985 - true_positives: 4714.0000 - true_negatives: 23918.0000 - false_positives: 82.0000 - false_negatives: 86.0000 - val_loss: 0.2590 - val_acc: 0.9650 - val_precision: 0.9650 - val_recall: 0.9650 - val_auc: 0.9908 - val_true_positives: 1158.0000 - val_true_negatives: 5958.0000 - val_false_positives: 42.0000 - val_false_negatives: 42.0000\n",
      "Total training time: 17773.607694149017 seconds\n"
     ]
    }
   ],
   "source": [
    "import time\n",
    "start_time = time.time()\n",
    "history = model.fit(\n",
    "    aug.flow(x_train, y_train, batch_size=BS),\n",
    "    validation_data=(x_test, y_test),\n",
    "    steps_per_epoch=len(x_train) // BS,\n",
    "    epochs=EPOCHS,\n",
    "    verbose=1\n",
    ")\n",
    "end_time = time.time()\n",
    "training_time = end_time - start_time\n",
    "print(\"Total training time:\", training_time, \"seconds\")"
   ]
  },
  {
   "cell_type": "code",
   "execution_count": 14,
   "id": "0a67a559",
   "metadata": {},
   "outputs": [
    {
     "name": "stdout",
     "output_type": "stream",
     "text": [
      "Precision: 0.9829\n",
      "Recall: 0.9821\n",
      "F1 Score: 0.9825\n"
     ]
    }
   ],
   "source": [
    "precision = history.history['precision'][-1]\n",
    "recall = history.history['recall'][-1]\n",
    "f1 = 2 * (precision * recall) / (precision + recall)\n",
    "\n",
    "print(f'Precision: {precision:.4f}')\n",
    "print(f'Recall: {recall:.4f}')\n",
    "print(f'F1 Score: {f1:.4f}')"
   ]
  },
  {
   "cell_type": "code",
   "execution_count": 15,
   "id": "322441dc",
   "metadata": {},
   "outputs": [
    {
     "name": "stdout",
     "output_type": "stream",
     "text": [
      "Training Accuracy: 0.9825\n",
      "Validation Accuracy: 0.9650\n"
     ]
    }
   ],
   "source": [
    "acc = history.history['acc']\n",
    "val_acc = history.history['val_acc']\n",
    "\n",
    "# Print the final accuracy values\n",
    "print(f'Training Accuracy: {acc[-1]:.4f}')\n",
    "print(f'Validation Accuracy: {val_acc[-1]:.4f}')\n",
    "\n",
    "\n"
   ]
  },
  {
   "cell_type": "code",
   "execution_count": 16,
   "id": "136d0a55",
   "metadata": {},
   "outputs": [
    {
     "name": "stdout",
     "output_type": "stream",
     "text": [
      "Precision: 0.9829\n",
      "Recall: 0.9821\n",
      "AUC: 0.9985\n",
      "True Positives: 4714.0000\n",
      "True Negatives: 23918.0000\n",
      "False Positives: 82.0000\n",
      "False Negatives: 86.0000\n"
     ]
    }
   ],
   "source": [
    "# Print additional metrics for training\n",
    "print(f\"Precision: {history.history['precision'][-1]:.4f}\")\n",
    "\n",
    "print(f\"Recall: {history.history['recall'][-1]:.4f}\")\n",
    "print(f\"AUC: {history.history['auc'][-1]:.4f}\")\n",
    "print(f\"True Positives: {history.history['true_positives'][-1]:.4f}\")\n",
    "print(f\"True Negatives: {history.history['true_negatives'][-1]:.4f}\")\n",
    "print(f\"False Positives: {history.history['false_positives'][-1]:.4f}\")\n",
    "print(f\"False Negatives: {history.history['false_negatives'][-1]:.4f}\")"
   ]
  },
  {
   "cell_type": "code",
   "execution_count": null,
   "id": "e9619d1f",
   "metadata": {},
   "outputs": [],
   "source": []
  },
  {
   "cell_type": "code",
   "execution_count": 17,
   "id": "b3f966f7",
   "metadata": {},
   "outputs": [
    {
     "name": "stdout",
     "output_type": "stream",
     "text": [
      "38/38 [==============================] - 14s 373ms/step - loss: 0.2590 - acc: 0.9650 - precision: 0.9650 - recall: 0.9650 - auc: 0.9908 - true_positives: 1158.0000 - true_negatives: 5958.0000 - false_positives: 42.0000 - false_negatives: 42.0000\n",
      "Testing Accuracy: 0.9650\n"
     ]
    }
   ],
   "source": [
    "# ... (previous code)\n",
    "\n",
    "# Evaluate the model on the test set\n",
    "test_metrics = model.evaluate(x_test, y_test)\n",
    "\n",
    "# Extract individual metric values\n",
    "test_loss, test_accuracy, precision, recall, auc, true_positives, true_negatives, false_positives, false_negatives = test_metrics\n",
    "\n",
    "# Print the testing accuracy\n",
    "print(f\"Testing Accuracy: {test_accuracy:.4f}\")\n"
   ]
  },
  {
   "cell_type": "code",
   "execution_count": 18,
   "id": "c9f69ff8",
   "metadata": {},
   "outputs": [
    {
     "name": "stdout",
     "output_type": "stream",
     "text": [
      "dict_keys(['loss', 'acc', 'precision', 'recall', 'auc', 'true_positives', 'true_negatives', 'false_positives', 'false_negatives', 'val_loss', 'val_acc', 'val_precision', 'val_recall', 'val_auc', 'val_true_positives', 'val_true_negatives', 'val_false_positives', 'val_false_negatives'])\n"
     ]
    },
    {
     "data": {
      "image/png": "[encoded data removed]",
      "text/plain": [
       "<Figure size 432x288 with 1 Axes>"
      ]
     },
     "metadata": {
      "needs_background": "light"
     },
     "output_type": "display_data"
    },
    {
     "data": {
      "image/png": "[encoded data removed]",
      "text/plain": [
       "<Figure size 432x288 with 1 Axes>"
      ]
     },
     "metadata": {
      "needs_background": "light"
     },
     "output_type": "display_data"
    }
   ],
   "source": [
    "print(history.history.keys())\n",
    "plt.plot(history.history['acc'])\n",
    "plt.plot(history.history['val_acc'])\n",
    "plt.title('model accuracy')\n",
    "plt.ylabel('accuracy')\n",
    "plt.xlabel('epoch')\n",
    "plt.legend(['train', 'test'], loc='upper left')\n",
    "plt.show()\n",
    "plt.plot(history.history['loss'])\n",
    "plt.plot(history.history['val_loss'])\n",
    "plt.title('model loss')\n",
    "plt.ylabel('loss')\n",
    "plt.xlabel('epoch')\n",
    "plt.legend(['train', 'test'], loc='upper left')\n",
    "plt.show()"
   ]
  },
  {
   "cell_type": "code",
   "execution_count": null,
   "id": "c52765c6",
   "metadata": {},
   "outputs": [],
   "source": []
  },
  {
   "cell_type": "code",
   "execution_count": 19,
   "id": "4043a56d",
   "metadata": {},
   "outputs": [
    {
     "name": "stdout",
     "output_type": "stream",
     "text": [
      "38/38 [==============================] - 16s 370ms/step\n"
     ]
    },
    {
     "data": {
      "image/png": "[encoded data removed]",
      "text/plain": [
       "<Figure size 576x432 with 2 Axes>"
      ]
     },
     "metadata": {
      "needs_background": "light"
     },
     "output_type": "display_data"
    }
   ],
   "source": [
    "from sklearn.metrics import confusion_matrix\n",
    "import seaborn as sns\n",
    "\n",
    "# Predicting the classes for the test set\n",
    "y_pred = model.predict(x_test)\n",
    "y_pred_classes = np.argmax(y_pred, axis=1)\n",
    "y_true_classes = np.argmax(y_test, axis=1)\n",
    "\n",
    "# Generate confusion matrix\n",
    "conf_matrix = confusion_matrix(y_true_classes, y_pred_classes)\n",
    "\n",
    "# Plot confusion matrix\n",
    "plt.figure(figsize=(8, 6))\n",
    "sns.heatmap(conf_matrix, annot=True, fmt='d', cmap='Blues', xticklabels=label_binarizer.classes_, yticklabels=label_binarizer.classes_)\n",
    "plt.xlabel('Predicted labels')\n",
    "plt.ylabel('True labels')\n",
    "plt.title('Confusion Matrix')\n",
    "plt.show()\n"
   ]
  },
  {
   "cell_type": "code",
   "execution_count": null,
   "id": "92def1cd",
   "metadata": {},
   "outputs": [],
   "source": []
  },
  {
   "cell_type": "code",
   "execution_count": 20,
   "id": "080f7bc9",
   "metadata": {},
   "outputs": [
    {
     "name": "stderr",
     "output_type": "stream",
     "text": [
      "/Library/Frameworks/Python.framework/Versions/3.9/lib/python3.9/site-packages/keras/src/engine/training.py:3103: UserWarning: You are saving your model as an HDF5 file via `model.save()`. This file format is considered legacy. We recommend using instead the native Keras format, e.g. `model.save('my_model.keras')`.\n",
      "  saving_api.save_model(\n"
     ]
    }
   ],
   "source": [
    "model.save(f'./model/densenet_combined.h5')"
   ]
  },
  {
   "cell_type": "code",
   "execution_count": 21,
   "id": "efdfd59d",
   "metadata": {},
   "outputs": [
    {
     "data": {
      "text/plain": [
       "[['.DS_Store',\n",
       "  'customCNN_combined.h5',\n",
       "  '9',\n",
       "  '7',\n",
       "  '111',\n",
       "  '6',\n",
       "  '1',\n",
       "  'densenet_combined.h5',\n",
       "  'AlexNet_nb.h5',\n",
       "  'vgg_combined.h5',\n",
       "  'alexnet_combined.h5',\n",
       "  'resnet50_combined.h5',\n",
       "  'resnet50.h5',\n",
       "  'vgg16_nb.h5',\n",
       "  'mobilenet_combined.h5',\n",
       "  'customcnn_nb.h5',\n",
       "  '112',\n",
       "  'MobieNet_nb.h5',\n",
       "  '4',\n",
       "  '3',\n",
       "  '12',\n",
       "  '2',\n",
       "  '5']]"
      ]
     },
     "execution_count": 21,
     "metadata": {},
     "output_type": "execute_result"
    }
   ],
   "source": [
    "import os\n",
    "[  os.listdir(\"./model\")]"
   ]
  },
  {
   "cell_type": "code",
   "execution_count": null,
   "id": "daa6fc77",
   "metadata": {},
   "outputs": [],
   "source": []
  },
  {
   "cell_type": "code",
   "execution_count": 2,
   "id": "74d313e5",
   "metadata": {},
   "outputs": [
    {
     "name": "stderr",
     "output_type": "stream",
     "text": [
      "2024-05-26 23:17:45.554868: I tensorflow/core/platform/cpu_feature_guard.cc:182] This TensorFlow binary is optimized to use available CPU instructions in performance-critical operations.\n",
      "To enable the following instructions: AVX2 FMA, in other operations, rebuild TensorFlow with the appropriate compiler flags.\n"
     ]
    }
   ],
   "source": [
    "import numpy as np\n",
    "from keras.models import load_model\n",
    "from keras.preprocessing import image\n",
    "model=load_model(f'./model/densenet_combined.h5')"
   ]
  },
  {
   "cell_type": "code",
   "execution_count": null,
   "id": "8be2e3b0",
   "metadata": {},
   "outputs": [],
   "source": []
  },
  {
   "cell_type": "code",
   "execution_count": 1,
   "id": "f79d8fb2",
   "metadata": {},
   "outputs": [
    {
     "name": "stderr",
     "output_type": "stream",
     "text": [
      "/Library/Frameworks/Python.framework/Versions/3.9/lib/python3.9/site-packages/scipy/__init__.py:155: UserWarning: A NumPy version >=1.18.5 and <1.25.0 is required for this version of SciPy (detected version 1.26.3\n",
      "  warnings.warn(f\"A NumPy version >={np_minversion} and <{np_maxversion}\"\n"
     ]
    },
    {
     "ename": "NameError",
     "evalue": "name 'model' is not defined",
     "output_type": "error",
     "traceback": [
      "\u001b[0;31m---------------------------------------------------------------------------\u001b[0m",
      "\u001b[0;31mNameError\u001b[0m                                 Traceback (most recent call last)",
      "\u001b[0;32m/var/folders/6j/l3dggmk13cb32hxjnt765zzw0000gn/T/ipykernel_10919/2095236927.py\u001b[0m in \u001b[0;36m<module>\u001b[0;34m\u001b[0m\n\u001b[1;32m      3\u001b[0m \u001b[0;34m\u001b[0m\u001b[0m\n\u001b[1;32m      4\u001b[0m \u001b[0;31m# Predicting the classes for the test set\u001b[0m\u001b[0;34m\u001b[0m\u001b[0;34m\u001b[0m\u001b[0;34m\u001b[0m\u001b[0m\n\u001b[0;32m----> 5\u001b[0;31m \u001b[0my_pred\u001b[0m \u001b[0;34m=\u001b[0m \u001b[0mmodel\u001b[0m\u001b[0;34m.\u001b[0m\u001b[0mpredict\u001b[0m\u001b[0;34m(\u001b[0m\u001b[0mx_test\u001b[0m\u001b[0;34m)\u001b[0m\u001b[0;34m\u001b[0m\u001b[0;34m\u001b[0m\u001b[0m\n\u001b[0m\u001b[1;32m      6\u001b[0m \u001b[0my_pred_classes\u001b[0m \u001b[0;34m=\u001b[0m \u001b[0mnp\u001b[0m\u001b[0;34m.\u001b[0m\u001b[0margmax\u001b[0m\u001b[0;34m(\u001b[0m\u001b[0my_pred\u001b[0m\u001b[0;34m,\u001b[0m \u001b[0maxis\u001b[0m\u001b[0;34m=\u001b[0m\u001b[0;36m1\u001b[0m\u001b[0;34m)\u001b[0m\u001b[0;34m\u001b[0m\u001b[0;34m\u001b[0m\u001b[0m\n\u001b[1;32m      7\u001b[0m \u001b[0my_true_classes\u001b[0m \u001b[0;34m=\u001b[0m \u001b[0mnp\u001b[0m\u001b[0;34m.\u001b[0m\u001b[0margmax\u001b[0m\u001b[0;34m(\u001b[0m\u001b[0my_test\u001b[0m\u001b[0;34m,\u001b[0m \u001b[0maxis\u001b[0m\u001b[0;34m=\u001b[0m\u001b[0;36m1\u001b[0m\u001b[0;34m)\u001b[0m\u001b[0;34m\u001b[0m\u001b[0;34m\u001b[0m\u001b[0m\n",
      "\u001b[0;31mNameError\u001b[0m: name 'model' is not defined"
     ]
    }
   ],
   "source": [
    "from sklearn.metrics import classification_report\n",
    "import random\n",
    "\n",
    "# Predicting the classes for the test set\n",
    "y_pred = model.predict(x_test)\n",
    "y_pred_classes = np.argmax(y_pred, axis=1)\n",
    "y_true_classes = np.argmax(y_test, axis=1)\n",
    "\n",
    "# Get the class labels\n",
    "class_labels = label_binarizer.classes_\n",
    "\n",
    "# Generate a classification report\n",
    "report = classification_report(y_true_classes, y_pred_classes, target_names=class_labels)\n",
    "print(report)\n",
    "\n",
    "# Select 1 random index from the test set\n",
    "random_index = random.choice(range(len(y_test)))\n",
    "\n",
    "# Print the actual and predicted labels for the selected test sample\n",
    "print(\"Actual vs Predicted Labels for 1 Random Test Image\")\n",
    "print(f\"Image {random_index+1}:\")\n",
    "print(f\"  Actual: {class_labels[y_true_classes[random_index]]}\")\n",
    "print(f\"  Predicted: {class_labels[y_pred_classes[random_index]]}\")\n",
    "\n",
    "# Optionally, display the image\n",
    "plt.imshow(x_test[random_index])\n",
    "plt.title(f\"Actual: {class_labels[y_true_classes[random_index]]}, Predicted: {class_labels[y_pred_classes[random_index]]}\")\n",
    "plt.axis('off')\n",
    "plt.show()\n"
   ]
  },
  {
   "cell_type": "code",
   "execution_count": null,
   "id": "17c5f87b",
   "metadata": {},
   "outputs": [],
   "source": []
  }
 ],
 "metadata": {
  "kernelspec": {
   "display_name": "Python 3 (ipykernel)",
   "language": "python",
   "name": "python3"
  },
  "language_info": {
   "codemirror_mode": {
    "name": "ipython",
    "version": 3
   },
   "file_extension": ".py",
   "mimetype": "text/x-python",
   "name": "python",
   "nbconvert_exporter": "python",
   "pygments_lexer": "ipython3",
   "version": "3.9.5"
  }
 },
 "nbformat": 4,
 "nbformat_minor": 5
}
