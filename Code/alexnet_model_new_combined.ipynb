{
 "cells": [
  {
   "cell_type": "code",
   "execution_count": 1,
   "id": "80cd3e22",
   "metadata": {},
   "outputs": [
    {
     "name": "stderr",
     "output_type": "stream",
     "text": [
      "2024-05-08 09:19:01.702937: I tensorflow/core/platform/cpu_feature_guard.cc:182] This TensorFlow binary is optimized to use available CPU instructions in performance-critical operations.\n",
      "To enable the following instructions: AVX2 FMA, in other operations, rebuild TensorFlow with the appropriate compiler flags.\n",
      "/Library/Frameworks/Python.framework/Versions/3.9/lib/python3.9/site-packages/scipy/__init__.py:155: UserWarning: A NumPy version >=1.18.5 and <1.25.0 is required for this version of SciPy (detected version 1.26.3\n",
      "  warnings.warn(f\"A NumPy version >={np_minversion} and <{np_maxversion}\"\n"
     ]
    }
   ],
   "source": [
    "import numpy as np\n",
    "import pickle\n",
    "import cv2\n",
    "import tensorflow as tf\n",
    "from os import listdir\n",
    "from sklearn.preprocessing import LabelBinarizer\n",
    "from keras.models import Sequential\n",
    "from tensorflow.keras.layers import BatchNormalization, Conv2D, MaxPooling2D, Activation, Flatten, Dropout, Dense\n",
    "from keras import backend as K\n",
    "from keras.preprocessing.image import ImageDataGenerator\n",
    "from keras.optimizers import Adam\n",
    "from keras.preprocessing import image\n",
    "from keras.preprocessing.image import img_to_array\n",
    "from sklearn.preprocessing import MultiLabelBinarizer\n",
    "from sklearn.model_selection import train_test_split\n",
    "import matplotlib.pyplot as plt\n",
    "\n",
    "import os\n",
    "os.environ['TF_CPP_MIN_LOG_LEVEL'] = '2'"
   ]
  },
  {
   "cell_type": "code",
   "execution_count": 2,
   "id": "ad800731",
   "metadata": {},
   "outputs": [],
   "source": [
    "EPOCHS = 50\n",
    "INIT_LR = 1e-3\n",
    "BS = 16\n",
    "default_image_size = tuple((64, 64))\n",
    "image_size = 0\n",
    "width=64\n",
    "height=64\n",
    "depth=3\n",
    "image_size = 0\n",
    "directory_root = 'Combined Data'"
   ]
  },
  {
   "cell_type": "code",
   "execution_count": 3,
   "id": "eaf23bc1",
   "metadata": {},
   "outputs": [],
   "source": [
    "def convert_image_to_array(image_dir):\n",
    "    try:\n",
    "        image = cv2.imread(image_dir)\n",
    "        if image is not None :\n",
    "            image = cv2.resize(image, default_image_size)   \n",
    "            return img_to_array(image)\n",
    "        else :\n",
    "            return np.array([])\n",
    "    except Exception as e:\n",
    "        print(\"Error :\", e)\n",
    "        return None"
   ]
  },
  {
   "cell_type": "code",
   "execution_count": 4,
   "id": "3e2d1e65",
   "metadata": {},
   "outputs": [
    {
     "name": "stdout",
     "output_type": "stream",
     "text": [
      "[INFO] Loading images ...\n",
      "[INFO] Processing Maize_Common_Rust ...\n",
      "[INFO] Processing MLN ...\n",
      "[INFO] Processing HEATHLY ...\n",
      "[INFO] Processing MSV ...\n",
      "[INFO] Processing Maize_Blight ...\n",
      "[INFO] Processing Maize_Gray_Leaf_Spot ...\n",
      "[INFO] Image loading completed\n"
     ]
    }
   ],
   "source": [
    "image_list, label_list = [], []\n",
    "try:\n",
    "    print(\"[INFO] Loading images ...\")\n",
    "    root_dir = listdir(directory_root)\n",
    "    for directory in root_dir :\n",
    "        # remove .DS_Store from list\n",
    "        if directory == \".DS_Store\" :\n",
    "            root_dir.remove(directory)\n",
    "\n",
    "    for plant_folder in root_dir :\n",
    "       \n",
    "        plant_disease_folder_list = listdir(f\"{directory_root}/{plant_folder}\")\n",
    "        \n",
    "        for disease_folder in plant_disease_folder_list :\n",
    "            # remove .DS_Store from list\n",
    "            if disease_folder == \".DS_Store\" :\n",
    "                plant_disease_folder_list.remove(disease_folder)\n",
    "\n",
    "        for plant_disease_folder in plant_disease_folder_list:\n",
    "            print(f\"[INFO] Processing {plant_disease_folder} ...\")\n",
    "            plant_disease_image_list = listdir(f\"{directory_root}/{plant_folder}/{plant_disease_folder}/\")\n",
    "                \n",
    "            for single_plant_disease_image in plant_disease_image_list :\n",
    "                if single_plant_disease_image == \".DS_Store\" :\n",
    "                    plant_disease_image_list.remove(single_plant_disease_image)\n",
    "\n",
    "            for image in plant_disease_image_list:\n",
    "                image_directory = f\"{directory_root}/{plant_folder}/{plant_disease_folder}/{image}\"\n",
    "                if image_directory.endswith(\".jpg\") == True or image_directory.endswith(\".JPG\") == True:\n",
    "                    image_list.append(convert_image_to_array(image_directory))\n",
    "                    label_list.append(plant_disease_folder)\n",
    "    print(\"[INFO] Image loading completed\")  \n",
    "except Exception as e:\n",
    "    print(f\"Error : {e}\")"
   ]
  },
  {
   "cell_type": "code",
   "execution_count": 5,
   "id": "80611b93",
   "metadata": {},
   "outputs": [
    {
     "name": "stdout",
     "output_type": "stream",
     "text": [
      "6000\n"
     ]
    }
   ],
   "source": [
    "image_size = len(image_list)\n",
    "print(image_size)"
   ]
  },
  {
   "cell_type": "code",
   "execution_count": 6,
   "id": "0976a68b",
   "metadata": {},
   "outputs": [
    {
     "name": "stdout",
     "output_type": "stream",
     "text": [
      "['HEATHLY' 'MLN' 'MSV' 'Maize_Blight' 'Maize_Common_Rust'\n",
      " 'Maize_Gray_Leaf_Spot']\n"
     ]
    }
   ],
   "source": [
    "label_binarizer = LabelBinarizer()\n",
    "image_labels = label_binarizer.fit_transform(label_list)\n",
    "pickle.dump(label_binarizer,open('label_transform.pkl', 'wb'))\n",
    "n_classes = len(label_binarizer.classes_)\n",
    "print(label_binarizer.classes_)"
   ]
  },
  {
   "cell_type": "code",
   "execution_count": 7,
   "id": "befc8e60",
   "metadata": {},
   "outputs": [],
   "source": [
    "np_image_list = np.array(image_list, dtype=np.float16) / 225.0"
   ]
  },
  {
   "cell_type": "code",
   "execution_count": 8,
   "id": "4719f0d6",
   "metadata": {},
   "outputs": [
    {
     "name": "stdout",
     "output_type": "stream",
     "text": [
      "[INFO] Spliting data to train, test\n"
     ]
    }
   ],
   "source": [
    "print(\"[INFO] Spliting data to train, test\")\n",
    "x_train, x_test, y_train, y_test = train_test_split(np_image_list, image_labels, test_size=0.20, random_state = 42)"
   ]
  },
  {
   "cell_type": "code",
   "execution_count": 9,
   "id": "61d0c9a4",
   "metadata": {},
   "outputs": [],
   "source": [
    "aug = ImageDataGenerator(\n",
    "    rotation_range=25, width_shift_range=0.1,\n",
    "    height_shift_range=0.1, shear_range=0.2, \n",
    "    zoom_range=0.2,horizontal_flip=True, \n",
    "    fill_mode=\"nearest\")"
   ]
  },
  {
   "cell_type": "code",
   "execution_count": null,
   "id": "dae7f32c",
   "metadata": {},
   "outputs": [],
   "source": []
  },
  {
   "cell_type": "code",
   "execution_count": 10,
   "id": "67d546f7",
   "metadata": {},
   "outputs": [],
   "source": [
    "import numpy as np\n",
    "import pickle\n",
    "import cv2\n",
    "from os import listdir\n",
    "from sklearn.preprocessing import LabelBinarizer\n",
    "from keras.models import Sequential\n",
    "from keras.layers import Conv2D, MaxPooling2D, Flatten, Dense, Dropout\n",
    "from sklearn.model_selection import train_test_split\n",
    "from keras.preprocessing.image import ImageDataGenerator\n",
    "from keras import optimizers\n",
    "from tensorflow.keras.metrics import Precision, Recall, AUC, TruePositives, TrueNegatives, FalsePositives, FalseNegatives\n",
    "from tensorflow.keras import layers\n",
    "\n",
    "# Your AlexNet model\n",
    "num_classes = 6  # Adjusted to 3 classes\n",
    "input_shape = (64, 64, 3)  # Adjusted input shape based on your dataset\n",
    "def AlexNet(input_shape=input_shape, num_classes=num_classes):\n",
    "    model = Sequential([\n",
    "        layers.Conv2D(96, (11, 11), strides=(4, 4), activation='relu', input_shape=input_shape),\n",
    "        layers.MaxPooling2D(pool_size=(3, 3), strides=(2, 2)),\n",
    "        layers.Conv2D(256, (5, 5), activation='relu', padding='same'),\n",
    "        layers.MaxPooling2D(pool_size=(3, 3), strides=(2, 2)),\n",
    "        layers.Conv2D(384, (3, 3), activation='relu', padding='same'),\n",
    "        layers.Conv2D(384, (3, 3), activation='relu', padding='same'),\n",
    "        layers.Conv2D(256, (3, 3), activation='relu', padding='same'),\n",
    "        layers.MaxPooling2D(pool_size=(2, 2), strides=(2, 2)),  # Adjusted pool size and strides\n",
    "        layers.Flatten(),\n",
    "        layers.Dense(4096, activation='relu'),\n",
    "        layers.Dropout(0.5),\n",
    "        layers.Dense(4096, activation='relu'),\n",
    "        layers.Dropout(0.5),\n",
    "        layers.Dense(num_classes, activation='softmax')\n",
    "    ])\n",
    "\n",
    "    return model"
   ]
  },
  {
   "cell_type": "code",
   "execution_count": 11,
   "id": "a65f074d",
   "metadata": {},
   "outputs": [],
   "source": [
    "alexnet_model = AlexNet(input_shape=input_shape, num_classes=num_classes)\n"
   ]
  },
  {
   "cell_type": "code",
   "execution_count": 12,
   "id": "413c0a84",
   "metadata": {},
   "outputs": [],
   "source": [
    "alexnet_model.compile(loss='categorical_crossentropy',\n",
    "                      optimizer=optimizers.RMSprop(learning_rate=2e-5),\n",
    "                      metrics=['acc', Precision(), Recall(), AUC(), TruePositives(), TrueNegatives(), FalsePositives(), FalseNegatives()])\n"
   ]
  },
  {
   "cell_type": "code",
   "execution_count": 13,
   "id": "fd795865",
   "metadata": {},
   "outputs": [
    {
     "name": "stdout",
     "output_type": "stream",
     "text": [
      "Model: \"sequential\"\n",
      "_________________________________________________________________\n",
      " Layer (type)                Output Shape              Param #   \n",
      "=================================================================\n",
      " conv2d (Conv2D)             (None, 14, 14, 96)        34944     \n",
      "                                                                 \n",
      " max_pooling2d (MaxPooling2  (None, 6, 6, 96)          0         \n",
      " D)                                                              \n",
      "                                                                 \n",
      " conv2d_1 (Conv2D)           (None, 6, 6, 256)         614656    \n",
      "                                                                 \n",
      " max_pooling2d_1 (MaxPoolin  (None, 2, 2, 256)         0         \n",
      " g2D)                                                            \n",
      "                                                                 \n",
      " conv2d_2 (Conv2D)           (None, 2, 2, 384)         885120    \n",
      "                                                                 \n",
      " conv2d_3 (Conv2D)           (None, 2, 2, 384)         1327488   \n",
      "                                                                 \n",
      " conv2d_4 (Conv2D)           (None, 2, 2, 256)         884992    \n",
      "                                                                 \n",
      " max_pooling2d_2 (MaxPoolin  (None, 1, 1, 256)         0         \n",
      " g2D)                                                            \n",
      "                                                                 \n",
      " flatten (Flatten)           (None, 256)               0         \n",
      "                                                                 \n",
      " dense (Dense)               (None, 4096)              1052672   \n",
      "                                                                 \n",
      " dropout (Dropout)           (None, 4096)              0         \n",
      "                                                                 \n",
      " dense_1 (Dense)             (None, 4096)              16781312  \n",
      "                                                                 \n",
      " dropout_1 (Dropout)         (None, 4096)              0         \n",
      "                                                                 \n",
      " dense_2 (Dense)             (None, 6)                 24582     \n",
      "                                                                 \n",
      "=================================================================\n",
      "Total params: 21605766 (82.42 MB)\n",
      "Trainable params: 21605766 (82.42 MB)\n",
      "Non-trainable params: 0 (0.00 Byte)\n",
      "_________________________________________________________________\n"
     ]
    }
   ],
   "source": [
    "alexnet_model.summary()"
   ]
  },
  {
   "cell_type": "code",
   "execution_count": 14,
   "id": "bd1e5536",
   "metadata": {},
   "outputs": [
    {
     "name": "stdout",
     "output_type": "stream",
     "text": [
      "Epoch 1/50\n",
      "300/300 [==============================] - 139s 454ms/step - loss: 1.7703 - acc: 0.2385 - precision: 0.0000e+00 - recall: 0.0000e+00 - auc: 0.6116 - true_positives: 0.0000e+00 - true_negatives: 24000.0000 - false_positives: 0.0000e+00 - false_negatives: 4800.0000 - val_loss: 1.6108 - val_acc: 0.3900 - val_precision: 0.0000e+00 - val_recall: 0.0000e+00 - val_auc: 0.7708 - val_true_positives: 0.0000e+00 - val_true_negatives: 6000.0000 - val_false_positives: 0.0000e+00 - val_false_negatives: 1200.0000\n",
      "Epoch 2/50\n",
      "300/300 [==============================] - 130s 432ms/step - loss: 1.4083 - acc: 0.3675 - precision: 0.6257 - recall: 0.0731 - auc: 0.7829 - true_positives: 351.0000 - true_negatives: 23790.0000 - false_positives: 210.0000 - false_negatives: 4449.0000 - val_loss: 1.2793 - val_acc: 0.4650 - val_precision: 0.7626 - val_recall: 0.1258 - val_auc: 0.8233 - val_true_positives: 151.0000 - val_true_negatives: 5953.0000 - val_false_positives: 47.0000 - val_false_negatives: 1049.0000\n",
      "Epoch 3/50\n",
      "300/300 [==============================] - 129s 429ms/step - loss: 1.3018 - acc: 0.4052 - precision: 0.6087 - recall: 0.0992 - auc: 0.8101 - true_positives: 476.0000 - true_negatives: 23694.0000 - false_positives: 306.0000 - false_negatives: 4324.0000 - val_loss: 1.1963 - val_acc: 0.4658 - val_precision: 0.7731 - val_recall: 0.1392 - val_auc: 0.8466 - val_true_positives: 167.0000 - val_true_negatives: 5951.0000 - val_false_positives: 49.0000 - val_false_negatives: 1033.0000\n",
      "Epoch 4/50\n",
      "300/300 [==============================] - 132s 441ms/step - loss: 1.2425 - acc: 0.4421 - precision: 0.6679 - recall: 0.1446 - auc: 0.8301 - true_positives: 694.0000 - true_negatives: 23655.0000 - false_positives: 345.0000 - false_negatives: 4106.0000 - val_loss: 1.1130 - val_acc: 0.5317 - val_precision: 0.7574 - val_recall: 0.2550 - val_auc: 0.8712 - val_true_positives: 306.0000 - val_true_negatives: 5902.0000 - val_false_positives: 98.0000 - val_false_negatives: 894.0000\n",
      "Epoch 5/50\n",
      "300/300 [==============================] - 140s 467ms/step - loss: 1.1363 - acc: 0.5071 - precision: 0.7054 - recall: 0.2440 - auc: 0.8638 - true_positives: 1171.0000 - true_negatives: 23511.0000 - false_positives: 489.0000 - false_negatives: 3629.0000 - val_loss: 0.9841 - val_acc: 0.6275 - val_precision: 0.7968 - val_recall: 0.3758 - val_auc: 0.9043 - val_true_positives: 451.0000 - val_true_negatives: 5885.0000 - val_false_positives: 115.0000 - val_false_negatives: 749.0000\n",
      "Epoch 6/50\n",
      "300/300 [==============================] - 142s 474ms/step - loss: 1.0034 - acc: 0.5840 - precision: 0.7232 - recall: 0.3740 - auc: 0.8971 - true_positives: 1795.0000 - true_negatives: 23313.0000 - false_positives: 687.0000 - false_negatives: 3005.0000 - val_loss: 0.8161 - val_acc: 0.6650 - val_precision: 0.7982 - val_recall: 0.5108 - val_auc: 0.9334 - val_true_positives: 613.0000 - val_true_negatives: 5845.0000 - val_false_positives: 155.0000 - val_false_negatives: 587.0000\n",
      "Epoch 7/50\n",
      "300/300 [==============================] - 142s 473ms/step - loss: 0.9241 - acc: 0.6194 - precision: 0.7240 - recall: 0.4690 - auc: 0.9129 - true_positives: 2251.0000 - true_negatives: 23142.0000 - false_positives: 858.0000 - false_negatives: 2549.0000 - val_loss: 0.8029 - val_acc: 0.6817 - val_precision: 0.7925 - val_recall: 0.5633 - val_auc: 0.9350 - val_true_positives: 676.0000 - val_true_negatives: 5823.0000 - val_false_positives: 177.0000 - val_false_negatives: 524.0000\n",
      "Epoch 8/50\n",
      "300/300 [==============================] - 141s 468ms/step - loss: 0.8579 - acc: 0.6458 - precision: 0.7314 - recall: 0.5202 - auc: 0.9247 - true_positives: 2497.0000 - true_negatives: 23083.0000 - false_positives: 917.0000 - false_negatives: 2303.0000 - val_loss: 1.0183 - val_acc: 0.5933 - val_precision: 0.6724 - val_recall: 0.4583 - val_auc: 0.8969 - val_true_positives: 550.0000 - val_true_negatives: 5732.0000 - val_false_positives: 268.0000 - val_false_negatives: 650.0000\n",
      "Epoch 9/50\n",
      "300/300 [==============================] - 140s 467ms/step - loss: 0.7871 - acc: 0.6833 - precision: 0.7472 - recall: 0.5746 - auc: 0.9365 - true_positives: 2758.0000 - true_negatives: 23067.0000 - false_positives: 933.0000 - false_negatives: 2042.0000 - val_loss: 0.6435 - val_acc: 0.7450 - val_precision: 0.7945 - val_recall: 0.6700 - val_auc: 0.9576 - val_true_positives: 804.0000 - val_true_negatives: 5792.0000 - val_false_positives: 208.0000 - val_false_negatives: 396.0000\n",
      "Epoch 10/50\n",
      "300/300 [==============================] - 140s 465ms/step - loss: 0.7645 - acc: 0.6881 - precision: 0.7547 - recall: 0.5981 - auc: 0.9401 - true_positives: 2871.0000 - true_negatives: 23067.0000 - false_positives: 933.0000 - false_negatives: 1929.0000 - val_loss: 0.6017 - val_acc: 0.7692 - val_precision: 0.7959 - val_recall: 0.7150 - val_auc: 0.9633 - val_true_positives: 858.0000 - val_true_negatives: 5780.0000 - val_false_positives: 220.0000 - val_false_negatives: 342.0000\n",
      "Epoch 11/50\n",
      "300/300 [==============================] - 139s 464ms/step - loss: 0.7257 - acc: 0.7117 - precision: 0.7552 - recall: 0.6377 - auc: 0.9457 - true_positives: 3061.0000 - true_negatives: 23008.0000 - false_positives: 992.0000 - false_negatives: 1739.0000 - val_loss: 0.6554 - val_acc: 0.7275 - val_precision: 0.7551 - val_recall: 0.6808 - val_auc: 0.9551 - val_true_positives: 817.0000 - val_true_negatives: 5735.0000 - val_false_positives: 265.0000 - val_false_negatives: 383.0000\n",
      "Epoch 12/50\n",
      "300/300 [==============================] - 139s 464ms/step - loss: 0.6767 - acc: 0.7283 - precision: 0.7735 - recall: 0.6665 - auc: 0.9525 - true_positives: 3199.0000 - true_negatives: 23063.0000 - false_positives: 937.0000 - false_negatives: 1601.0000 - val_loss: 0.5806 - val_acc: 0.7658 - val_precision: 0.7890 - val_recall: 0.7325 - val_auc: 0.9651 - val_true_positives: 879.0000 - val_true_negatives: 5765.0000 - val_false_positives: 235.0000 - val_false_negatives: 321.0000\n",
      "Epoch 13/50\n",
      "300/300 [==============================] - 139s 463ms/step - loss: 0.6733 - acc: 0.7406 - precision: 0.7765 - recall: 0.6819 - auc: 0.9529 - true_positives: 3273.0000 - true_negatives: 23058.0000 - false_positives: 942.0000 - false_negatives: 1527.0000 - val_loss: 0.5682 - val_acc: 0.7733 - val_precision: 0.7890 - val_recall: 0.7325 - val_auc: 0.9664 - val_true_positives: 879.0000 - val_true_negatives: 5765.0000 - val_false_positives: 235.0000 - val_false_negatives: 321.0000\n",
      "Epoch 14/50\n",
      "300/300 [==============================] - 137s 458ms/step - loss: 0.6546 - acc: 0.7494 - precision: 0.7856 - recall: 0.6954 - auc: 0.9557 - true_positives: 3338.0000 - true_negatives: 23089.0000 - false_positives: 911.0000 - false_negatives: 1462.0000 - val_loss: 0.5877 - val_acc: 0.7550 - val_precision: 0.7780 - val_recall: 0.7183 - val_auc: 0.9637 - val_true_positives: 862.0000 - val_true_negatives: 5754.0000 - val_false_positives: 246.0000 - val_false_negatives: 338.0000\n",
      "Epoch 15/50\n",
      "300/300 [==============================] - 138s 460ms/step - loss: 0.6231 - acc: 0.7556 - precision: 0.7902 - recall: 0.7092 - auc: 0.9598 - true_positives: 3404.0000 - true_negatives: 23096.0000 - false_positives: 904.0000 - false_negatives: 1396.0000 - val_loss: 0.5458 - val_acc: 0.7833 - val_precision: 0.8131 - val_recall: 0.7467 - val_auc: 0.9692 - val_true_positives: 896.0000 - val_true_negatives: 5794.0000 - val_false_positives: 206.0000 - val_false_negatives: 304.0000\n",
      "Epoch 16/50\n",
      "300/300 [==============================] - 140s 466ms/step - loss: 0.6040 - acc: 0.7683 - precision: 0.7947 - recall: 0.7219 - auc: 0.9619 - true_positives: 3465.0000 - true_negatives: 23105.0000 - false_positives: 895.0000 - false_negatives: 1335.0000 - val_loss: 0.5772 - val_acc: 0.7692 - val_precision: 0.7829 - val_recall: 0.7483 - val_auc: 0.9652 - val_true_positives: 898.0000 - val_true_negatives: 5751.0000 - val_false_positives: 249.0000 - val_false_negatives: 302.0000\n",
      "Epoch 17/50\n",
      "300/300 [==============================] - 141s 469ms/step - loss: 0.5910 - acc: 0.7717 - precision: 0.7994 - recall: 0.7346 - auc: 0.9632 - true_positives: 3526.0000 - true_negatives: 23115.0000 - false_positives: 885.0000 - false_negatives: 1274.0000 - val_loss: 0.5550 - val_acc: 0.7783 - val_precision: 0.7995 - val_recall: 0.7542 - val_auc: 0.9674 - val_true_positives: 905.0000 - val_true_negatives: 5773.0000 - val_false_positives: 227.0000 - val_false_negatives: 295.0000\n"
     ]
    },
    {
     "name": "stdout",
     "output_type": "stream",
     "text": [
      "Epoch 18/50\n",
      "300/300 [==============================] - 140s 466ms/step - loss: 0.5777 - acc: 0.7796 - precision: 0.8059 - recall: 0.7412 - auc: 0.9647 - true_positives: 3558.0000 - true_negatives: 23143.0000 - false_positives: 857.0000 - false_negatives: 1242.0000 - val_loss: 0.6456 - val_acc: 0.7300 - val_precision: 0.7465 - val_recall: 0.7142 - val_auc: 0.9573 - val_true_positives: 857.0000 - val_true_negatives: 5709.0000 - val_false_positives: 291.0000 - val_false_negatives: 343.0000\n",
      "Epoch 19/50\n",
      "300/300 [==============================] - 139s 462ms/step - loss: 0.5686 - acc: 0.7829 - precision: 0.8135 - recall: 0.7469 - auc: 0.9660 - true_positives: 3585.0000 - true_negatives: 23178.0000 - false_positives: 822.0000 - false_negatives: 1215.0000 - val_loss: 0.5652 - val_acc: 0.7783 - val_precision: 0.8000 - val_recall: 0.7533 - val_auc: 0.9664 - val_true_positives: 904.0000 - val_true_negatives: 5774.0000 - val_false_positives: 226.0000 - val_false_negatives: 296.0000\n",
      "Epoch 20/50\n",
      "300/300 [==============================] - 138s 461ms/step - loss: 0.5590 - acc: 0.7817 - precision: 0.8080 - recall: 0.7513 - auc: 0.9668 - true_positives: 3606.0000 - true_negatives: 23143.0000 - false_positives: 857.0000 - false_negatives: 1194.0000 - val_loss: 0.4735 - val_acc: 0.8117 - val_precision: 0.8263 - val_recall: 0.7967 - val_auc: 0.9759 - val_true_positives: 956.0000 - val_true_negatives: 5799.0000 - val_false_positives: 201.0000 - val_false_negatives: 244.0000\n",
      "Epoch 21/50\n",
      "300/300 [==============================] - 137s 458ms/step - loss: 0.5443 - acc: 0.7929 - precision: 0.8184 - recall: 0.7663 - auc: 0.9684 - true_positives: 3678.0000 - true_negatives: 23184.0000 - false_positives: 816.0000 - false_negatives: 1122.0000 - val_loss: 0.4595 - val_acc: 0.8300 - val_precision: 0.8457 - val_recall: 0.8175 - val_auc: 0.9771 - val_true_positives: 981.0000 - val_true_negatives: 5821.0000 - val_false_positives: 179.0000 - val_false_negatives: 219.0000\n",
      "Epoch 22/50\n",
      "300/300 [==============================] - 137s 456ms/step - loss: 0.5209 - acc: 0.8073 - precision: 0.8302 - recall: 0.7800 - auc: 0.9709 - true_positives: 3744.0000 - true_negatives: 23234.0000 - false_positives: 766.0000 - false_negatives: 1056.0000 - val_loss: 0.4205 - val_acc: 0.8542 - val_precision: 0.8614 - val_recall: 0.8392 - val_auc: 0.9803 - val_true_positives: 1007.0000 - val_true_negatives: 5838.0000 - val_false_positives: 162.0000 - val_false_negatives: 193.0000\n",
      "Epoch 23/50\n",
      "300/300 [==============================] - 137s 458ms/step - loss: 0.5160 - acc: 0.8065 - precision: 0.8273 - recall: 0.7802 - auc: 0.9715 - true_positives: 3745.0000 - true_negatives: 23218.0000 - false_positives: 782.0000 - false_negatives: 1055.0000 - val_loss: 0.4046 - val_acc: 0.8550 - val_precision: 0.8643 - val_recall: 0.8383 - val_auc: 0.9815 - val_true_positives: 1006.0000 - val_true_negatives: 5842.0000 - val_false_positives: 158.0000 - val_false_negatives: 194.0000\n",
      "Epoch 24/50\n",
      "300/300 [==============================] - 137s 458ms/step - loss: 0.5028 - acc: 0.8148 - precision: 0.8342 - recall: 0.7881 - auc: 0.9732 - true_positives: 3783.0000 - true_negatives: 23248.0000 - false_positives: 752.0000 - false_negatives: 1017.0000 - val_loss: 0.5735 - val_acc: 0.7892 - val_precision: 0.8093 - val_recall: 0.7708 - val_auc: 0.9655 - val_true_positives: 925.0000 - val_true_negatives: 5782.0000 - val_false_positives: 218.0000 - val_false_negatives: 275.0000\n",
      "Epoch 25/50\n",
      "300/300 [==============================] - 137s 458ms/step - loss: 0.4904 - acc: 0.8112 - precision: 0.8267 - recall: 0.7929 - auc: 0.9741 - true_positives: 3806.0000 - true_negatives: 23202.0000 - false_positives: 798.0000 - false_negatives: 994.0000 - val_loss: 0.4118 - val_acc: 0.8558 - val_precision: 0.8630 - val_recall: 0.8450 - val_auc: 0.9814 - val_true_positives: 1014.0000 - val_true_negatives: 5839.0000 - val_false_positives: 161.0000 - val_false_negatives: 186.0000\n",
      "Epoch 26/50\n",
      "300/300 [==============================] - 138s 460ms/step - loss: 0.4744 - acc: 0.8242 - precision: 0.8420 - recall: 0.8081 - auc: 0.9757 - true_positives: 3879.0000 - true_negatives: 23272.0000 - false_positives: 728.0000 - false_negatives: 921.0000 - val_loss: 0.5700 - val_acc: 0.7733 - val_precision: 0.7852 - val_recall: 0.7617 - val_auc: 0.9673 - val_true_positives: 914.0000 - val_true_negatives: 5750.0000 - val_false_positives: 250.0000 - val_false_negatives: 286.0000\n",
      "Epoch 27/50\n",
      "300/300 [==============================] - 137s 458ms/step - loss: 0.4760 - acc: 0.8256 - precision: 0.8413 - recall: 0.8071 - auc: 0.9753 - true_positives: 3874.0000 - true_negatives: 23269.0000 - false_positives: 731.0000 - false_negatives: 926.0000 - val_loss: 0.4395 - val_acc: 0.8325 - val_precision: 0.8444 - val_recall: 0.8275 - val_auc: 0.9798 - val_true_positives: 993.0000 - val_true_negatives: 5817.0000 - val_false_positives: 183.0000 - val_false_negatives: 207.0000\n",
      "Epoch 28/50\n",
      "300/300 [==============================] - 137s 456ms/step - loss: 0.4671 - acc: 0.8265 - precision: 0.8435 - recall: 0.8062 - auc: 0.9763 - true_positives: 3870.0000 - true_negatives: 23282.0000 - false_positives: 718.0000 - false_negatives: 930.0000 - val_loss: 0.6089 - val_acc: 0.7850 - val_precision: 0.8002 - val_recall: 0.7642 - val_auc: 0.9620 - val_true_positives: 917.0000 - val_true_negatives: 5771.0000 - val_false_positives: 229.0000 - val_false_negatives: 283.0000\n",
      "Epoch 29/50\n",
      "300/300 [==============================] - 136s 454ms/step - loss: 0.4649 - acc: 0.8258 - precision: 0.8423 - recall: 0.8077 - auc: 0.9764 - true_positives: 3877.0000 - true_negatives: 23274.0000 - false_positives: 726.0000 - false_negatives: 923.0000 - val_loss: 0.4822 - val_acc: 0.8275 - val_precision: 0.8422 - val_recall: 0.8142 - val_auc: 0.9744 - val_true_positives: 977.0000 - val_true_negatives: 5817.0000 - val_false_positives: 183.0000 - val_false_negatives: 223.0000\n",
      "Epoch 30/50\n",
      "300/300 [==============================] - 137s 457ms/step - loss: 0.4548 - acc: 0.8292 - precision: 0.8458 - recall: 0.8158 - auc: 0.9776 - true_positives: 3916.0000 - true_negatives: 23286.0000 - false_positives: 714.0000 - false_negatives: 884.0000 - val_loss: 0.4332 - val_acc: 0.8392 - val_precision: 0.8532 - val_recall: 0.8283 - val_auc: 0.9797 - val_true_positives: 994.0000 - val_true_negatives: 5829.0000 - val_false_positives: 171.0000 - val_false_negatives: 206.0000\n",
      "Epoch 31/50\n",
      "300/300 [==============================] - 138s 458ms/step - loss: 0.4490 - acc: 0.8302 - precision: 0.8461 - recall: 0.8131 - auc: 0.9783 - true_positives: 3903.0000 - true_negatives: 23290.0000 - false_positives: 710.0000 - false_negatives: 897.0000 - val_loss: 0.4361 - val_acc: 0.8483 - val_precision: 0.8567 - val_recall: 0.8367 - val_auc: 0.9793 - val_true_positives: 1004.0000 - val_true_negatives: 5832.0000 - val_false_positives: 168.0000 - val_false_negatives: 196.0000\n",
      "Epoch 32/50\n",
      "300/300 [==============================] - 137s 456ms/step - loss: 0.4346 - acc: 0.8377 - precision: 0.8518 - recall: 0.8217 - auc: 0.9793 - true_positives: 3944.0000 - true_negatives: 23314.0000 - false_positives: 686.0000 - false_negatives: 856.0000 - val_loss: 0.4823 - val_acc: 0.8258 - val_precision: 0.8325 - val_recall: 0.8200 - val_auc: 0.9757 - val_true_positives: 984.0000 - val_true_negatives: 5802.0000 - val_false_positives: 198.0000 - val_false_negatives: 216.0000\n",
      "Epoch 33/50\n",
      "300/300 [==============================] - 141s 470ms/step - loss: 0.4328 - acc: 0.8390 - precision: 0.8489 - recall: 0.8219 - auc: 0.9798 - true_positives: 3945.0000 - true_negatives: 23298.0000 - false_positives: 702.0000 - false_negatives: 855.0000 - val_loss: 0.4372 - val_acc: 0.8433 - val_precision: 0.8526 - val_recall: 0.8292 - val_auc: 0.9782 - val_true_positives: 995.0000 - val_true_negatives: 5828.0000 - val_false_positives: 172.0000 - val_false_negatives: 205.0000\n",
      "Epoch 34/50\n",
      "300/300 [==============================] - 137s 455ms/step - loss: 0.4214 - acc: 0.8421 - precision: 0.8563 - recall: 0.8294 - auc: 0.9801 - true_positives: 3981.0000 - true_negatives: 23332.0000 - false_positives: 668.0000 - false_negatives: 819.0000 - val_loss: 0.3471 - val_acc: 0.8775 - val_precision: 0.8877 - val_recall: 0.8692 - val_auc: 0.9864 - val_true_positives: 1043.0000 - val_true_negatives: 5868.0000 - val_false_positives: 132.0000 - val_false_negatives: 157.0000\n"
     ]
    },
    {
     "name": "stdout",
     "output_type": "stream",
     "text": [
      "Epoch 35/50\n",
      "300/300 [==============================] - 136s 454ms/step - loss: 0.4147 - acc: 0.8467 - precision: 0.8611 - recall: 0.8304 - auc: 0.9811 - true_positives: 3986.0000 - true_negatives: 23357.0000 - false_positives: 643.0000 - false_negatives: 814.0000 - val_loss: 0.7762 - val_acc: 0.7283 - val_precision: 0.7309 - val_recall: 0.7175 - val_auc: 0.9491 - val_true_positives: 861.0000 - val_true_negatives: 5683.0000 - val_false_positives: 317.0000 - val_false_negatives: 339.0000\n",
      "Epoch 36/50\n",
      "300/300 [==============================] - 137s 457ms/step - loss: 0.4128 - acc: 0.8444 - precision: 0.8550 - recall: 0.8340 - auc: 0.9812 - true_positives: 4003.0000 - true_negatives: 23321.0000 - false_positives: 679.0000 - false_negatives: 797.0000 - val_loss: 0.3731 - val_acc: 0.8575 - val_precision: 0.8725 - val_recall: 0.8442 - val_auc: 0.9850 - val_true_positives: 1013.0000 - val_true_negatives: 5852.0000 - val_false_positives: 148.0000 - val_false_negatives: 187.0000\n",
      "Epoch 37/50\n",
      "300/300 [==============================] - 136s 454ms/step - loss: 0.3969 - acc: 0.8521 - precision: 0.8658 - recall: 0.8390 - auc: 0.9826 - true_positives: 4027.0000 - true_negatives: 23376.0000 - false_positives: 624.0000 - false_negatives: 773.0000 - val_loss: 0.4381 - val_acc: 0.8325 - val_precision: 0.8410 - val_recall: 0.8242 - val_auc: 0.9801 - val_true_positives: 989.0000 - val_true_negatives: 5813.0000 - val_false_positives: 187.0000 - val_false_negatives: 211.0000\n",
      "Epoch 38/50\n",
      "300/300 [==============================] - 137s 455ms/step - loss: 0.3936 - acc: 0.8583 - precision: 0.8688 - recall: 0.8454 - auc: 0.9827 - true_positives: 4058.0000 - true_negatives: 23387.0000 - false_positives: 613.0000 - false_negatives: 742.0000 - val_loss: 0.3334 - val_acc: 0.8850 - val_precision: 0.8916 - val_recall: 0.8775 - val_auc: 0.9875 - val_true_positives: 1053.0000 - val_true_negatives: 5872.0000 - val_false_positives: 128.0000 - val_false_negatives: 147.0000\n",
      "Epoch 39/50\n",
      "300/300 [==============================] - 137s 456ms/step - loss: 0.3880 - acc: 0.8540 - precision: 0.8622 - recall: 0.8433 - auc: 0.9832 - true_positives: 4048.0000 - true_negatives: 23353.0000 - false_positives: 647.0000 - false_negatives: 752.0000 - val_loss: 0.3062 - val_acc: 0.8950 - val_precision: 0.9026 - val_recall: 0.8883 - val_auc: 0.9894 - val_true_positives: 1066.0000 - val_true_negatives: 5885.0000 - val_false_positives: 115.0000 - val_false_negatives: 134.0000\n",
      "Epoch 40/50\n",
      "300/300 [==============================] - 138s 460ms/step - loss: 0.3868 - acc: 0.8565 - precision: 0.8712 - recall: 0.8456 - auc: 0.9835 - true_positives: 4059.0000 - true_negatives: 23400.0000 - false_positives: 600.0000 - false_negatives: 741.0000 - val_loss: 0.3324 - val_acc: 0.8817 - val_precision: 0.8879 - val_recall: 0.8708 - val_auc: 0.9880 - val_true_positives: 1045.0000 - val_true_negatives: 5868.0000 - val_false_positives: 132.0000 - val_false_negatives: 155.0000\n",
      "Epoch 41/50\n",
      "300/300 [==============================] - 138s 460ms/step - loss: 0.3749 - acc: 0.8656 - precision: 0.8773 - recall: 0.8533 - auc: 0.9840 - true_positives: 4096.0000 - true_negatives: 23427.0000 - false_positives: 573.0000 - false_negatives: 704.0000 - val_loss: 0.3463 - val_acc: 0.8758 - val_precision: 0.8848 - val_recall: 0.8708 - val_auc: 0.9870 - val_true_positives: 1045.0000 - val_true_negatives: 5864.0000 - val_false_positives: 136.0000 - val_false_negatives: 155.0000\n",
      "Epoch 42/50\n",
      "300/300 [==============================] - 137s 458ms/step - loss: 0.3785 - acc: 0.8554 - precision: 0.8651 - recall: 0.8454 - auc: 0.9838 - true_positives: 4058.0000 - true_negatives: 23367.0000 - false_positives: 633.0000 - false_negatives: 742.0000 - val_loss: 0.3976 - val_acc: 0.8425 - val_precision: 0.8491 - val_recall: 0.8392 - val_auc: 0.9834 - val_true_positives: 1007.0000 - val_true_negatives: 5821.0000 - val_false_positives: 179.0000 - val_false_negatives: 193.0000\n",
      "Epoch 43/50\n",
      "300/300 [==============================] - 142s 473ms/step - loss: 0.3657 - acc: 0.8656 - precision: 0.8743 - recall: 0.8567 - auc: 0.9850 - true_positives: 4112.0000 - true_negatives: 23409.0000 - false_positives: 591.0000 - false_negatives: 688.0000 - val_loss: 0.4632 - val_acc: 0.8292 - val_precision: 0.8359 - val_recall: 0.8192 - val_auc: 0.9768 - val_true_positives: 983.0000 - val_true_negatives: 5807.0000 - val_false_positives: 193.0000 - val_false_negatives: 217.0000\n",
      "Epoch 44/50\n",
      "300/300 [==============================] - 139s 465ms/step - loss: 0.3601 - acc: 0.8690 - precision: 0.8763 - recall: 0.8604 - auc: 0.9852 - true_positives: 4130.0000 - true_negatives: 23417.0000 - false_positives: 583.0000 - false_negatives: 670.0000 - val_loss: 0.5291 - val_acc: 0.8092 - val_precision: 0.8153 - val_recall: 0.8058 - val_auc: 0.9706 - val_true_positives: 967.0000 - val_true_negatives: 5781.0000 - val_false_positives: 219.0000 - val_false_negatives: 233.0000\n",
      "Epoch 45/50\n",
      "300/300 [==============================] - 139s 465ms/step - loss: 0.3670 - acc: 0.8669 - precision: 0.8761 - recall: 0.8548 - auc: 0.9851 - true_positives: 4103.0000 - true_negatives: 23420.0000 - false_positives: 580.0000 - false_negatives: 697.0000 - val_loss: 0.4152 - val_acc: 0.8558 - val_precision: 0.8616 - val_recall: 0.8508 - val_auc: 0.9814 - val_true_positives: 1021.0000 - val_true_negatives: 5836.0000 - val_false_positives: 164.0000 - val_false_negatives: 179.0000\n",
      "Epoch 46/50\n",
      "300/300 [==============================] - 141s 471ms/step - loss: 0.3630 - acc: 0.8675 - precision: 0.8771 - recall: 0.8612 - auc: 0.9849 - true_positives: 4134.0000 - true_negatives: 23421.0000 - false_positives: 579.0000 - false_negatives: 666.0000 - val_loss: 0.3216 - val_acc: 0.8808 - val_precision: 0.8878 - val_recall: 0.8767 - val_auc: 0.9888 - val_true_positives: 1052.0000 - val_true_negatives: 5867.0000 - val_false_positives: 133.0000 - val_false_negatives: 148.0000\n",
      "Epoch 47/50\n",
      "300/300 [==============================] - 140s 466ms/step - loss: 0.3631 - acc: 0.8648 - precision: 0.8742 - recall: 0.8571 - auc: 0.9854 - true_positives: 4114.0000 - true_negatives: 23408.0000 - false_positives: 592.0000 - false_negatives: 686.0000 - val_loss: 0.3232 - val_acc: 0.8833 - val_precision: 0.8891 - val_recall: 0.8750 - val_auc: 0.9880 - val_true_positives: 1050.0000 - val_true_negatives: 5869.0000 - val_false_positives: 131.0000 - val_false_negatives: 150.0000\n",
      "Epoch 48/50\n",
      "300/300 [==============================] - 140s 466ms/step - loss: 0.3409 - acc: 0.8796 - precision: 0.8869 - recall: 0.8692 - auc: 0.9867 - true_positives: 4172.0000 - true_negatives: 23468.0000 - false_positives: 532.0000 - false_negatives: 628.0000 - val_loss: 0.6194 - val_acc: 0.8075 - val_precision: 0.8141 - val_recall: 0.7992 - val_auc: 0.9612 - val_true_positives: 959.0000 - val_true_negatives: 5781.0000 - val_false_positives: 219.0000 - val_false_negatives: 241.0000\n",
      "Epoch 49/50\n",
      "300/300 [==============================] - 141s 469ms/step - loss: 0.3472 - acc: 0.8717 - precision: 0.8805 - recall: 0.8600 - auc: 0.9863 - true_positives: 4128.0000 - true_negatives: 23440.0000 - false_positives: 560.0000 - false_negatives: 672.0000 - val_loss: 0.3936 - val_acc: 0.8592 - val_precision: 0.8592 - val_recall: 0.8542 - val_auc: 0.9837 - val_true_positives: 1025.0000 - val_true_negatives: 5832.0000 - val_false_positives: 168.0000 - val_false_negatives: 175.0000\n",
      "Epoch 50/50\n",
      "300/300 [==============================] - 140s 466ms/step - loss: 0.3435 - acc: 0.8765 - precision: 0.8841 - recall: 0.8692 - auc: 0.9865 - true_positives: 4172.0000 - true_negatives: 23453.0000 - false_positives: 547.0000 - false_negatives: 628.0000 - val_loss: 0.4348 - val_acc: 0.8442 - val_precision: 0.8495 - val_recall: 0.8375 - val_auc: 0.9801 - val_true_positives: 1005.0000 - val_true_negatives: 5822.0000 - val_false_positives: 178.0000 - val_false_negatives: 195.0000\n",
      "Total training time: 6910.82977604866 seconds\n"
     ]
    }
   ],
   "source": [
    "import time\n",
    "start_time = time.time()\n",
    "history = alexnet_model.fit(\n",
    "    aug.flow(x_train, y_train, batch_size=BS),\n",
    "    validation_data=(x_test, y_test),\n",
    "    steps_per_epoch=len(x_train) // BS,\n",
    "    epochs=EPOCHS,\n",
    "    verbose=1\n",
    ")\n",
    "end_time = time.time()\n",
    "training_time = end_time - start_time\n",
    "print(\"Total training time:\", training_time, \"seconds\")"
   ]
  },
  {
   "cell_type": "code",
   "execution_count": 15,
   "id": "0a67a559",
   "metadata": {},
   "outputs": [
    {
     "name": "stdout",
     "output_type": "stream",
     "text": [
      "Precision: 0.8841\n",
      "Recall: 0.8692\n",
      "F1 Score: 0.8766\n"
     ]
    }
   ],
   "source": [
    "precision = history.history['precision'][-1]\n",
    "recall = history.history['recall'][-1]\n",
    "f1 = 2 * (precision * recall) / (precision + recall)\n",
    "\n",
    "print(f'Precision: {precision:.4f}')\n",
    "print(f'Recall: {recall:.4f}')\n",
    "print(f'F1 Score: {f1:.4f}')"
   ]
  },
  {
   "cell_type": "code",
   "execution_count": 16,
   "id": "322441dc",
   "metadata": {},
   "outputs": [
    {
     "name": "stdout",
     "output_type": "stream",
     "text": [
      "Training Accuracy: 0.8765\n",
      "Validation Accuracy: 0.8442\n"
     ]
    }
   ],
   "source": [
    "acc = history.history['acc']\n",
    "val_acc = history.history['val_acc']\n",
    "\n",
    "# Print the final accuracy values\n",
    "print(f'Training Accuracy: {acc[-1]:.4f}')\n",
    "print(f'Validation Accuracy: {val_acc[-1]:.4f}')\n",
    "\n",
    "\n"
   ]
  },
  {
   "cell_type": "code",
   "execution_count": 17,
   "id": "136d0a55",
   "metadata": {},
   "outputs": [
    {
     "name": "stdout",
     "output_type": "stream",
     "text": [
      "Precision: 0.8841\n",
      "Recall: 0.8692\n",
      "AUC: 0.9865\n",
      "True Positives: 4172.0000\n",
      "True Negatives: 23453.0000\n",
      "False Positives: 547.0000\n",
      "False Negatives: 628.0000\n"
     ]
    }
   ],
   "source": [
    "# Print additional metrics for training\n",
    "print(f\"Precision: {history.history['precision'][-1]:.4f}\")\n",
    "\n",
    "print(f\"Recall: {history.history['recall'][-1]:.4f}\")\n",
    "print(f\"AUC: {history.history['auc'][-1]:.4f}\")\n",
    "print(f\"True Positives: {history.history['true_positives'][-1]:.4f}\")\n",
    "print(f\"True Negatives: {history.history['true_negatives'][-1]:.4f}\")\n",
    "print(f\"False Positives: {history.history['false_positives'][-1]:.4f}\")\n",
    "print(f\"False Negatives: {history.history['false_negatives'][-1]:.4f}\")"
   ]
  },
  {
   "cell_type": "code",
   "execution_count": null,
   "id": "e9619d1f",
   "metadata": {},
   "outputs": [],
   "source": []
  },
  {
   "cell_type": "code",
   "execution_count": 19,
   "id": "b3f966f7",
   "metadata": {},
   "outputs": [
    {
     "name": "stdout",
     "output_type": "stream",
     "text": [
      "38/38 [==============================] - 2s 59ms/step - loss: 0.4348 - acc: 0.8442 - precision: 0.8495 - recall: 0.8375 - auc: 0.9801 - true_positives: 1005.0000 - true_negatives: 5822.0000 - false_positives: 178.0000 - false_negatives: 195.0000\n",
      "Testing Accuracy: 0.8442\n"
     ]
    }
   ],
   "source": [
    "# ... (previous code)\n",
    "\n",
    "# Evaluate the model on the test set\n",
    "test_metrics = alexnet_model.evaluate(x_test, y_test)\n",
    "\n",
    "# Extract individual metric values\n",
    "test_loss, test_accuracy, precision, recall, auc, true_positives, true_negatives, false_positives, false_negatives = test_metrics\n",
    "\n",
    "# Print the testing accuracy\n",
    "print(f\"Testing Accuracy: {test_accuracy:.4f}\")\n"
   ]
  },
  {
   "cell_type": "code",
   "execution_count": 20,
   "id": "c9f69ff8",
   "metadata": {},
   "outputs": [
    {
     "name": "stdout",
     "output_type": "stream",
     "text": [
      "dict_keys(['loss', 'acc', 'precision', 'recall', 'auc', 'true_positives', 'true_negatives', 'false_positives', 'false_negatives', 'val_loss', 'val_acc', 'val_precision', 'val_recall', 'val_auc', 'val_true_positives', 'val_true_negatives', 'val_false_positives', 'val_false_negatives'])\n"
     ]
    },
    {
     "data": {
      "image/png": "[encoded data removed]",
      "text/plain": [
       "<Figure size 432x288 with 1 Axes>"
      ]
     },
     "metadata": {
      "needs_background": "light"
     },
     "output_type": "display_data"
    },
    {
     "data": {
      "image/png": "[encoded data removed]",
      "text/plain": [
       "<Figure size 432x288 with 1 Axes>"
      ]
     },
     "metadata": {
      "needs_background": "light"
     },
     "output_type": "display_data"
    }
   ],
   "source": [
    "print(history.history.keys())\n",
    "plt.plot(history.history['acc'])\n",
    "plt.plot(history.history['val_acc'])\n",
    "plt.title('model accuracy')\n",
    "plt.ylabel('accuracy')\n",
    "plt.xlabel('epoch')\n",
    "plt.legend(['train', 'test'], loc='upper left')\n",
    "plt.show()\n",
    "plt.plot(history.history['loss'])\n",
    "plt.plot(history.history['val_loss'])\n",
    "plt.title('model loss')\n",
    "plt.ylabel('loss')\n",
    "plt.xlabel('epoch')\n",
    "plt.legend(['train', 'test'], loc='upper left')\n",
    "plt.show()"
   ]
  },
  {
   "cell_type": "code",
   "execution_count": null,
   "id": "c52765c6",
   "metadata": {},
   "outputs": [],
   "source": []
  },
  {
   "cell_type": "code",
   "execution_count": 21,
   "id": "4043a56d",
   "metadata": {},
   "outputs": [
    {
     "name": "stdout",
     "output_type": "stream",
     "text": [
      "38/38 [==============================] - 3s 67ms/step\n"
     ]
    },
    {
     "data": {
      "image/png": "[encoded data removed]",
      "text/plain": [
       "<Figure size 576x432 with 2 Axes>"
      ]
     },
     "metadata": {
      "needs_background": "light"
     },
     "output_type": "display_data"
    }
   ],
   "source": [
    "from sklearn.metrics import confusion_matrix\n",
    "import seaborn as sns\n",
    "\n",
    "# Predicting the classes for the test set\n",
    "y_pred = alexnet_model.predict(x_test)\n",
    "y_pred_classes = np.argmax(y_pred, axis=1)\n",
    "y_true_classes = np.argmax(y_test, axis=1)\n",
    "\n",
    "# Generate confusion matrix\n",
    "conf_matrix = confusion_matrix(y_true_classes, y_pred_classes)\n",
    "\n",
    "# Plot confusion matrix\n",
    "plt.figure(figsize=(8, 6))\n",
    "sns.heatmap(conf_matrix, annot=True, fmt='d', cmap='Blues', xticklabels=label_binarizer.classes_, yticklabels=label_binarizer.classes_)\n",
    "plt.xlabel('Predicted labels')\n",
    "plt.ylabel('True labels')\n",
    "plt.title('Confusion Matrix')\n",
    "plt.show()\n"
   ]
  },
  {
   "cell_type": "code",
   "execution_count": null,
   "id": "92def1cd",
   "metadata": {},
   "outputs": [],
   "source": []
  },
  {
   "cell_type": "code",
   "execution_count": 23,
   "id": "080f7bc9",
   "metadata": {},
   "outputs": [
    {
     "name": "stderr",
     "output_type": "stream",
     "text": [
      "/Library/Frameworks/Python.framework/Versions/3.9/lib/python3.9/site-packages/keras/src/engine/training.py:3103: UserWarning: You are saving your model as an HDF5 file via `model.save()`. This file format is considered legacy. We recommend using instead the native Keras format, e.g. `model.save('my_model.keras')`.\n",
      "  saving_api.save_model(\n"
     ]
    }
   ],
   "source": [
    "alexnet_model.save(f'./model/alexnet_combined.h5')"
   ]
  },
  {
   "cell_type": "code",
   "execution_count": 24,
   "id": "efdfd59d",
   "metadata": {},
   "outputs": [
    {
     "data": {
      "text/plain": [
       "[['.DS_Store',\n",
       "  'customCNN_combined.h5',\n",
       "  '9',\n",
       "  '7',\n",
       "  '111',\n",
       "  '6',\n",
       "  '1',\n",
       "  'AlexNet_nb.h5',\n",
       "  'vgg_combined.h5',\n",
       "  'alexnet_combined.h5',\n",
       "  'resnet50_combined.h5',\n",
       "  'resnet50.h5',\n",
       "  'vgg16_nb.h5',\n",
       "  'mobilenet_combined.h5',\n",
       "  'customcnn_nb.h5',\n",
       "  '112',\n",
       "  'MobieNet_nb.h5',\n",
       "  '4',\n",
       "  '3',\n",
       "  '12',\n",
       "  '2',\n",
       "  '5']]"
      ]
     },
     "execution_count": 24,
     "metadata": {},
     "output_type": "execute_result"
    }
   ],
   "source": [
    "import os\n",
    "[  os.listdir(\"./model\")]"
   ]
  },
  {
   "cell_type": "code",
   "execution_count": null,
   "id": "daa6fc77",
   "metadata": {},
   "outputs": [],
   "source": []
  },
  {
   "cell_type": "code",
   "execution_count": null,
   "id": "74d313e5",
   "metadata": {},
   "outputs": [],
   "source": [
    "# import numpy as np\n",
    "# from keras.models import load_model\n",
    "# from keras.preprocessing import image\n",
    "# model_alexnet=load_model(f'./model/mobilenet3d.h5')"
   ]
  },
  {
   "cell_type": "code",
   "execution_count": null,
   "id": "8be2e3b0",
   "metadata": {},
   "outputs": [],
   "source": []
  },
  {
   "cell_type": "code",
   "execution_count": null,
   "id": "f79d8fb2",
   "metadata": {},
   "outputs": [],
   "source": []
  }
 ],
 "metadata": {
  "kernelspec": {
   "display_name": "Python 3 (ipykernel)",
   "language": "python",
   "name": "python3"
  },
  "language_info": {
   "codemirror_mode": {
    "name": "ipython",
    "version": 3
   },
   "file_extension": ".py",
   "mimetype": "text/x-python",
   "name": "python",
   "nbconvert_exporter": "python",
   "pygments_lexer": "ipython3",
   "version": "3.9.5"
  }
 },
 "nbformat": 4,
 "nbformat_minor": 5
}
